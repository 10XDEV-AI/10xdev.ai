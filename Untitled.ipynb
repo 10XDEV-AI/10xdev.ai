{
 "cells": [
  {
   "cell_type": "code",
   "execution_count": 20,
   "id": "18a6b878",
   "metadata": {},
   "outputs": [
    {
     "name": "stdout",
     "output_type": "stream",
     "text": [
      "done\n"
     ]
    }
   ],
   "source": [
    "import subprocess\n",
    "\n",
    "# old and new file paths\n",
    "old_file_path = 'repo/index.html'\n",
    "new_file_path = 'repo/login-page2.js'\n",
    "\n",
    "# command to generate diff\n",
    "command = f'diff {old_file_path} {new_file_path}'\n",
    "\n",
    "# run command and capture output\n",
    "result = subprocess.run(command, shell=True, stdout=subprocess.PIPE)\n",
    "\n",
    "# write output to file\n",
    "with open('gdiff.txt', 'w') as file_out:\n",
    "    file_out.write(result.stdout.decode())\n",
    "    print(\"done\")\n"
   ]
  },
  {
   "cell_type": "code",
   "execution_count": 84,
   "id": "93fe32c1",
   "metadata": {},
   "outputs": [
    {
     "name": "stdout",
     "output_type": "stream",
     "text": [
      "[('change', (1, 2), (1, 4), ['<!DOCTYPE html>', '<html lang=\"en\">'], ['//Login Button On Click Actions', 'const loginForm = document.getElementById(\"login-form\");', 'const loginButton = document.getElementById(\"login-form-submit\");', 'const loginErrorMsg = document.getElementById(\"login-error-msg\");']), ('change', 4, (6, 7), ['<!- File References ->'], ['Yo', 'Yo Honey SInghhhhhh']), ('change', (6, 12), (9, 12), ['<head>', '  <meta charset=\"UTF-8\">', '  <meta name=\"viewport\" content=\"width=device-width, initial-scale=1.0\">', '  <title>Login</title>', '  <link rel=\"stylesheet\" href=\"style.css\">', '  <script defer src=\"login-page.js\"></script>', '</head>'], ['loginButton.addEventListener(\"click\", (e) => {', '    e.preventDefault();', '    const username = loginForm.username.value;', '    const password = loginForm.password.value; Keep th windows closed, AIR Force will come in']), ('change', (14, 16), (14, 20), ['<body>', '<!-- Login Page Holder -->', '<main id=\"main-holder\">'], ['    if (username === \"user\" && password === \"web_dev\") {', '        alert(\"You have successfully logged in.\");', '        location.reload();', '    } else {', '        loginErrorMsg.style.opacity = 1;', '    }', '})']), ('change', (18, 30), 22, ['  <h1 id=\"login-header\">Login</h1>', '  <div id=\"login-error-msg-holder\">', '    <p id=\"login-error-msg\">Invalid username <span id=\"error-msg-second-line\">and/or password</span></p>', '  </div>', '  <!- Input Fields ->', '  <form id=\"login-form\">', '    <input type=\"text\" name=\"username\" id=\"username-field\" class=\"login-form-field\" placeholder=\"Username\">', '    <input type=\"password\" name=\"password\" id=\"password-field\" class=\"login-form-field\" placeholder=\"Password\">', '    <input type=\"submit\" value=\"Login\" id=\"login-form-submit\">', '  </form>', '</main>', '</body>', '</html>'], ['No No Money singh'])]\n"
     ]
    }
   ],
   "source": [
    "def parse_patch(patch_string):\n",
    "    lines = patch_string.split(\"\\n\")\n",
    "    commands = []\n",
    "    i=0\n",
    "    j=0\n",
    "    \n",
    "    lines = [line for line in patch_string.split(\"\\n\") if not line.startswith(\"\\\\\")]\n",
    "\n",
    "    \n",
    "    while (i < len(lines)-1):\n",
    "        #print(\"Ho\")\n",
    "        #print(lines[i][0])\n",
    "        if(lines[i][0] not in['>','<',\"\\\\\",'-']):\n",
    "            #print(\"Command = \" + lines[i])\n",
    "            j=i+1\n",
    "            #print(j)\n",
    "            if lines[i].find(\"a\") > 0:\n",
    "                    cmd = lines[i].split(\"a\")[0]\n",
    "                    new_line_numbers = tuple(map(int, lines[i].split(\"a\")[1].split(\",\")))\n",
    "                    count = new_line_numbers[1]-new_line_numbers[0]\n",
    "                    #print(count)\n",
    "                    new_lines = lines[i+1:i+count+2]\n",
    "                    command = (\"add\", cmd, new_line_numbers,new_lines)\n",
    "                    #print(command)\n",
    "            elif lines[i].find(\"c\") > 0:\n",
    "                cmd = lines[i].split(\"c\")\n",
    "                pre = cmd[0]\n",
    "                post = cmd[1]\n",
    "                new_count=0\n",
    "                old_count=0\n",
    "                \n",
    "                if pre.find(\",\")>0:\n",
    "                    old_line_numbers = tuple(map(int, lines[i].split(\"c\")[0].split(\",\")))\n",
    "                    old_count = old_line_numbers[1]-old_line_numbers[0]+1\n",
    "                    #old_lines = lines[i+1:i+old_count+1]\n",
    "                else:\n",
    "                    old_line_numbers = int(pre)\n",
    "                    #print(type(old_line_numbers))\n",
    "                    old_count=1\n",
    "                    #old_lines = lines[i+1:i+old_count+2]\n",
    "                \n",
    "                \n",
    "                if post.find(\",\")>0:\n",
    "                    #print(\"Pre = \")\n",
    "                    #print(pre)\n",
    "                    new_line_numbers = tuple(map(int, lines[i].split(\"c\")[1].split(\",\")))\n",
    "                    new_count = new_line_numbers[1]-new_line_numbers[0]+1\n",
    "                    #new_lines = lines[i+1:i+new_count+2]\n",
    "                else:\n",
    "                    new_line_numbers = int(post)\n",
    "                    new_count=1\n",
    "                    #new_lines = lines[i+1:i+new_count+1]\n",
    "               \n",
    "                old_lines = [line[2:] for line in lines[i+1:i+old_count+1]]\n",
    "                new_lines = [line[2:] for line in lines[i+old_count+2:i+old_count+new_count+2]]\n",
    "                command = (\"change\", old_line_numbers, new_line_numbers,old_lines,new_lines)\n",
    "                #print(command)\n",
    "            elif lines[i].find(\"d\") > 0:\n",
    "                cmd = lines[i].split(\"d\")[0]\n",
    "                old_line_numbers = tuple(map(int, lines[i].split(\"d\")[0].split(\",\")))\n",
    "                count = old_line_numbers[1]-old_line_numbers[0]\n",
    "                #print(count)\n",
    "                new_lines = lines[i+1:i+count+2]\n",
    "                command = (\"del\", cmd, new_line_numbers,old_lines)\n",
    "                #print(command)\n",
    "            \n",
    "            commands.append(command)\n",
    "            while((j<len(lines)-1) and lines[j][0] in ['>','<',\"\\\\\",'-']):\n",
    "                #print(str(j-i)+\" |\"+lines[j])\n",
    "                j+=1\n",
    "            #print(\" \")\n",
    "        i=j\n",
    "    return commands\n",
    "\n",
    "with open('gdiff.txt') as f:\n",
    "    dif = f.read()\n",
    "    #print(dif)\n",
    "    #print(type(dif))\n",
    "    print(parse_patch(dif))"
   ]
  },
  {
   "cell_type": "code",
   "execution_count": null,
   "id": "b083705a",
   "metadata": {},
   "outputs": [],
   "source": []
  }
 ],
 "metadata": {
  "kernelspec": {
   "display_name": "Python 3 (ipykernel)",
   "language": "python",
   "name": "python3"
  },
  "language_info": {
   "codemirror_mode": {
    "name": "ipython",
    "version": 3
   },
   "file_extension": ".py",
   "mimetype": "text/x-python",
   "name": "python",
   "nbconvert_exporter": "python",
   "pygments_lexer": "ipython3",
   "version": "3.10.10"
  }
 },
 "nbformat": 4,
 "nbformat_minor": 5
}
