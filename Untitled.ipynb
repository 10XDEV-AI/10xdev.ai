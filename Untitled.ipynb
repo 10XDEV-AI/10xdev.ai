{
 "cells": [
  {
   "cell_type": "code",
   "execution_count": 36,
   "id": "80a5a14f",
   "metadata": {},
   "outputs": [
    {
     "data": {
      "text/plain": [
       "'This file is a React component called \"Clone\" that is responsible for rendering a form to clone a Git repository. It imports various dependencies such as React, useState, useContext, useEffect, and others. It also imports components and styles from other files in the codebase.\\n\\nThe component initializes the AOS library, sets up state variables using the useState hook, and retrieves the hostname and navigation function using the useNavigate hook. It also sets up state variables for authentication and repositories.\\n\\nThe component defines functions for handling the cloning process, including handling public and private repositories, handling input changes, and selecting a branch. It also defines a function for searching repositories.\\n\\nThe component uses the useEffect hook to handle authentication and retrieve repositories when the component mounts. It also uses the useEffect hook to initialize the AOS library.\\n\\nThe component renders a form for cloning a repository, including input fields for the repository URL and branch selection. It also renders buttons for connecting with GitHub and displaying repositories. The component conditionally renders loading indicators and displays the cloned branches or repositories based on the user\\'s actions.'"
      ]
     },
     "metadata": {},
     "output_type": "display_data"
    },
    {
     "data": {
      "text/plain": [
       "' React component responsible for rendering a form to clone a Git repository and handling the cloning process.\\n'"
      ]
     },
     "metadata": {},
     "output_type": "display_data"
    },
    {
     "name": "stdout",
     "output_type": "stream",
     "text": [
      "\n",
      "-----\n",
      "\n"
     ]
    },
    {
     "data": {
      "text/plain": [
       "'This file is a React component called `BranchesList` that displays a table of branches. It uses the `useState` hook from React to manage the current page of the pagination. The component receives an array of branches as props and renders a table row for each branch. It also includes pagination functionality with previous and next buttons, as well as numbered buttons for each page. The number of items per page is set to 10.'"
      ]
     },
     "metadata": {},
     "output_type": "display_data"
    },
    {
     "data": {
      "text/plain": [
       "' React component that displays a table of branches and handles pagination functionality.\\n'"
      ]
     },
     "metadata": {},
     "output_type": "display_data"
    },
    {
     "name": "stdout",
     "output_type": "stream",
     "text": [
      "\n",
      "-----\n",
      "\n"
     ]
    },
    {
     "data": {
      "text/plain": [
       "'This file, Test.py, is a test script that imports two functions, `summarize_str` and `summarize_big`, from the `utilities.summarize` module. It also imports the `os` module.\\n\\nThe script defines a sample input string, a sample filename, and a sample email address. It then creates a full file path by joining various directory and file names using the `os.path.join` function.\\n\\nThe script also defines a function called `test_summarize_big`. This function attempts to open the file specified by the full file path, reads its contents, and passes the file contents, sample filename, and sample email to the `summarize_big` function. The output of the `summarize_big` function is then printed if it exists, otherwise a message indicating that the summarization failed is printed.\\n\\nFinally, the script checks if it is being run as the main module and if so, it calls the `test_summarize_big` function.'"
      ]
     },
     "metadata": {},
     "output_type": "display_data"
    },
    {
     "data": {
      "text/plain": [
       "' Test script that imports functions from the utilities.summarize module and the os module. It tests the summarize_big function by reading the contents of a file and passing it to the function.\\n'"
      ]
     },
     "metadata": {},
     "output_type": "display_data"
    },
    {
     "name": "stdout",
     "output_type": "stream",
     "text": [
      "\n",
      "-----\n",
      "\n"
     ]
    },
    {
     "data": {
      "text/plain": [
       "\"This file is the JavaScript code for the landing page of the 10XDEV.AI website. It imports React and useEffect from the 'react' library and also imports the CSS file and an image file. \\n\\nThe code defines a functional component called LandingPage. Inside the component, it checks the hostname of the current window and sets the redirectUri variable based on the hostname.\\n\\nThe component also uses the useEffect hook to remove an item from the local storage.\\n\\nThe return statement of the component contains the JSX code for the landing page layout. It includes a header, sections with content, and a footer. The JSX code includes HTML elements with CSS classes for styling and dynamic values for URLs and image sources.\\n\\nAt the end of the file, there is a script tag that imports an external JavaScript library called Flowbite.\""
      ]
     },
     "metadata": {},
     "output_type": "display_data"
    },
    {
     "data": {
      "text/plain": [
       "nan"
      ]
     },
     "metadata": {},
     "output_type": "display_data"
    },
    {
     "name": "stdout",
     "output_type": "stream",
     "text": [
      "\n",
      "-----\n",
      "\n"
     ]
    },
    {
     "data": {
      "text/plain": [
       "'The file trainAI.py contains functions for training an AI model on a given repository. \\n\\nThe function `summarize_file` takes in the repository name, file path, an index value, a user logger, and an email. It first checks if the file is a text file, and if not, it logs a message and returns \"Ignore\". If the file is an .ipynb file, it converts it to a human-readable format. Then, it reads the contents of the file and checks if it is too long. If it is, it logs a message and returns \"File content too long\". Otherwise, it calls the `summarize_str` function to generate a summary of the file contents. It returns the updated index value and the generated summary.\\n\\nThe function `train_AI` takes in the repository name, a user logger, and an email. It first tracks an event using the `track_event` function. Then, it creates a file path for saving the trained AI model. It calls the `files2analyse` function to get a list of file paths to analyze in the repository. If the list is empty, it creates an empty dataframe and saves it as a CSV file. Otherwise, it creates a dataframe with the file paths and initializes the \\'summary\\' and \\'embedding\\' columns as empty. It then iterates over each file path in the dataframe and calls the `summarize_file` function to generate a summary and embedding for each file. If the summary is not \"Ignore\", it adds the summary and embedding to the dataframe. After analyzing all files, it removes any rows with \"Ignore\" in the \\'summary\\' column. It saves the dataframe as a CSV file. It then selects the repository, creates a project summary, and creates a clone of the repository. Finally, it logs a message indicating the completion of the training process.'"
      ]
     },
     "metadata": {},
     "output_type": "display_data"
    },
    {
     "data": {
      "text/plain": [
       "\" Contains functions for training an AI model on a given repository. The summarize_file function generates a summary of a file's contents, and the train_AI function analyzes all files in a repository, creates a project summary, and creates a clone of the repository.\\n\""
      ]
     },
     "metadata": {},
     "output_type": "display_data"
    },
    {
     "name": "stdout",
     "output_type": "stream",
     "text": [
      "\n",
      "-----\n",
      "\n"
     ]
    },
    {
     "data": {
      "text/plain": [
       "'This file is a React component called \"Repos\" that displays a list of repositories. It imports various dependencies such as React, useEffect, useState, and useContext from the \\'react\\' library, as well as other components and icons. \\n\\nThe component fetches data from an API endpoint using the callAPI function and sets the fetched data in the \\'repos\\' state variable using the useState hook. It also uses the useEffect hook to fetch the data when the component mounts.\\n\\nThe component defines several callback functions for handling different actions such as deleting a repository, selecting a repository, training a repository, changing the branch of a repository, and navigating to the files of a repository.\\n\\nThe render function displays the list of repositories as cards, with each card showing the repository\\'s directory, branch, and whether it has been trained or not. It also provides buttons for performing actions such as training, selecting, deleting, and viewing the files of a repository.\\n\\nIf the isLoading state variable is true, a loading spinner is displayed. Otherwise, the list of repositories and a button for setting up a new repository are shown.'"
      ]
     },
     "metadata": {},
     "output_type": "display_data"
    },
    {
     "data": {
      "text/plain": [
       "' React component that displays a list of repositories and handles various actions such as deleting, selecting, and training a repository. It fetches data from an API endpoint and renders the list of repositories as cards.\\n'"
      ]
     },
     "metadata": {},
     "output_type": "display_data"
    },
    {
     "name": "stdout",
     "output_type": "stream",
     "text": [
      "\n",
      "-----\n",
      "\n"
     ]
    }
   ],
   "source": [
    "import pandas as pd\n",
    "filename = \"../user/\" + \"prathamthepro@gmail.com\" + \"/AIFiles/\" + \"10xdev.ai\" + \".csv\"\n",
    "fs = pd.read_csv(filename)\n",
    "\n",
    "for index in range(60,66):\n",
    "    display(fs['summary'][index])\n",
    "    display(fs['role'][index])\n",
    "    print(\"\\n-----\\n\")"
   ]
  },
  {
   "cell_type": "code",
   "execution_count": 34,
   "id": "6e6ec7b5",
   "metadata": {},
   "outputs": [
    {
     "data": {
      "text/plain": [
       "52                  utilities/rates.py\n",
       "53    10xdev/src/UiComponents/alert.js\n",
       "54            10xdev/src/NewWelcome.js\n",
       "55           10xdev/src/LeftWelcome.js\n",
       "56         utilities/notebook_utils.py\n",
       "66         10xdev/src/Branch/Branch.js\n",
       "Name: file_path, dtype: object"
      ]
     },
     "metadata": {},
     "output_type": "display_data"
    }
   ],
   "source": [
    "display(fs[pd.isnull(fs[\"role\"])]['file_path'])"
   ]
  },
  {
   "cell_type": "code",
   "execution_count": null,
   "id": "f6cadf7f",
   "metadata": {},
   "outputs": [],
   "source": []
  }
 ],
 "metadata": {
  "kernelspec": {
   "display_name": "Python 3 (ipykernel)",
   "language": "python",
   "name": "python3"
  },
  "language_info": {
   "codemirror_mode": {
    "name": "ipython",
    "version": 3
   },
   "file_extension": ".py",
   "mimetype": "text/x-python",
   "name": "python",
   "nbconvert_exporter": "python",
   "pygments_lexer": "ipython3",
   "version": "3.10.10"
  }
 },
 "nbformat": 4,
 "nbformat_minor": 5
}
