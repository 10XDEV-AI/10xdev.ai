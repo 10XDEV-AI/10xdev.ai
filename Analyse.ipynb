{
 "cells": [
  {
   "cell_type": "code",
   "execution_count": 33,
   "id": "363cd583",
   "metadata": {},
   "outputs": [
    {
     "data": {
      "text/html": [
       "<div>\n",
       "<style scoped>\n",
       "    .dataframe tbody tr th:only-of-type {\n",
       "        vertical-align: middle;\n",
       "    }\n",
       "\n",
       "    .dataframe tbody tr th {\n",
       "        vertical-align: top;\n",
       "    }\n",
       "\n",
       "    .dataframe thead th {\n",
       "        text-align: right;\n",
       "    }\n",
       "</style>\n",
       "<table border=\"1\" class=\"dataframe\">\n",
       "  <thead>\n",
       "    <tr style=\"text-align: right;\">\n",
       "      <th></th>\n",
       "      <th>file_path</th>\n",
       "      <th>summary</th>\n",
       "      <th>embedding</th>\n",
       "      <th>role</th>\n",
       "    </tr>\n",
       "  </thead>\n",
       "  <tbody>\n",
       "    <tr>\n",
       "      <th>0</th>\n",
       "      <td>application.py</td>\n",
       "      <td>This file contains the Flask application that ...</td>\n",
       "      <td>[[0.001754955854266882, -0.0005107514443807304...</td>\n",
       "      <td>Flask backend that serves as the API for the ...</td>\n",
       "    </tr>\n",
       "    <tr>\n",
       "      <th>1</th>\n",
       "      <td>syncAI.py</td>\n",
       "      <td>This file contains a function called `syncAI` ...</td>\n",
       "      <td>[[-0.00534781813621521, -0.01734195463359356, ...</td>\n",
       "      <td>Contains a function called `syncAI` that sync...</td>\n",
       "    </tr>\n",
       "    <tr>\n",
       "      <th>2</th>\n",
       "      <td>10xdev/src/FileTree.css</td>\n",
       "      <td>This file contains CSS styles for a file tree ...</td>\n",
       "      <td>[[-0.019509369507431984, 0.02310207113623619, ...</td>\n",
       "      <td>CSS file for the file tree component in the f...</td>\n",
       "    </tr>\n",
       "    <tr>\n",
       "      <th>3</th>\n",
       "      <td>10xdev/src/Navbar.js</td>\n",
       "      <td>This file exports a functional component calle...</td>\n",
       "      <td>[[-0.014928736723959446, 0.015843315050005913,...</td>\n",
       "      <td>Component for the navigation bar in the front...</td>\n",
       "    </tr>\n",
       "    <tr>\n",
       "      <th>4</th>\n",
       "      <td>10xdev/src/User.js</td>\n",
       "      <td>This file defines a functional component calle...</td>\n",
       "      <td>[[-0.0261446014046669, 0.005377082619816065, 0...</td>\n",
       "      <td>Component for the user in the frontend\\n</td>\n",
       "    </tr>\n",
       "    <tr>\n",
       "      <th>...</th>\n",
       "      <td>...</td>\n",
       "      <td>...</td>\n",
       "      <td>...</td>\n",
       "      <td>...</td>\n",
       "    </tr>\n",
       "    <tr>\n",
       "      <th>77</th>\n",
       "      <td>10xdev/src/OpenSource/Sync.js</td>\n",
       "      <td>This file is a JavaScript module that exports ...</td>\n",
       "      <td>[[-0.005287580657750368, 0.014662577770650387,...</td>\n",
       "      <td>This file exports a component called \"Sync\" t...</td>\n",
       "    </tr>\n",
       "    <tr>\n",
       "      <th>78</th>\n",
       "      <td>10xdev/src/OpenSource/PublicChat.js</td>\n",
       "      <td>This file is a JavaScript module that exports ...</td>\n",
       "      <td>[[-0.01649322919547558, 0.028781745582818985, ...</td>\n",
       "      <td>This file exports a component called \"Chat\" t...</td>\n",
       "    </tr>\n",
       "    <tr>\n",
       "      <th>79</th>\n",
       "      <td>10xdev/src/OpenSource/LeftWelcome.js</td>\n",
       "      <td>This file is a JavaScript module that exports ...</td>\n",
       "      <td>[[-0.008484292775392532, -0.014249172993004322...</td>\n",
       "      <td>This file exports a component called LeftWelc...</td>\n",
       "    </tr>\n",
       "    <tr>\n",
       "      <th>80</th>\n",
       "      <td>10xdev/src/OpenSource/PublicRouter.js</td>\n",
       "      <td>This file is a JavaScript module that exports ...</td>\n",
       "      <td>[[0.008054321631789207, 0.023335611447691917, ...</td>\n",
       "      <td>This file exports a component called PublicRo...</td>\n",
       "    </tr>\n",
       "    <tr>\n",
       "      <th>81</th>\n",
       "      <td>utilities/mixpanel.py</td>\n",
       "      <td>The file utilities/mixpanel.py contains a func...</td>\n",
       "      <td>[[-0.026931894943118095, -0.003191998461261391...</td>\n",
       "      <td>This file contains a function called track_ev...</td>\n",
       "    </tr>\n",
       "  </tbody>\n",
       "</table>\n",
       "<p>82 rows × 4 columns</p>\n",
       "</div>"
      ],
      "text/plain": [
       "                                file_path  \\\n",
       "0                          application.py   \n",
       "1                               syncAI.py   \n",
       "2                 10xdev/src/FileTree.css   \n",
       "3                    10xdev/src/Navbar.js   \n",
       "4                      10xdev/src/User.js   \n",
       "..                                    ...   \n",
       "77          10xdev/src/OpenSource/Sync.js   \n",
       "78    10xdev/src/OpenSource/PublicChat.js   \n",
       "79   10xdev/src/OpenSource/LeftWelcome.js   \n",
       "80  10xdev/src/OpenSource/PublicRouter.js   \n",
       "81                  utilities/mixpanel.py   \n",
       "\n",
       "                                              summary  \\\n",
       "0   This file contains the Flask application that ...   \n",
       "1   This file contains a function called `syncAI` ...   \n",
       "2   This file contains CSS styles for a file tree ...   \n",
       "3   This file exports a functional component calle...   \n",
       "4   This file defines a functional component calle...   \n",
       "..                                                ...   \n",
       "77  This file is a JavaScript module that exports ...   \n",
       "78  This file is a JavaScript module that exports ...   \n",
       "79  This file is a JavaScript module that exports ...   \n",
       "80  This file is a JavaScript module that exports ...   \n",
       "81  The file utilities/mixpanel.py contains a func...   \n",
       "\n",
       "                                            embedding  \\\n",
       "0   [[0.001754955854266882, -0.0005107514443807304...   \n",
       "1   [[-0.00534781813621521, -0.01734195463359356, ...   \n",
       "2   [[-0.019509369507431984, 0.02310207113623619, ...   \n",
       "3   [[-0.014928736723959446, 0.015843315050005913,...   \n",
       "4   [[-0.0261446014046669, 0.005377082619816065, 0...   \n",
       "..                                                ...   \n",
       "77  [[-0.005287580657750368, 0.014662577770650387,...   \n",
       "78  [[-0.01649322919547558, 0.028781745582818985, ...   \n",
       "79  [[-0.008484292775392532, -0.014249172993004322...   \n",
       "80  [[0.008054321631789207, 0.023335611447691917, ...   \n",
       "81  [[-0.026931894943118095, -0.003191998461261391...   \n",
       "\n",
       "                                                 role  \n",
       "0    Flask backend that serves as the API for the ...  \n",
       "1    Contains a function called `syncAI` that sync...  \n",
       "2    CSS file for the file tree component in the f...  \n",
       "3    Component for the navigation bar in the front...  \n",
       "4            Component for the user in the frontend\\n  \n",
       "..                                                ...  \n",
       "77   This file exports a component called \"Sync\" t...  \n",
       "78   This file exports a component called \"Chat\" t...  \n",
       "79   This file exports a component called LeftWelc...  \n",
       "80   This file exports a component called PublicRo...  \n",
       "81   This file contains a function called track_ev...  \n",
       "\n",
       "[82 rows x 4 columns]"
      ]
     },
     "metadata": {},
     "output_type": "display_data"
    }
   ],
   "source": [
    "import pandas as pd\n",
    "filename = \"../user/\" + \"prathamthepro@gmail.com\" + \"/AIFiles/\" + \"10xdev.ai\" + \".csv\"\n",
    "fs = pd.read_csv(filename)\n",
    "\n",
    "for index in range(0,len(fs)):\n",
    "    fs['role'][index] = fs['role'][index].replace(\"Role :\", \"\").replace(\"Role:\", \"\") \n",
    "\n",
    "display(fs)"
   ]
  },
  {
   "cell_type": "code",
   "execution_count": null,
   "id": "6850e8f5",
   "metadata": {},
   "outputs": [],
   "source": [
    "import pandas as pd\n",
    "filename = \"../user/\" + \"prathamthepro@gmail.com\" + \"/AIFiles/\" + \"10xdev.ai\" + \".csv\"\n",
    "fs = pd.read_csv(filename)\n",
    "display(fs)\n",
    "for index in range(0,len(fs)):\n",
    "    fs['embedding'][index] = ''\n",
    "\n",
    "fs.to_csv(filename, index=False)"
   ]
  },
  {
   "cell_type": "code",
   "execution_count": 20,
   "id": "6e6ec7b5",
   "metadata": {},
   "outputs": [
    {
     "name": "stdout",
     "output_type": "stream",
     "text": [
      "Stopwords are already downloaded.\n",
      "['component', 'file', 'function', 'css', 'react', 'repository', 'user', 'api', 'files', 'styles', 'called', 'also', 'contains', 'uses', '10xdev', 'sync', 'src', 'state', 'renders', 'returns', 'project', 'code', 'chat', 'defines', 'container', 'imports', 'js', 'prompt', 'functions', 'button', 'text', 'list', 'search', 'hook', 'useeffect', 'frontend', 'page', 'application', 'path', 'used', 'includes', 'using', 'welcome', 'data', 'displays', 'usestate', 'various', 'exports', 'takes', 'input', 'string', 'components', 'email', 'context', 'tree', 'message', 'branch', 'information', 'searchcontext', 'based', 'color', 'navbar', 'given', 'py', 'new', 'bar', 'usecontext', 'openai', 'library', 'elements', 'ignore', 'buttons', 'utilities', 'navigation', 'ai', 'clone', 'landing', 'response', 'variables', 'responsible', 'branches', 'error', 'model', 'apis', 'usenavigate', 'responsecontainer', 'module', 'rendering', 'loading', 'sets', 'log', 'userprompt', 'current', 'json', 'font', 'dropdown', 'several', 'token', 'summary', 'key', 'handles', 'checks', 'hooks', 'results', 'router', 'folder', 'role', 'creates', 'background', 'dropdownbutton', 'call', 'including', 'calls', 'loader', 'train', 'directory', 'repositories', 'different', 'app', 'projectinfo', 'name', 'manage', 'side', 'render', 'styling', 'display', 'element', 'dom', 'set', 'related', 'interactions', 'structure', 'keys', 'prop', 'number', 'clicked', 'well', 'create', 'getting', 'summaries', 'section', 'logo', 'spinner', 'script', 'git', 'parameters', 'rates', 'analysis', 'functional', 'dataframe', 'size', 'javascript', 'sidecontainer', 'handling', 'logs', 'filename', 'otherwise', 'paths', 'left', 'mixpanel', 'training', 'info', 'access', 'wait', 'leftwelcome', 'csv', 'reads', 'contents', 'form', 'changes', 'open', 'syncing', 'updates', 'interface', 'hover', 'certain', 'specific', 'popup', 'two', 'makes', 'embeddings', 'searchbar', 'method', 'codebase', 'endpoint', 'os', 'tokens', 'address', 'ui', 'messages', 'dependencies', 'retrieves', 'shadow', 'isloading', 'callapi', 'get', 'local', 'utility', 'provides', 'searchstate', 'system', 'base', 'fetches', 'modules', 'variable', 'position', 'encoding', 'generate', 'content', 'view', 'fetch', 'ignoring', 'creating', 'class', 'whether', 'url', 'div', 'blocks', 'box', 'border', 'within', 'allows', 'first', 'publicwelcome', 'retrieve', 'notebook', 'count', 'cognito', 'title', 'referenced_code', 'web', 'properties', 'opensource', 'cards', 'logviewer', 'navigate', 'route', 'sign', 'functionality', 'logger', 'area', 'screen', 'process', 'finally', 'respectively', 'embedding', 'props', 'top', 'request', 'width', 'handle', 'isloadingprojectinfo', 'loadingring', 'rows', 'another', 'padding', 'knowledge', 'client', 'managing', 'make', 'ignored', 'repos', 'askgpt', 'headers', 'specified', 'change', 'effect', 'icons', 'searching', 'event', 'tokencount', 'summarize_big', 'performs', 'margin', 'parameter', 'generated', 'python', 'publicrouter', 'cloning', 'cookie', 'passes', 'root', 'prints', 'userlogger', 'nodes', 'profile', 'prompts', 'style', 'main', 'summarize', 'snippets', 'adds', 'displaying', 'links', 'fetched', 'closed', 'selecting', 'object', 'picture', 'displayed', 'footer', 'update', 'index', 'types', 'query', 'options', 'table', 'pagination', 'retry', 'responses', 'sample', 'value', 'generates', 'searchterm', 'containing', 'option', 'true', 'create_project_summary', 'sentences', 'icon', 'attempts', 'corner', 'cloned', 'sends', 'effects', 'appropriate', 'start', 'deleting', 'fields', 'obtained', 'row', 'values', 'minute', 'limit', 'tailwind', 'returned', 'format', 'layout', 'reactdom', 'point', 'entry', 'authentication', 'newwelcome', 'classes', 'history', 'default', 'passed', 'select', 'image', 'maximum', 'three', 'link', 'directories', 'remove', 'supported', 'defined', 'others', 'analyze', 'batch', 'folders', 'gpt', 'routes', 'smaller', 'use', 'stored', 'processing', 'ignoreai', 'example', 'track', 'run', 'include', 'go', 'gets', 'right', 'flask', 'retries', 'setisloading', 'status', 'test', 'filters', 'serves', 'indicating', 'additionally', 'timeout', 'backend', 'requests', 'selected', 'actions', 'tiktoken', 'determines', 'zip', 'projectname', 'animation', 'shows', 'diff', 'positioning', 'convert', 'splits', 'website', 'full', 'topic', 'dictionary', 'clarifying', 'tables', 'ring', 'tag', 'useref', 'removing', 'rate', 'positioned', 'cancel', 'filetree', 'counts', 'made', 'additional', 'names', 'generating', 'viewer', 'users', 'initializes', 'transition', 'represents', 'null', 'language', 'warning', 'filtering', 'workspace', 'greater', 'hostname', 'cookies', 'provided', 'arguments', 'completion', 'it', 'splitblocks', 'deletes', 'pages', 'html', 'found', 'pd', 'filtered', 'setisloadingprojectinfo', 'batches', 'files2analyse', 'characters', 'libraries', 'sidenav', 'tab', 'term', 'jsx', 'converts', 'typewriter', 'clicking', 'non', 'containers', 'asynchronous', 'second', 'asking', 'framework', 'processed', 'preformatted', 'handler', 'patterns', 'similarity', 'temperature', 'item', 'analyze_summaries', 'latest', 'landingpage', 'enter', 'tracking', 'events', 'clicks', 'calculates', 'saves', 'destination', 'create_clone', 'share', 'parts', 'empty', 'family', 'saving', 'searches', 'processes', 'receives', 'filestoanalyzedata', 'interact', 'conditionally', 'height', 'define', 'generation', 'generate_completion', 'completions', 'extension', 'updated', 'screens', 'media', 'subtext', 'pre', 'ipynb', 'authorization', 'shutil', 'get_user_attributes', 'get_user', 'boto3', 'amazon', 'openapi', 'exists', 'chunks', 'dictionaries', 'header', 'alert', 'syncai', 'summarizes', 'white', 'so', 'train_ai', 'added', 'from', 'togglesidecontainer', 'sidecontaineropen', 'seconds', 'tips', 'recent', 'areas', 'concatenating', 'any', 'does', 'analyze_system_messages', 'associated', 'named', 'separate', 'emoji', 'viewing', 'delay', 'summarize_str', 'indicators', 'next', 'child', 'length', 'editing', 'treedata', 'navigating', 'chatmessages', 'extracts', 'splitting', 'sentence', 'read_info', 'located', 'getprojectinfo', 'aifiles', 'pathsearchrow', 'pathsearchlabel', 'pathsearchbar', 'label', 'ignoretips1', 'ignoretips', 'ignorecontainer', 'gitignorebutton', 'getignorecontainer', 'field', 'btn', 'trained', 'larger', 'download', 'skips', 'back', 'accordingly', 'limits', 'summarizing', 'documents', 'not', 'runs', 'external', 'radius', 'id', 'parses', 'pythonexporter', 'nbformat', 'nbconvert', 'jupyter', 'convert_ipynb_to_python', 'pandas', 'widths', 'spacers', 'heights', 'expanded', 'collapsed', 'adding', 'stylesheets', 'answers', 'document', 'prompting', 'handlesetupclick', 'exported', 'export', 'add', 'summarize_file', 'subprocess', 'navigates', 'task', 'queries', 'possible', 'initiate', 'describe', 'bug', 'setting', 'tests', 'calling', 'aos', 'previous', '10', 'simple', 'present', 'jwt', 'hi', 'styled', 'loadsync', 'loadprojectinfo', 'treeview', 'helper', 'foldericon', 'fileicon', 'extensions', 'directorytreeview', 'accessible', 'accepts', 'questions', 'test_summarize_big', 'printed', 'referenced', 'flag', 'specification', 'reading', 'occurs', 'none', 'store', 'like', 'optional', 'merges', 'cognitocode', 'time', 'management', 'deleted', 'loads', 'fs_analyzer', 'output', 'alignment', 'traverse_folder', 'recursively', 'wraps', 'routing', 'classname', 'statement', 'return', 'keyutils', 'get_key', 'saved', 'edited', 'edit', 'cancelled', 'long', 'parsing', 'parse_ignore_file', 'lambda', 'mounts', 'times', 'appends', 'utf', 'checkmark', 'useparams', 'set_rates', 'get_rates', 'done', 'system_message', 'retrys', 'max_tokens', 'visual', 'likely', 'comments', 'avatar', 'iterates', 'focused', 'cursor', 'references', 'removes', 'walks', 'type', 'subdirectories', 'match', 'determine', 'pressed', 'passing', 'float', 'bullets', 'handlereprompt', 'scope', 'cosine', 'rotate', 'logbox', 'keyframe', 'divs', 'continuously', 'circular', '70', 'handlers', 'conditional', 'words', 'inside', 'selection', 'textarea', 'submission', 'spec', 'inputs', 'createproject', 'resulting', 'representation', 'refresh', 'one', 'occur', 'isrefreshing', 'errors', 'pulls', 'rough', 'per', 'numbered', 'items', 'brancheslist', 'array', 'initialize', 'turbo', 'system_messages', 'summary_analyzer', 'reprompting', 'publicchat', 'perform', 'making', 'part', 'searchresults', 'paragraphs', 'either', 'depending', 'codediffcontainer', 'opening', 'keep', 'handleoptionclick', 'action', 'details', 'delete', 'repo_name', 'read_csv', 'read', 'constructs', 'queue', 'process_batch', 'ada', '002', 'slides', 'scrollbar', 'referance', 'menu', 'less', 'hidden', 'fixed', 'fffefe', 'close', 'centered', 'black', '55px', '10px', 'wants', 'track_event', 'exceeds', 'role_analyzer', 'parsable', 'formatting', 'allowed', 'analyzes', 'select_branch', 'pull', 'get_clones', 'get_branches', 'commands', 'clones', 'clone_repo', 'unmounted', 'prevent', 'milliseconds', 'memory', 'leaks', 'h1', 'cleared', '60000', 'provide', 'split', 'quotes', 'multiple', 'longer', 'lines', 'every', 'double', 'commas', '100', 'retrieved', 'random', 'provider', 'getrandomemoji', 'emojis', 'trainai', 'then', 'operations', 'get_clone_path', 'get_clone_filepath', 'copies', 'floats', 'decoration', 'anchor', 'adjusts', 'process_file', 'matches', 'is_file_ignored', 'analyzing', 'toggles', 'toggle', 'syntax', 'numbers', 'line', 'highlighting', 'copyblock', 'showfilestoignore', 'showfilestoanalyze', 'save', 'filestoignore', 'filestoanalyze', 'overall', 'description', 'onhamburgerclick', 'equal', 'writes', 'statements', 'logging', 'last', 'get_last_logs', 'clears', 'clear_logs', 'columns', 'column', 'sessions', 'session', 'port', 'instance', 'ask_ai', '8000', 'to_files', 'parse_chat', 'filenames', 'create_project', 'extract', 'feature', 'bullet', 'traverses', 'the', 'generate_folder_structure', 'folder_tree_structure', 'aiignore', 'uicomponents', 'show', 'red', 'recognized', 'modal', 'hide', 'generic', 'alerts', 'validity', 'valid', 'testing', 'test_key', 'successfully', 'success', 'set_key', 'retrieving', 'delete_key', 'window', 'urls', 'storage', 'sources', 'sections', 'redirecturi', 'flowbite', 'end', 'dynamic', 'usecallback', 'fafile', 'is', 'spaces', 'extra', 'encodes', 'encoded', 'cl100k_base', 'regular', 'expressions', 'showsync', 'showrepos', 'settreedata', 'setshowsync', 'setshowrepos', 'setsearchterm', 'setrepository', 'setcommittime', 'setcommithash', 'setbranch', 'panel', 'fetchdata', 'easy', 'currentuser', 'currentrepo', 'committime', 'commithash', 'selects', 'handlesearch', 'relevant', 'original', 'highest', 'final', 'consolidated', 'askai', 'command', 'control', 'appearance', 'align', 'splitter', 'specifying', 'recursivecharactertextsplitter', 'chatopenai', 'chatcompletion', 'chain', '12000', 'joined', 'notebook_utils', 'public', 'private', 'github', 'connecting', 'shown', 'showing', 'performing', 'changing', 'card', 'callback', 'summarization', 'joining', 'join', 'failed', 'third', 'select_repo', 'repoutils', 'listing', 'list_repos', 'delete_repo', 'currently', 'usage', 'printing', 'needs', 'logic', 'iterating', 'common', 'average', 'distinct_id', 'threadpoolexecutor', 'symbols', 'iso', 'etc', 'ascii', '8859', '16', '15000', '60', 'returning', 'userclarifyinganswers', 'submitted', 'submits', 'submit', 'reference', 'proceed', 'manages', 'handlesubmit', 'handleproceedclick', 'handleclarifyingquestionssubmit', 'clarifyingquestions', 'available', 'reloads', 'handleselect', 'handlerefresh', 'fasync', 'syncs', 'future', 'difflib', 'comparisons', 'changed', 'successful', 'requires', 'reached', 'predefined', 'note', 'loop', 'incremented', 'exception', 'exceeded', 'enters', 'combination', '3500', '20', '16k', 'stores', 'split_sent', 'split_embed', 'limiting', 'get_embedding', 'avoid', 'scroll', 'reprompt', 'ready', 'handledownload', 'downloads', 'custom', 'again', 'threshold', 'strings', 'repeats', 'remaining', 'extracting', 'extracted', 'extract_role', 'evaluating', 'evaluate_role', 'appending', 'tracks', 'readable', 'human', 'writing', 'txt', 'tuples', 'tuple', 'to_zip', 'specifications', 'program', 'new_project', 'markdown', 'instructions', 'expects', 'entire', 'create_project_with_spec', 'create_project_with_clarity', 'corresponding', 'converting', 'conversations', 'conversation', 'clarity', 'block', 'asks', 'answer', 'all_output', 'starts', 'root_folder', 'relative', 'newline', 'nested', 'false', 'exist', 'dot', 'assigns', 'always', 'tf', 'stemming', 'search_functions', 'process_file_contents_with_langchain', 'mentioned', 'max_cosine_sim', 'matrix', 'idf', 'get_referenced_code', 'filter_functions', 'files2str', 'consolidate_prompt_creation', 'chunk', 'ask_ai_with_referenced_files', 'ask_ai_search_files', 'applies']\n",
      "Index: 0\n"
     ]
    },
    {
     "data": {
      "text/plain": [
       "'application.py'"
      ]
     },
     "metadata": {},
     "output_type": "display_data"
    },
    {
     "data": {
      "text/html": [
       "applicationpy file contains Flask application <span style=\"background-color: yellow;\">serves</span> <span style=\"background-color: yellow;\">backend</span> web application imports various modules functions files codebase including AskAI trainAI IgnoreAI UserLogger <span style=\"background-color: yellow;\">others</span> file defines various <span style=\"background-color: yellow;\">routes</span> handling API <span style=\"background-color: yellow;\">requests</span> getting project information training AI syncing files getting data AI <span style=\"background-color: yellow;\">managing</span> user <span style=\"background-color: yellow;\">authentication</span> <span style=\"background-color: yellow;\">authorization</span> file also sets <span style=\"background-color: yellow;\">session</span> user creates UserLogger <span style=\"background-color: yellow;\">instance</span> user log interactions AI Finally file <span style=\"background-color: yellow;\">runs</span> Flask application <span style=\"background-color: yellow;\">port</span> <span style=\"background-color: yellow;\">8000</span> Flask <span style=\"background-color: yellow;\">backend</span> <span style=\"background-color: yellow;\">serves</span> API web application handles API <span style=\"background-color: yellow;\">requests</span> user <span style=\"background-color: yellow;\">authentication</span> <span style=\"background-color: yellow;\">authorization</span> also sets user <span style=\"background-color: yellow;\">sessions</span> logs user interactions AI "
      ],
      "text/plain": [
       "<IPython.core.display.HTML object>"
      ]
     },
     "metadata": {},
     "output_type": "display_data"
    },
    {
     "name": "stdout",
     "output_type": "stream",
     "text": [
      "\n",
      "-----\n",
      "\n",
      "Index: 1\n"
     ]
    },
    {
     "data": {
      "text/plain": [
       "'syncAI.py'"
      ]
     },
     "metadata": {},
     "output_type": "display_data"
    },
    {
     "data": {
      "text/html": [
       "syncAIpy file contains function called syncAI responsible syncing <span style=\"background-color: yellow;\">users</span> local files AIs <span style=\"background-color: yellow;\">knowledge</span> base imports various utility functions modules <span style=\"background-color: yellow;\">pandas</span> <span style=\"background-color: yellow;\">subprocess</span> os <span style=\"background-color: yellow;\">difflib</span> <span style=\"background-color: yellow;\">time</span> function first <span style=\"background-color: yellow;\">pulls</span> <span style=\"background-color: yellow;\">latest</span> changes <span style=\"background-color: yellow;\">users</span> Git repository checks changes <span style=\"background-color: yellow;\">users</span> local files file <span style=\"background-color: yellow;\">changed</span> <span style=\"background-color: yellow;\">summarizes</span> changes using <span style=\"background-color: yellow;\">summarize</span> function updates AIs <span style=\"background-color: yellow;\">knowledge</span> base new summary embedding new files <span style=\"background-color: yellow;\">adds</span> <span style=\"background-color: yellow;\">knowledge</span> base <span style=\"background-color: yellow;\">summarizes</span> well Finally <span style=\"background-color: yellow;\">saves</span> <span style=\"background-color: yellow;\">updated</span> <span style=\"background-color: yellow;\">knowledge</span> base CSV file creates clone <span style=\"background-color: yellow;\">users</span> local files <span style=\"background-color: yellow;\">future</span> <span style=\"background-color: yellow;\">comparisons</span> Contains function called syncAI <span style=\"background-color: yellow;\">syncs</span> <span style=\"background-color: yellow;\">users</span> local files AIs <span style=\"background-color: yellow;\">knowledge</span> base <span style=\"background-color: yellow;\">pulls</span> <span style=\"background-color: yellow;\">latest</span> changes <span style=\"background-color: yellow;\">users</span> Git repository <span style=\"background-color: yellow;\">summarizes</span> changes updates AIs <span style=\"background-color: yellow;\">knowledge</span> base also <span style=\"background-color: yellow;\">saves</span> <span style=\"background-color: yellow;\">updated</span> <span style=\"background-color: yellow;\">knowledge</span> base CSV file creates clone <span style=\"background-color: yellow;\">users</span> local files "
      ],
      "text/plain": [
       "<IPython.core.display.HTML object>"
      ]
     },
     "metadata": {},
     "output_type": "display_data"
    },
    {
     "name": "stdout",
     "output_type": "stream",
     "text": [
      "\n",
      "-----\n",
      "\n",
      "Index: 2\n"
     ]
    },
    {
     "data": {
      "text/plain": [
       "'10xdev/src/FileTree.css'"
      ]
     },
     "metadata": {},
     "output_type": "display_data"
    },
    {
     "data": {
      "text/html": [
       "10xdevsrcFileTreecss file contains CSS styles file tree component defines styles directory tree structure <span style=\"background-color: yellow;\">nodes</span> <span style=\"background-color: yellow;\">icons</span> used file tree sets background color font <span style=\"background-color: yellow;\">family</span> font size color directory also sets <span style=\"background-color: yellow;\">cursor</span> <span style=\"background-color: yellow;\">style</span> tree <span style=\"background-color: yellow;\">nodes</span> defines hover <span style=\"background-color: yellow;\">focused</span> <span style=\"background-color: yellow;\">selected</span> styles <span style=\"background-color: yellow;\">nodes</span> CSS file file tree component frontend "
      ],
      "text/plain": [
       "<IPython.core.display.HTML object>"
      ]
     },
     "metadata": {},
     "output_type": "display_data"
    },
    {
     "name": "stdout",
     "output_type": "stream",
     "text": [
      "\n",
      "-----\n",
      "\n",
      "Index: 3\n"
     ]
    },
    {
     "data": {
      "text/plain": [
       "'10xdev/src/Navbar.js'"
      ]
     },
     "metadata": {},
     "output_type": "display_data"
    },
    {
     "data": {
      "text/html": [
       "10xdevsrcNavbarjs file exports functional component called Navbar renders navigation bar logo project information dropdown button sync component also imports components Sync ProjectInfo DropdownButton Link various files LoadProjectInfo LoadSync props used <span style=\"background-color: yellow;\">conditionally</span> render ProjectInfo Sync components respectively navigation bar <span style=\"background-color: yellow;\">styled</span> using CSS Navbarcss file Component navigation bar frontend "
      ],
      "text/plain": [
       "<IPython.core.display.HTML object>"
      ]
     },
     "metadata": {},
     "output_type": "display_data"
    },
    {
     "name": "stdout",
     "output_type": "stream",
     "text": [
      "\n",
      "-----\n",
      "\n",
      "Index: 4\n"
     ]
    },
    {
     "data": {
      "text/plain": [
       "'10xdev/src/User.js'"
      ]
     },
     "metadata": {},
     "output_type": "display_data"
    },
    {
     "data": {
      "text/html": [
       "10xdevsrcUserjs file defines functional component called User imports React useState useContext useEffect React library well Cookies jscookie library useEffect hook used <span style=\"background-color: yellow;\">make</span> <span style=\"background-color: yellow;\">asynchronous</span> call API endpoint retrieve user information using JWT token <span style=\"background-color: yellow;\">stored</span> <span style=\"background-color: yellow;\">cookie</span> token <span style=\"background-color: yellow;\">present</span> API call <span style=\"background-color: yellow;\">made</span> response data <span style=\"background-color: yellow;\">stored</span> variable called data component returns <span style=\"background-color: yellow;\">simple</span> div element text Hi Component user frontend "
      ],
      "text/plain": [
       "<IPython.core.display.HTML object>"
      ]
     },
     "metadata": {},
     "output_type": "display_data"
    },
    {
     "name": "stdout",
     "output_type": "stream",
     "text": [
      "\n",
      "-----\n",
      "\n",
      "Index: 5\n"
     ]
    },
    {
     "data": {
      "text/plain": [
       "'10xdev/src/Train.css'"
      ]
     },
     "metadata": {},
     "output_type": "display_data"
    },
    {
     "data": {
      "text/html": [
       "10xdevsrcTraincss file contains CSS styles Train component codebase defines styles various elements <span style=\"background-color: yellow;\">containers</span> input <span style=\"background-color: yellow;\">fields</span> buttons <span style=\"background-color: yellow;\">tables</span> text <span style=\"background-color: yellow;\">areas</span> also includes styles <span style=\"background-color: yellow;\">displaying</span> <span style=\"background-color: yellow;\">recent</span> <span style=\"background-color: yellow;\">searches</span> <span style=\"background-color: yellow;\">tips</span> ignoring files CSS file train component frontend "
      ],
      "text/plain": [
       "<IPython.core.display.HTML object>"
      ]
     },
     "metadata": {},
     "output_type": "display_data"
    },
    {
     "name": "stdout",
     "output_type": "stream",
     "text": [
      "\n",
      "-----\n",
      "\n",
      "Index: 6\n"
     ]
    },
    {
     "data": {
      "text/plain": [
       "'10xdev/src/Navbar.css'"
      ]
     },
     "metadata": {},
     "output_type": "display_data"
    },
    {
     "data": {
      "text/html": [
       "10xdevsrcNavbarcss file contains CSS styling navbar component <span style=\"background-color: yellow;\">website</span> defines background color <span style=\"background-color: yellow;\">margin</span> display width position zindex navbar also styles logo <span style=\"background-color: yellow;\">links</span> container navigation <span style=\"background-color: yellow;\">links</span> <span style=\"background-color: yellow;\">media</span> <span style=\"background-color: yellow;\">query</span> <span style=\"background-color: yellow;\">adjusts</span> font size logo <span style=\"background-color: yellow;\">smaller</span> <span style=\"background-color: yellow;\">screens</span> hover <span style=\"background-color: yellow;\">effect</span> changes color background color navigation <span style=\"background-color: yellow;\">links</span> <span style=\"background-color: yellow;\">adds</span> shadow sync class <span style=\"background-color: yellow;\">floats</span> element <span style=\"background-color: yellow;\">right</span> navbarprojectInfo styles project information <span style=\"background-color: yellow;\">displayed</span> navbar logo <span style=\"background-color: yellow;\">anchor</span> <span style=\"background-color: yellow;\">tag</span> styles color text <span style=\"background-color: yellow;\">decoration</span> logo CSS file navigation bar frontend "
      ],
      "text/plain": [
       "<IPython.core.display.HTML object>"
      ]
     },
     "metadata": {},
     "output_type": "display_data"
    },
    {
     "name": "stdout",
     "output_type": "stream",
     "text": [
      "\n",
      "-----\n",
      "\n",
      "Index: 7\n"
     ]
    },
    {
     "data": {
      "text/plain": [
       "'10xdev/src/index.js'"
      ]
     },
     "metadata": {},
     "output_type": "display_data"
    },
    {
     "data": {
      "text/html": [
       "10xdevsrcindexjs file <span style=\"background-color: yellow;\">entry</span> <span style=\"background-color: yellow;\">point</span> application imports React ReactDOM <span style=\"background-color: yellow;\">libraries</span> also imports App component Appjs file ReactDOMrender method used render App component <span style=\"background-color: yellow;\">root</span> element HTML <span style=\"background-color: yellow;\">document</span> Entry <span style=\"background-color: yellow;\">point</span> file frontend "
      ],
      "text/plain": [
       "<IPython.core.display.HTML object>"
      ]
     },
     "metadata": {},
     "output_type": "display_data"
    },
    {
     "name": "stdout",
     "output_type": "stream",
     "text": [
      "\n",
      "-----\n",
      "\n",
      "Index: 8\n"
     ]
    },
    {
     "data": {
      "text/plain": [
       "'10xdev/src/FileTree.js'"
      ]
     },
     "metadata": {},
     "output_type": "display_data"
    },
    {
     "data": {
      "text/html": [
       "10xdevsrcFileTreejs file exports React component called DirectoryTreeView renders tree view directory structure uses reactaccessibletreeview library render tree view <span style=\"background-color: yellow;\">accepts</span> data prop <span style=\"background-color: yellow;\">represents</span> directory structure component also defines two <span style=\"background-color: yellow;\">helper</span> components FolderIcon FileIcon render <span style=\"background-color: yellow;\">icons</span> <span style=\"background-color: yellow;\">folders</span> files respectively based file <span style=\"background-color: yellow;\">extensions</span> React component responsible rendering file tree structure "
      ],
      "text/plain": [
       "<IPython.core.display.HTML object>"
      ]
     },
     "metadata": {},
     "output_type": "display_data"
    },
    {
     "name": "stdout",
     "output_type": "stream",
     "text": [
      "\n",
      "-----\n",
      "\n",
      "Index: 9\n"
     ]
    },
    {
     "data": {
      "text/plain": [
       "'10xdev/src/Welcome.js'"
      ]
     },
     "metadata": {},
     "output_type": "display_data"
    },
    {
     "data": {
      "text/html": [
       "10xdevsrcWelcomejs file defines Welcome component landing page application imports various dependencies React useState useEffect useContext React useNavigate reactrouterdom SearchContext contextSearchContext several components component fetches data API displays file tree <span style=\"background-color: yellow;\">format</span> also text area <span style=\"background-color: yellow;\">users</span> <span style=\"background-color: yellow;\">describe</span> <span style=\"background-color: yellow;\">task</span> <span style=\"background-color: yellow;\">query</span> <span style=\"background-color: yellow;\">bug</span> Go button <span style=\"background-color: yellow;\">initiate</span> search component also uses <span style=\"background-color: yellow;\">typewriter</span> <span style=\"background-color: yellow;\">effect</span> display list <span style=\"background-color: yellow;\">possible</span> <span style=\"background-color: yellow;\">queries</span> user <span style=\"background-color: yellow;\">select</span> <span style=\"background-color: yellow;\">from</span> Component welcome section frontend "
      ],
      "text/plain": [
       "<IPython.core.display.HTML object>"
      ]
     },
     "metadata": {},
     "output_type": "display_data"
    },
    {
     "name": "stdout",
     "output_type": "stream",
     "text": [
      "\n",
      "-----\n",
      "\n",
      "Index: 10\n"
     ]
    },
    {
     "data": {
      "text/plain": [
       "'10xdev/src/Chat.css'"
      ]
     },
     "metadata": {},
     "output_type": "display_data"
    },
    {
     "data": {
      "text/html": [
       "10xdevsrcChatcss file contains CSS styles chat interface defines <span style=\"background-color: yellow;\">widths</span> <span style=\"background-color: yellow;\">heights</span> various elements rows <span style=\"background-color: yellow;\">spacers</span> <span style=\"background-color: yellow;\">footer</span> also sets position styling <span style=\"background-color: yellow;\">footer</span> including box shadow Additionally defines position <span style=\"background-color: yellow;\">transition</span> search bar <span style=\"background-color: yellow;\">row</span> <span style=\"background-color: yellow;\">expanded</span> <span style=\"background-color: yellow;\">collapsed</span> <span style=\"background-color: yellow;\">adding</span> <span style=\"background-color: yellow;\">removing</span> open class CSS file chat component frontend "
      ],
      "text/plain": [
       "<IPython.core.display.HTML object>"
      ]
     },
     "metadata": {},
     "output_type": "display_data"
    },
    {
     "name": "stdout",
     "output_type": "stream",
     "text": [
      "\n",
      "-----\n",
      "\n",
      "Index: 11\n"
     ]
    },
    {
     "data": {
      "text/plain": [
       "'10xdev/src/Welcome.css'"
      ]
     },
     "metadata": {},
     "output_type": "display_data"
    },
    {
     "data": {
      "text/html": [
       "10xdevsrcWelcomecss file contains CSS styles welcome page application defines <span style=\"background-color: yellow;\">layout</span> <span style=\"background-color: yellow;\">positioning</span> various elements logo search bar <span style=\"background-color: yellow;\">subtext</span> project information also includes styles search bar input button well user <span style=\"background-color: yellow;\">profile</span> container CSS file welcome section frontend "
      ],
      "text/plain": [
       "<IPython.core.display.HTML object>"
      ]
     },
     "metadata": {},
     "output_type": "display_data"
    },
    {
     "name": "stdout",
     "output_type": "stream",
     "text": [
      "\n",
      "-----\n",
      "\n",
      "Index: 12\n"
     ]
    },
    {
     "data": {
      "text/plain": [
       "'10xdev/src/Chat.js'"
      ]
     },
     "metadata": {},
     "output_type": "display_data"
    },
    {
     "data": {
      "text/html": [
       "10xdevsrcChatjs file exports React component called Chat renders chat interface imports several components functions including React useContext useEffect useState SearchContext LoadingRing ResponseContainer UserPrompt SearchBar Navbar callAPI Chat component uses useContext hook access searchTerm isLoading results setIsLoading files referencedcode variables SearchContext also uses useState hook manage sideContainerOpen chatMessages state variables Chat component defines several functions including toggleSideContainer handleSearch handleReprompt used <span style=\"background-color: yellow;\">update</span> state variables based user input Chat component also uses useEffect hook <span style=\"background-color: yellow;\">update</span> chatMessages state variable results searchTerm files referencedcode variables <span style=\"background-color: yellow;\">change</span> Finally Chat component renders several <span style=\"background-color: yellow;\">child</span> components including Navbar LoadingRing ResponseContainer UserPrompt SearchBar React component responsible rendering chat interface "
      ],
      "text/plain": [
       "<IPython.core.display.HTML object>"
      ]
     },
     "metadata": {},
     "output_type": "display_data"
    },
    {
     "name": "stdout",
     "output_type": "stream",
     "text": [
      "\n",
      "-----\n",
      "\n",
      "Index: 13\n"
     ]
    },
    {
     "data": {
      "text/plain": [
       "'10xdev/src/api.js'"
      ]
     },
     "metadata": {},
     "output_type": "display_data"
    },
    {
     "data": {
      "text/html": [
       "10xdevsrcapijs file exports function called callAPI makes API call <span style=\"background-color: yellow;\">specified</span> URL <span style=\"background-color: yellow;\">optional</span> <span style=\"background-color: yellow;\">options</span> first retrieves token <span style=\"background-color: yellow;\">cookie</span> called cognitoCode <span style=\"background-color: yellow;\">adds</span> request <span style=\"background-color: yellow;\">headers</span> <span style=\"background-color: yellow;\">merges</span> <span style=\"background-color: yellow;\">additional</span> <span style=\"background-color: yellow;\">headers</span> <span style=\"background-color: yellow;\">passed</span> <span style=\"background-color: yellow;\">options</span> <span style=\"background-color: yellow;\">parameter</span> <span style=\"background-color: yellow;\">default</span> <span style=\"background-color: yellow;\">headers</span> Finally makes API call using fetch function returns response data JSON <span style=\"background-color: yellow;\">format</span> Utility file API functions frontend "
      ],
      "text/plain": [
       "<IPython.core.display.HTML object>"
      ]
     },
     "metadata": {},
     "output_type": "display_data"
    },
    {
     "name": "stdout",
     "output_type": "stream",
     "text": [
      "\n",
      "-----\n",
      "\n",
      "Index: 14\n"
     ]
    },
    {
     "data": {
      "text/plain": [
       "'10xdev/src/Train.js'"
      ]
     },
     "metadata": {},
     "output_type": "display_data"
    },
    {
     "data": {
      "text/html": [
       "10xdevsrcTrainjs file contains Train component responsible rendering UI training AI model imports React useState useContext useEffect components codebase component uses SearchContext get path isLoading state also state variables input filesToAnalyze filesToIgnore showFilesToIgnore showFilesToAnalyze Treedata component functions handle input <span style=\"background-color: yellow;\">change</span> get git ignore <span style=\"background-color: yellow;\">convert</span> files tree train AI model <span style=\"background-color: yellow;\">save</span> files ignore component renders UI search bar buttons <span style=\"background-color: yellow;\">analyze</span> files <span style=\"background-color: yellow;\">start</span> training <span style=\"background-color: yellow;\">tables</span> display files <span style=\"background-color: yellow;\">analyze</span> files ignore also renders file tree display files text area <span style=\"background-color: yellow;\">enter</span> files ignore Component training AI model frontend "
      ],
      "text/plain": [
       "<IPython.core.display.HTML object>"
      ]
     },
     "metadata": {},
     "output_type": "display_data"
    },
    {
     "name": "stdout",
     "output_type": "stream",
     "text": [
      "\n",
      "-----\n",
      "\n",
      "Index: 15\n"
     ]
    },
    {
     "data": {
      "text/plain": [
       "'10xdev/src/App.js'"
      ]
     },
     "metadata": {},
     "output_type": "display_data"
    },
    {
     "data": {
      "text/html": [
       "10xdevsrcAppjs file <span style=\"background-color: yellow;\">main</span> component React application imports various components Train Repos Welcome Chat SearchState Apis Branch Clone LoadingRing LandingPage User Wait also imports React Router components handle <span style=\"background-color: yellow;\">routing</span> App component returns div className App <span style=\"background-color: yellow;\">wraps</span> Router component SearchState component defines various <span style=\"background-color: yellow;\">routes</span> different components renders based URL path Main component frontend application "
      ],
      "text/plain": [
       "<IPython.core.display.HTML object>"
      ]
     },
     "metadata": {},
     "output_type": "display_data"
    },
    {
     "name": "stdout",
     "output_type": "stream",
     "text": [
      "\n",
      "-----\n",
      "\n",
      "Index: 16\n"
     ]
    },
    {
     "data": {
      "text/plain": [
       "'10xdev/src/SearchBar/SearchBar.js'"
      ]
     },
     "metadata": {},
     "output_type": "display_data"
    },
    {
     "data": {
      "text/html": [
       "10xdevsrcSearchBarSearchBarjs file exports functional component called SearchBar renders search bar button <span style=\"background-color: yellow;\">start</span> new <span style=\"background-color: yellow;\">topic</span> uses React hooks manage state search input calls function <span style=\"background-color: yellow;\">passed</span> prop search button clicked <span style=\"background-color: yellow;\">enter</span> key <span style=\"background-color: yellow;\">pressed</span> also function open new <span style=\"background-color: yellow;\">tab</span> Start New Topic button clicked React component responsible rendering search bar handling search functionality "
      ],
      "text/plain": [
       "<IPython.core.display.HTML object>"
      ]
     },
     "metadata": {},
     "output_type": "display_data"
    },
    {
     "name": "stdout",
     "output_type": "stream",
     "text": [
      "\n",
      "-----\n",
      "\n",
      "Index: 17\n"
     ]
    },
    {
     "data": {
      "text/plain": [
       "'10xdev/src/Apis/Apis.css'"
      ]
     },
     "metadata": {},
     "output_type": "display_data"
    },
    {
     "data": {
      "text/html": [
       "10xdevsrcApisApiscss file contains CSS styles APIs page application defines styles container API keys title API keys section cards <span style=\"background-color: yellow;\">displaying</span> API keys buttons used <span style=\"background-color: yellow;\">interact</span> API keys also defines styles repository buttons input <span style=\"background-color: yellow;\">fields</span> API key <span style=\"background-color: yellow;\">rate</span> <span style=\"background-color: yellow;\">limit</span> CSS file APIs component frontend "
      ],
      "text/plain": [
       "<IPython.core.display.HTML object>"
      ]
     },
     "metadata": {},
     "output_type": "display_data"
    },
    {
     "name": "stdout",
     "output_type": "stream",
     "text": [
      "\n",
      "-----\n",
      "\n",
      "Index: 18\n"
     ]
    },
    {
     "data": {
      "text/plain": [
       "'10xdev/src/Apis/Apis.js'"
      ]
     },
     "metadata": {},
     "output_type": "display_data"
    },
    {
     "data": {
      "text/html": [
       "10xdevsrcApisApisjs file defines Apis component displays <span style=\"background-color: yellow;\">users</span> OpenAI API key <span style=\"background-color: yellow;\">details</span> allows set <span style=\"background-color: yellow;\">delete</span> key also allows user view set API <span style=\"background-color: yellow;\">rate</span> <span style=\"background-color: yellow;\">limits</span> two different APIs component uses React hooks useState useEffect manage state <span style=\"background-color: yellow;\">make</span> API calls <span style=\"background-color: yellow;\">backend</span> using callAPI function component also uses useNavigate hook reactrouterdom navigate <span style=\"background-color: yellow;\">pages</span> application component renders Navbar component buttons navigate <span style=\"background-color: yellow;\">pages</span> application React component responsible rendering APIs <span style=\"background-color: yellow;\">managing</span> API calls "
      ],
      "text/plain": [
       "<IPython.core.display.HTML object>"
      ]
     },
     "metadata": {},
     "output_type": "display_data"
    },
    {
     "name": "stdout",
     "output_type": "stream",
     "text": [
      "\n",
      "-----\n",
      "\n",
      "Index: 19\n"
     ]
    },
    {
     "data": {
      "text/plain": [
       "'10xdev/src/context/SearchState.js'"
      ]
     },
     "metadata": {},
     "output_type": "display_data"
    },
    {
     "data": {
      "text/html": [
       "10xdevsrccontextSearchStatejs file defines React component called SearchState provides context search functionality application imports React useState useEffect Cookies callAPI modules component sets several state variables using useState hook including searchTerm isLoading isLoadingProjectInfo results referencedcode files path also defines function getRandomEmoji returns <span style=\"background-color: yellow;\">random</span> <span style=\"background-color: yellow;\">emoji</span> list <span style=\"background-color: yellow;\">emojis</span> useEffect hook used <span style=\"background-color: yellow;\">make</span> API call retrieve search results searchTerm state variable changes <span style=\"background-color: yellow;\">retrieved</span> data used <span style=\"background-color: yellow;\">update</span> state variables files results referencedcode SearchState component provides state variables several functions context <span style=\"background-color: yellow;\">child</span> components SearchContextProvider Context file search state frontend "
      ],
      "text/plain": [
       "<IPython.core.display.HTML object>"
      ]
     },
     "metadata": {},
     "output_type": "display_data"
    },
    {
     "name": "stdout",
     "output_type": "stream",
     "text": [
      "\n",
      "-----\n",
      "\n",
      "Index: 20\n"
     ]
    },
    {
     "data": {
      "text/plain": [
       "'10xdev/src/context/SearchContext.js'"
      ]
     },
     "metadata": {},
     "output_type": "display_data"
    },
    {
     "data": {
      "text/html": [
       "10xdevsrccontextSearchContextjs file defines React context called SearchContext used <span style=\"background-color: yellow;\">share</span> data components React application exports SearchContext <span style=\"background-color: yellow;\">object</span> <span style=\"background-color: yellow;\">use</span> <span style=\"background-color: yellow;\">parts</span> codebase Context file search context frontend "
      ],
      "text/plain": [
       "<IPython.core.display.HTML object>"
      ]
     },
     "metadata": {},
     "output_type": "display_data"
    },
    {
     "name": "stdout",
     "output_type": "stream",
     "text": [
      "\n",
      "-----\n",
      "\n",
      "Index: 21\n"
     ]
    },
    {
     "data": {
      "text/plain": [
       "'10xdev/src/Sidecontainer/Sidecontainer.js'"
      ]
     },
     "metadata": {},
     "output_type": "display_data"
    },
    {
     "data": {
      "text/html": [
       "10xdevsrcSidecontainerSidecontainerjs file exports React component called Sidecontainer renders side container list file <span style=\"background-color: yellow;\">references</span> code <span style=\"background-color: yellow;\">snippets</span> uses useState useEffect hooks React manage state whether container open <span style=\"background-color: yellow;\">closed</span> component <span style=\"background-color: yellow;\">receives</span> props referencedcode files render code <span style=\"background-color: yellow;\">snippets</span> file <span style=\"background-color: yellow;\">names</span> respectively also uses CopyBlock component reactcodeblocks library display code <span style=\"background-color: yellow;\">snippets</span> <span style=\"background-color: yellow;\">syntax</span> <span style=\"background-color: yellow;\">highlighting</span> <span style=\"background-color: yellow;\">line</span> <span style=\"background-color: yellow;\">numbers</span> component button <span style=\"background-color: yellow;\">toggle</span> container open <span style=\"background-color: yellow;\">closed</span> <span style=\"background-color: yellow;\">clicking</span> file <span style=\"background-color: yellow;\">names</span> <span style=\"background-color: yellow;\">main</span> content area also <span style=\"background-color: yellow;\">toggles</span> container open <span style=\"background-color: yellow;\">closed</span> Component side container frontend "
      ],
      "text/plain": [
       "<IPython.core.display.HTML object>"
      ]
     },
     "metadata": {},
     "output_type": "display_data"
    },
    {
     "name": "stdout",
     "output_type": "stream",
     "text": [
      "\n",
      "-----\n",
      "\n",
      "Index: 22\n"
     ]
    },
    {
     "data": {
      "text/plain": [
       "'10xdev/src/Sidecontainer/Sidecontainer.css'"
      ]
     },
     "metadata": {},
     "output_type": "display_data"
    },
    {
     "data": {
      "text/html": [
       "10xdevsrcSidecontainerSidecontainercss file contains CSS styles side navigation <span style=\"background-color: yellow;\">menu</span> <span style=\"background-color: yellow;\">sidenav</span> <span style=\"background-color: yellow;\">fixed</span> position <span style=\"background-color: yellow;\">slides</span> view <span style=\"background-color: yellow;\">transition</span> <span style=\"background-color: yellow;\">effect</span> <span style=\"background-color: yellow;\">sidenav</span> background color <span style=\"background-color: yellow;\">fffefe</span> box shadow <span style=\"background-color: yellow;\">close</span> button top <span style=\"background-color: yellow;\">right</span> <span style=\"background-color: yellow;\">corner</span> navigation <span style=\"background-color: yellow;\">links</span> font size <span style=\"background-color: yellow;\">10px</span> <span style=\"background-color: yellow;\">change</span> color hover also <span style=\"background-color: yellow;\">style</span> filename element <span style=\"background-color: yellow;\">black</span> background <span style=\"background-color: yellow;\">white</span> text <span style=\"background-color: yellow;\">scrollbar</span> <span style=\"background-color: yellow;\">hidden</span> <span style=\"background-color: yellow;\">media</span> <span style=\"background-color: yellow;\">query</span> <span style=\"background-color: yellow;\">smaller</span> <span style=\"background-color: yellow;\">screens</span> <span style=\"background-color: yellow;\">less</span> <span style=\"background-color: yellow;\">padding</span> <span style=\"background-color: yellow;\">smaller</span> font size Additionally <span style=\"background-color: yellow;\">style</span> <span style=\"background-color: yellow;\">referance</span> element margintop <span style=\"background-color: yellow;\">55px</span> <span style=\"background-color: yellow;\">centered</span> display CSS file side container frontend "
      ],
      "text/plain": [
       "<IPython.core.display.HTML object>"
      ]
     },
     "metadata": {},
     "output_type": "display_data"
    },
    {
     "name": "stdout",
     "output_type": "stream",
     "text": [
      "\n",
      "-----\n",
      "\n",
      "Index: 23\n"
     ]
    },
    {
     "data": {
      "text/plain": [
       "'10xdev/src/ProjectInfo/ProjectInfo.js'"
      ]
     },
     "metadata": {},
     "output_type": "display_data"
    },
    {
     "data": {
      "text/html": [
       "10xdevsrcProjectInfoProjectInfojs file exports React component called ProjectInfo displays name repository branch project uses useState useEffect hooks React manage state fetch data API endpoint using callAPI function another file also uses useContext hook access isLoadingProjectInfo setIsLoadingProjectInfo <span style=\"background-color: yellow;\">values</span> SearchContext context isLoadingProjectInfo <span style=\"background-color: yellow;\">true</span> returns <span style=\"background-color: yellow;\">null</span> loading spinner otherwise displays project information React component responsible rendering project information "
      ],
      "text/plain": [
       "<IPython.core.display.HTML object>"
      ]
     },
     "metadata": {},
     "output_type": "display_data"
    },
    {
     "name": "stdout",
     "output_type": "stream",
     "text": [
      "\n",
      "-----\n",
      "\n",
      "Index: 24\n"
     ]
    },
    {
     "data": {
      "text/plain": [
       "'10xdev/src/UserPrompt/UserPrompt.css'"
      ]
     },
     "metadata": {},
     "output_type": "display_data"
    },
    {
     "data": {
      "text/html": [
       "10xdevsrcUserPromptUserPromptcss file contains CSS styles UserPrompt component used display prompt user includes styles container text <span style=\"background-color: yellow;\">picture</span> elements well styles <span style=\"background-color: yellow;\">editing</span> <span style=\"background-color: yellow;\">saving</span> user input also includes styles <span style=\"background-color: yellow;\">icons</span> buttons used component CSS file user prompt component frontend "
      ],
      "text/plain": [
       "<IPython.core.display.HTML object>"
      ]
     },
     "metadata": {},
     "output_type": "display_data"
    },
    {
     "name": "stdout",
     "output_type": "stream",
     "text": [
      "\n",
      "-----\n",
      "\n",
      "Index: 25\n"
     ]
    },
    {
     "data": {
      "text/plain": [
       "'10xdev/src/UserPrompt/UserPrompt.js'"
      ]
     },
     "metadata": {},
     "output_type": "display_data"
    },
    {
     "data": {
      "text/html": [
       "10xdevsrcUserPromptUserPromptjs file exports React component called UserPrompt displays <span style=\"background-color: yellow;\">users</span> <span style=\"background-color: yellow;\">profile</span> <span style=\"background-color: yellow;\">picture</span> prompt text prompt text <span style=\"background-color: yellow;\">edited</span> <span style=\"background-color: yellow;\">clicking</span> <span style=\"background-color: yellow;\">edit</span> <span style=\"background-color: yellow;\">icon</span> changes <span style=\"background-color: yellow;\">saved</span> <span style=\"background-color: yellow;\">cancelled</span> component also <span style=\"background-color: yellow;\">retry</span> <span style=\"background-color: yellow;\">icon</span> allows user <span style=\"background-color: yellow;\">retry</span> search current prompt text component uses useState useEffect hooks React also imports SearchContext another file React component responsible rendering user <span style=\"background-color: yellow;\">prompts</span> <span style=\"background-color: yellow;\">managing</span> user <span style=\"background-color: yellow;\">responses</span> "
      ],
      "text/plain": [
       "<IPython.core.display.HTML object>"
      ]
     },
     "metadata": {},
     "output_type": "display_data"
    },
    {
     "name": "stdout",
     "output_type": "stream",
     "text": [
      "\n",
      "-----\n",
      "\n",
      "Index: 26\n"
     ]
    },
    {
     "data": {
      "text/plain": [
       "'10xdev/src/Loader/Loader.css'"
      ]
     },
     "metadata": {},
     "output_type": "display_data"
    },
    {
     "data": {
      "text/html": [
       "10xdevsrcLoaderLoadercss file contains CSS code loading spinner <span style=\"background-color: yellow;\">cancel</span> button loading spinner <span style=\"background-color: yellow;\">circular</span> <span style=\"background-color: yellow;\">ring</span> <span style=\"background-color: yellow;\">made</span> <span style=\"background-color: yellow;\">three</span> <span style=\"background-color: yellow;\">divs</span> <span style=\"background-color: yellow;\">rotate</span> <span style=\"background-color: yellow;\">continuously</span> using <span style=\"background-color: yellow;\">keyframe</span> <span style=\"background-color: yellow;\">animation</span> <span style=\"background-color: yellow;\">cancel</span> button <span style=\"background-color: yellow;\">positioned</span> top left <span style=\"background-color: yellow;\">corner</span> screen border background text color <span style=\"background-color: yellow;\">change</span> hover also <span style=\"background-color: yellow;\">logbox</span> element <span style=\"background-color: yellow;\">positioned</span> top <span style=\"background-color: yellow;\">right</span> <span style=\"background-color: yellow;\">corner</span> screen width <span style=\"background-color: yellow;\">70</span> CSS file loader component frontend "
      ],
      "text/plain": [
       "<IPython.core.display.HTML object>"
      ]
     },
     "metadata": {},
     "output_type": "display_data"
    },
    {
     "name": "stdout",
     "output_type": "stream",
     "text": [
      "\n",
      "-----\n",
      "\n",
      "Index: 27\n"
     ]
    },
    {
     "data": {
      "text/plain": [
       "'10xdev/src/Loader/Loader.js'"
      ]
     },
     "metadata": {},
     "output_type": "display_data"
    },
    {
     "data": {
      "text/html": [
       "10xdevsrcLoaderLoaderjs file exports React component called LoadingRing displays loading <span style=\"background-color: yellow;\">animation</span> log <span style=\"background-color: yellow;\">viewer</span> also imports useNavigate useContext hooks reactrouterdom react respectively useContext hook used access setIsLoading function SearchContext context useNavigate hook used navigate welcome route user <span style=\"background-color: yellow;\">clicks</span> Go Back  Run Background button React component responsible rendering loading spinner "
      ],
      "text/plain": [
       "<IPython.core.display.HTML object>"
      ]
     },
     "metadata": {},
     "output_type": "display_data"
    },
    {
     "name": "stdout",
     "output_type": "stream",
     "text": [
      "\n",
      "-----\n",
      "\n",
      "Index: 28\n"
     ]
    },
    {
     "data": {
      "text/plain": [
       "'10xdev/src/Loader/LogViewer/LogViewer.js'"
      ]
     },
     "metadata": {},
     "output_type": "display_data"
    },
    {
     "data": {
      "text/html": [
       "10xdevsrcLoaderLogViewerLogViewerjs file exports React component called LogViewer fetches logs API endpoint <span style=\"background-color: yellow;\">every</span> 3 <span style=\"background-color: yellow;\">seconds</span> displays <span style=\"background-color: yellow;\">preformatted</span> text area logs <span style=\"background-color: yellow;\">fetched</span> using callAPI function api module <span style=\"background-color: yellow;\">fetched</span> logs <span style=\"background-color: yellow;\">processed</span> <span style=\"background-color: yellow;\">remove</span> <span style=\"background-color: yellow;\">commas</span> <span style=\"background-color: yellow;\">double</span> <span style=\"background-color: yellow;\">quotes</span> <span style=\"background-color: yellow;\">split</span> rows <span style=\"background-color: yellow;\">longer</span> <span style=\"background-color: yellow;\">100</span> <span style=\"background-color: yellow;\">characters</span> <span style=\"background-color: yellow;\">multiple</span> <span style=\"background-color: yellow;\">lines</span> <span style=\"background-color: yellow;\">processed</span> logs <span style=\"background-color: yellow;\">displayed</span> <span style=\"background-color: yellow;\">preformatted</span> text area using <span style=\"background-color: yellow;\">pre</span> <span style=\"background-color: yellow;\">tag</span> CSS component <span style=\"background-color: yellow;\">defined</span> <span style=\"background-color: yellow;\">separate</span> file called LogViewercss Component log <span style=\"background-color: yellow;\">viewer</span> loader component frontend "
      ],
      "text/plain": [
       "<IPython.core.display.HTML object>"
      ]
     },
     "metadata": {},
     "output_type": "display_data"
    },
    {
     "name": "stdout",
     "output_type": "stream",
     "text": [
      "\n",
      "-----\n",
      "\n",
      "Index: 29\n"
     ]
    },
    {
     "data": {
      "text/plain": [
       "'10xdev/src/ResponseContainer/ResponseContainer.js'"
      ]
     },
     "metadata": {},
     "output_type": "display_data"
    },
    {
     "data": {
      "text/html": [
       "10xdevsrcResponseContainerResponseContainerjs file exports React component called ResponseContainer displays search results <span style=\"background-color: yellow;\">referenced</span> code side container imports CSS file reactcodeblocks another component called Sidecontainer SplitBlocks function <span style=\"background-color: yellow;\">splits</span> text blocks renders <span style=\"background-color: yellow;\">either</span> <span style=\"background-color: yellow;\">paragraphs</span> code blocks <span style=\"background-color: yellow;\">depending</span> <span style=\"background-color: yellow;\">flag</span> <span style=\"background-color: yellow;\">value</span> ResponseContainer component renders container <span style=\"background-color: yellow;\">header</span> <span style=\"background-color: yellow;\">codediffcontainer</span> div contains SplitBlocks function files div contains Sidecontainer component component takes several props including searchResults files referencedcode toggleSideContainer sideContainerOpen Component response container frontend "
      ],
      "text/plain": [
       "<IPython.core.display.HTML object>"
      ]
     },
     "metadata": {},
     "output_type": "display_data"
    },
    {
     "name": "stdout",
     "output_type": "stream",
     "text": [
      "\n",
      "-----\n",
      "\n",
      "Index: 30\n"
     ]
    },
    {
     "data": {
      "text/plain": [
       "'10xdev/src/ResponseContainer/ResponseContainer.css'"
      ]
     },
     "metadata": {},
     "output_type": "display_data"
    },
    {
     "data": {
      "text/html": [
       "10xdevsrcResponseContainerResponseContainercss file contains CSS styles ResponseContainer component includes styles <span style=\"background-color: yellow;\">avatar</span> code <span style=\"background-color: yellow;\">diff</span> container response container code <span style=\"background-color: yellow;\">diff</span> response <span style=\"background-color: yellow;\">picture</span> container files styles <span style=\"background-color: yellow;\">define</span> width <span style=\"background-color: yellow;\">height</span> <span style=\"background-color: yellow;\">padding</span> font color <span style=\"background-color: yellow;\">visual</span> properties components ResponseContainer component <span style=\"background-color: yellow;\">likely</span> used display <span style=\"background-color: yellow;\">responses</span> <span style=\"background-color: yellow;\">comments</span> application CSS file response container frontend "
      ],
      "text/plain": [
       "<IPython.core.display.HTML object>"
      ]
     },
     "metadata": {},
     "output_type": "display_data"
    },
    {
     "name": "stdout",
     "output_type": "stream",
     "text": [
      "\n",
      "-----\n",
      "\n",
      "Index: 31\n"
     ]
    },
    {
     "data": {
      "text/plain": [
       "'10xdev/src/Sync/Sync.js'"
      ]
     },
     "metadata": {},
     "output_type": "display_data"
    },
    {
     "data": {
      "text/html": [
       "10xdevsrcSyncSyncjs file contains React component called Sync handles syncing data API uses useState useEffect hooks manage state <span style=\"background-color: yellow;\">make</span> API calls component displays button <span style=\"background-color: yellow;\">shows</span> <span style=\"background-color: yellow;\">status</span> sync process syncing <span style=\"background-color: yellow;\">done</span> <span style=\"background-color: yellow;\">warning</span> popup <span style=\"background-color: yellow;\">shows</span> <span style=\"background-color: yellow;\">additional</span> information sync process component also handles user interactions button popup Component syncing files frontend "
      ],
      "text/plain": [
       "<IPython.core.display.HTML object>"
      ]
     },
     "metadata": {},
     "output_type": "display_data"
    },
    {
     "name": "stdout",
     "output_type": "stream",
     "text": [
      "\n",
      "-----\n",
      "\n",
      "Index: 32\n"
     ]
    },
    {
     "data": {
      "text/plain": [
       "'10xdev/src/Sync/Sync.css'"
      ]
     },
     "metadata": {},
     "output_type": "display_data"
    },
    {
     "data": {
      "text/html": [
       "10xdevsrcSyncSynccss file contains CSS styles Sync <span style=\"background-color: yellow;\">feature</span> application defines styles Sync container popup container Sync button PopUp button <span style=\"background-color: yellow;\">bullet</span> list popup container new files container styles <span style=\"background-color: yellow;\">include</span> background color font <span style=\"background-color: yellow;\">family</span> font size <span style=\"background-color: yellow;\">padding</span> <span style=\"background-color: yellow;\">margin</span> border border <span style=\"background-color: yellow;\">radius</span> box shadow Sync container popup container specific <span style=\"background-color: yellow;\">positioning</span> zindex <span style=\"background-color: yellow;\">values</span> Sync button hover <span style=\"background-color: yellow;\">effect</span> <span style=\"background-color: yellow;\">defined</span> CSS file sync component frontend "
      ],
      "text/plain": [
       "<IPython.core.display.HTML object>"
      ]
     },
     "metadata": {},
     "output_type": "display_data"
    },
    {
     "name": "stdout",
     "output_type": "stream",
     "text": [
      "\n",
      "-----\n",
      "\n",
      "Index: 33\n"
     ]
    },
    {
     "data": {
      "text/plain": [
       "'10xdev/src/DropDownButton/DropDownButton.js'"
      ]
     },
     "metadata": {},
     "output_type": "display_data"
    },
    {
     "data": {
      "text/html": [
       "10xdevsrcDropDownButtonDropDownButtonjs file contains React component called DropdownButton renders dropdown button several <span style=\"background-color: yellow;\">options</span> component uses useState hook <span style=\"background-color: yellow;\">keep</span> <span style=\"background-color: yellow;\">track</span> whether dropdown open <span style=\"background-color: yellow;\">closed</span> also uses useNavigate hook reactrouterdom handle navigation different <span style=\"background-color: yellow;\">routes</span> <span style=\"background-color: yellow;\">option</span> clicked handleOptionClick function called <span style=\"background-color: yellow;\">option</span> clicked <span style=\"background-color: yellow;\">determines</span> <span style=\"background-color: yellow;\">option</span> clicked <span style=\"background-color: yellow;\">performs</span> <span style=\"background-color: yellow;\">appropriate</span> <span style=\"background-color: yellow;\">action</span> <span style=\"background-color: yellow;\">navigating</span> different route <span style=\"background-color: yellow;\">opening</span> new <span style=\"background-color: yellow;\">tab</span> component also includes CSS styles DropDownButtoncss file Component dropdown button frontend "
      ],
      "text/plain": [
       "<IPython.core.display.HTML object>"
      ]
     },
     "metadata": {},
     "output_type": "display_data"
    },
    {
     "name": "stdout",
     "output_type": "stream",
     "text": [
      "\n",
      "-----\n",
      "\n",
      "Index: 34\n"
     ]
    },
    {
     "data": {
      "text/plain": [
       "'10xdev/src/DropDownButton/DropDownButton.css'"
      ]
     },
     "metadata": {},
     "output_type": "display_data"
    },
    {
     "data": {
      "text/html": [
       "10xdevsrcDropDownButtonDropDownButtoncss file contains CSS styles dropdown button component sets position display <span style=\"background-color: yellow;\">float</span> properties dropdown container well styles user <span style=\"background-color: yellow;\">profile</span> button dropdown list dropdown list specific width font size box shadow <span style=\"background-color: yellow;\">bullets</span> within hover <span style=\"background-color: yellow;\">effects</span> background color text color box shadow CSS file dropdown button frontend "
      ],
      "text/plain": [
       "<IPython.core.display.HTML object>"
      ]
     },
     "metadata": {},
     "output_type": "display_data"
    },
    {
     "name": "stdout",
     "output_type": "stream",
     "text": [
      "\n",
      "-----\n",
      "\n",
      "Index: 35\n"
     ]
    },
    {
     "data": {
      "text/plain": [
       "'utilities/IgnoreAI.py'"
      ]
     },
     "metadata": {},
     "output_type": "display_data"
    },
    {
     "data": {
      "text/html": [
       "utilitiesIgnoreAIpy file contains functions related ignoring certain files <span style=\"background-color: yellow;\">directories</span> analysis processfile function takes file path returns information file including path number tokens sign <span style=\"background-color: yellow;\">indicating</span> whether file within token <span style=\"background-color: yellow;\">limit</span> IgnoreAI function takes email user logger path returns list files ignore list files <span style=\"background-color: yellow;\">analyze</span> parseignorefile function reads ignore file returns <span style=\"background-color: yellow;\">lambda</span> function checks file path <span style=\"background-color: yellow;\">matches</span> <span style=\"background-color: yellow;\">patterns</span> ignore file isfileignored function checks file <span style=\"background-color: yellow;\">ignored</span> <span style=\"background-color: yellow;\">extension</span> Contains functions related ignoring certain files <span style=\"background-color: yellow;\">directories</span> analysis includes functions <span style=\"background-color: yellow;\">processing</span> files ignoring files <span style=\"background-color: yellow;\">parsing</span> ignore files "
      ],
      "text/plain": [
       "<IPython.core.display.HTML object>"
      ]
     },
     "metadata": {},
     "output_type": "display_data"
    },
    {
     "name": "stdout",
     "output_type": "stream",
     "text": [
      "\n",
      "-----\n",
      "\n",
      "Index: 36\n"
     ]
    },
    {
     "data": {
      "text/plain": [
       "'utilities/cognito.py'"
      ]
     },
     "metadata": {},
     "output_type": "display_data"
    },
    {
     "data": {
      "text/html": [
       "utilitiescognitopy file contains function called getuserattributes retrieves email address user Amazon Cognito using access token imports <span style=\"background-color: yellow;\">boto3</span> library create Cognito <span style=\"background-color: yellow;\">client</span> uses getuser method retrieve user information <span style=\"background-color: yellow;\">extracts</span> email address response returns <span style=\"background-color: yellow;\">it</span> error <span style=\"background-color: yellow;\">occurs</span> returns None Contains function called getuserattributes retrieves email address user Amazon Cognito using access token uses <span style=\"background-color: yellow;\">boto3</span> library create Cognito <span style=\"background-color: yellow;\">client</span> retrieves user information using getuser method "
      ],
      "text/plain": [
       "<IPython.core.display.HTML object>"
      ]
     },
     "metadata": {},
     "output_type": "display_data"
    },
    {
     "name": "stdout",
     "output_type": "stream",
     "text": [
      "\n",
      "-----\n",
      "\n",
      "Index: 37\n"
     ]
    },
    {
     "data": {
      "text/plain": [
       "'utilities/completion.py'"
      ]
     },
     "metadata": {},
     "output_type": "display_data"
    },
    {
     "data": {
      "text/html": [
       "utilitiescompletionpy file contains function called generatecompletion uses OpenAI API generate text <span style=\"background-color: yellow;\">completions</span> based given prompt function takes prompt email address used retrieve API key function <span style=\"background-color: yellow;\">sends</span> request OpenAI API given prompt parameters text <span style=\"background-color: yellow;\">generation</span> <span style=\"background-color: yellow;\">maximum</span> number tokens <span style=\"background-color: yellow;\">temperature</span> function returns <span style=\"background-color: yellow;\">generated</span> text string Contains function called generatecompletion uses OpenAI API generate text <span style=\"background-color: yellow;\">completions</span> based given prompt <span style=\"background-color: yellow;\">sends</span> request OpenAI API prompt parameters text <span style=\"background-color: yellow;\">generation</span> returns <span style=\"background-color: yellow;\">generated</span> text string "
      ],
      "text/plain": [
       "<IPython.core.display.HTML object>"
      ]
     },
     "metadata": {},
     "output_type": "display_data"
    },
    {
     "name": "stdout",
     "output_type": "stream",
     "text": [
      "\n",
      "-----\n",
      "\n",
      "Index: 38\n"
     ]
    },
    {
     "data": {
      "text/plain": [
       "'utilities/embedding.py'"
      ]
     },
     "metadata": {},
     "output_type": "display_data"
    },
    {
     "data": {
      "text/html": [
       "utilitiesembeddingpy file contains functions <span style=\"background-color: yellow;\">splitting</span> given text <span style=\"background-color: yellow;\">sentences</span> getting embeddings <span style=\"background-color: yellow;\">sentence</span> using OpenAIs textembeddingada002 model <span style=\"background-color: yellow;\">processing</span> embeddings <span style=\"background-color: yellow;\">batches</span> <span style=\"background-color: yellow;\">avoid</span> <span style=\"background-color: yellow;\">rate</span> <span style=\"background-color: yellow;\">limiting</span> splitsent function <span style=\"background-color: yellow;\">splits</span> given text <span style=\"background-color: yellow;\">sentences</span> getembedding function <span style=\"background-color: yellow;\">gets</span> embedding given <span style=\"background-color: yellow;\">sentence</span> using OpenAIs API processbatch function <span style=\"background-color: yellow;\">processes</span> <span style=\"background-color: yellow;\">batch</span> <span style=\"background-color: yellow;\">sentences</span> <span style=\"background-color: yellow;\">stores</span> embeddings <span style=\"background-color: yellow;\">queue</span> splitembed function <span style=\"background-color: yellow;\">splits</span> given text <span style=\"background-color: yellow;\">sentences</span> creates <span style=\"background-color: yellow;\">queue</span> <span style=\"background-color: yellow;\">store</span> <span style=\"background-color: yellow;\">requests</span> embeddings <span style=\"background-color: yellow;\">processes</span> <span style=\"background-color: yellow;\">requests</span> <span style=\"background-color: yellow;\">batches</span> using processbatch function function returns list embeddings <span style=\"background-color: yellow;\">sentences</span> text Contains functions <span style=\"background-color: yellow;\">splitting</span> text <span style=\"background-color: yellow;\">sentences</span> getting embeddings <span style=\"background-color: yellow;\">sentence</span> using OpenAIs textembeddingada002 model <span style=\"background-color: yellow;\">processing</span> embeddings <span style=\"background-color: yellow;\">batches</span> includes functions <span style=\"background-color: yellow;\">splitting</span> text getting embeddings <span style=\"background-color: yellow;\">processing</span> <span style=\"background-color: yellow;\">batches</span> embeddings "
      ],
      "text/plain": [
       "<IPython.core.display.HTML object>"
      ]
     },
     "metadata": {},
     "output_type": "display_data"
    },
    {
     "name": "stdout",
     "output_type": "stream",
     "text": [
      "\n",
      "-----\n",
      "\n",
      "Index: 39\n"
     ]
    },
    {
     "data": {
      "text/plain": [
       "'utilities/projectInfo.py'"
      ]
     },
     "metadata": {},
     "output_type": "display_data"
    },
    {
     "data": {
      "text/html": [
       "utilitiesprojectInfopy file contains two functions getprojectInfo readinfo getprojectInfo takes email input returns name current repository current branch repository reads infojson file <span style=\"background-color: yellow;\">located</span> <span style=\"background-color: yellow;\">users</span> AIFiles directory get current repository uses git <span style=\"background-color: yellow;\">command</span> get current branch repository readinfo takes email input returns path current repository reads infojson file <span style=\"background-color: yellow;\">located</span> <span style=\"background-color: yellow;\">users</span> AIFiles directory get current repository returns path repository Contains functions getting project information JSON file includes functions getting current repository branch <span style=\"background-color: yellow;\">reading</span> project information JSON file "
      ],
      "text/plain": [
       "<IPython.core.display.HTML object>"
      ]
     },
     "metadata": {},
     "output_type": "display_data"
    },
    {
     "name": "stdout",
     "output_type": "stream",
     "text": [
      "\n",
      "-----\n",
      "\n",
      "Index: 40\n"
     ]
    },
    {
     "data": {
      "text/plain": [
       "'utilities/FilesToAnalyzedata.py'"
      ]
     },
     "metadata": {},
     "output_type": "display_data"
    },
    {
     "data": {
      "text/html": [
       "utilitiesFilesToAnalyzedatapy file contains function called FilesToAnalyzedata takes email user logger path input parameters function uses ThreadPoolExecutor process files <span style=\"background-color: yellow;\">specified</span> path returns list <span style=\"background-color: yellow;\">dictionaries</span> <span style=\"background-color: yellow;\">containing</span> information file function <span style=\"background-color: yellow;\">skips</span> certain file <span style=\"background-color: yellow;\">types</span> files git folder <span style=\"background-color: yellow;\">supported</span> file <span style=\"background-color: yellow;\">types</span> reads file contents <span style=\"background-color: yellow;\">counts</span> number tokens <span style=\"background-color: yellow;\">words</span> <span style=\"background-color: yellow;\">symbols</span> <span style=\"background-color: yellow;\">etc</span> file token count <span style=\"background-color: yellow;\">greater</span> <span style=\"background-color: yellow;\">15000</span> returns <span style=\"background-color: yellow;\">warning</span> sign otherwise returns <span style=\"background-color: yellow;\">checkmark</span> sign file encoding ASCII ISO88591 UTF8 UTF16 returns information sign Contains function called FilesToAnalyzedata <span style=\"background-color: yellow;\">analyzes</span> files <span style=\"background-color: yellow;\">specified</span> path returns list <span style=\"background-color: yellow;\">dictionaries</span> <span style=\"background-color: yellow;\">containing</span> information file <span style=\"background-color: yellow;\">skips</span> certain file <span style=\"background-color: yellow;\">types</span> files git folder <span style=\"background-color: yellow;\">supported</span> file <span style=\"background-color: yellow;\">types</span> reads file contents <span style=\"background-color: yellow;\">counts</span> number tokens file token count <span style=\"background-color: yellow;\">greater</span> certain <span style=\"background-color: yellow;\">limit</span> returns <span style=\"background-color: yellow;\">warning</span> sign otherwise returns <span style=\"background-color: yellow;\">checkmark</span> sign file encoding <span style=\"background-color: yellow;\">supported</span> returns information sign "
      ],
      "text/plain": [
       "<IPython.core.display.HTML object>"
      ]
     },
     "metadata": {},
     "output_type": "display_data"
    },
    {
     "name": "stdout",
     "output_type": "stream",
     "text": [
      "\n",
      "-----\n",
      "\n",
      "Index: 41\n"
     ]
    },
    {
     "data": {
      "text/plain": [
       "'utilities/logger.py'"
      ]
     },
     "metadata": {},
     "output_type": "display_data"
    },
    {
     "data": {
      "text/html": [
       "utilitiesloggerpy file defines class called UserLogger used log messages specific user <span style=\"background-color: yellow;\">initializes</span> logger <span style=\"background-color: yellow;\">object</span> file <span style=\"background-color: yellow;\">handler</span> <span style=\"background-color: yellow;\">writes</span> log messages file <span style=\"background-color: yellow;\">users</span> directory log method used log message <span style=\"background-color: yellow;\">store</span> log <span style=\"background-color: yellow;\">history</span> list getlastlogs method returns <span style=\"background-color: yellow;\">last</span> n log <span style=\"background-color: yellow;\">statements</span> log <span style=\"background-color: yellow;\">history</span> list clearlogs method <span style=\"background-color: yellow;\">clears</span> log <span style=\"background-color: yellow;\">history</span> list Utility module responsible <span style=\"background-color: yellow;\">logging</span> user interactions "
      ],
      "text/plain": [
       "<IPython.core.display.HTML object>"
      ]
     },
     "metadata": {},
     "output_type": "display_data"
    },
    {
     "name": "stdout",
     "output_type": "stream",
     "text": [
      "\n",
      "-----\n",
      "\n",
      "Index: 42\n"
     ]
    },
    {
     "data": {
      "text/plain": [
       "'utilities/files2analyse.py'"
      ]
     },
     "metadata": {},
     "output_type": "display_data"
    },
    {
     "data": {
      "text/html": [
       "utilitiesfiles2analysepy file defines function called <span style=\"background-color: yellow;\">files2analyse</span> takes repository name email <span style=\"background-color: yellow;\">arguments</span> function returns list file paths <span style=\"background-color: yellow;\">ignored</span> certain file <span style=\"background-color: yellow;\">types</span> function first checks ignore file repository <span style=\"background-color: yellow;\">so</span> <span style=\"background-color: yellow;\">parses</span> <span style=\"background-color: yellow;\">determine</span> files ignore <span style=\"background-color: yellow;\">walks</span> repository directory <span style=\"background-color: yellow;\">subdirectories</span> ignoring <span style=\"background-color: yellow;\">directories</span> files <span style=\"background-color: yellow;\">match</span> ignore <span style=\"background-color: yellow;\">patterns</span> nonignored file checks certain file <span style=\"background-color: yellow;\">type</span> text file <span style=\"background-color: yellow;\">supported</span> encoding <span style=\"background-color: yellow;\">passes</span> checks path <span style=\"background-color: yellow;\">added</span> list file paths <span style=\"background-color: yellow;\">returned</span> Defines function called <span style=\"background-color: yellow;\">files2analyse</span> takes repository name email <span style=\"background-color: yellow;\">arguments</span> function returns list file paths <span style=\"background-color: yellow;\">ignored</span> certain file <span style=\"background-color: yellow;\">types</span> function checks ignore file repository <span style=\"background-color: yellow;\">so</span> <span style=\"background-color: yellow;\">parses</span> <span style=\"background-color: yellow;\">determine</span> files ignore <span style=\"background-color: yellow;\">walks</span> repository directory <span style=\"background-color: yellow;\">subdirectories</span> ignoring <span style=\"background-color: yellow;\">directories</span> files <span style=\"background-color: yellow;\">match</span> ignore <span style=\"background-color: yellow;\">patterns</span> nonignored file checks certain file <span style=\"background-color: yellow;\">type</span> text file <span style=\"background-color: yellow;\">supported</span> encoding <span style=\"background-color: yellow;\">passes</span> checks path <span style=\"background-color: yellow;\">added</span> list file paths <span style=\"background-color: yellow;\">returned</span> "
      ],
      "text/plain": [
       "<IPython.core.display.HTML object>"
      ]
     },
     "metadata": {},
     "output_type": "display_data"
    },
    {
     "name": "stdout",
     "output_type": "stream",
     "text": [
      "\n",
      "-----\n",
      "\n",
      "Index: 43\n"
     ]
    },
    {
     "data": {
      "text/plain": [
       "'utilities/keyutils.py'"
      ]
     },
     "metadata": {},
     "output_type": "display_data"
    },
    {
     "data": {
      "text/html": [
       "utilitieskeyutilspy file contains functions related <span style=\"background-color: yellow;\">managing</span> API keys OpenAI setkey function sets API key given user deletekey <span style=\"background-color: yellow;\">deletes</span> API key given user getkey retrieves API key given user testkey function <span style=\"background-color: yellow;\">tests</span> whether API key given user <span style=\"background-color: yellow;\">valid</span> using generate response OpenAIs GPT3 model response <span style=\"background-color: yellow;\">generated</span> <span style=\"background-color: yellow;\">successfully</span> function returns <span style=\"background-color: yellow;\">success</span> message otherwise returns error message file imports json os <span style=\"background-color: yellow;\">time</span> openai tokenCount modules files codebase Contains functions related <span style=\"background-color: yellow;\">managing</span> API keys OpenAI includes functions <span style=\"background-color: yellow;\">setting</span> <span style=\"background-color: yellow;\">deleting</span> <span style=\"background-color: yellow;\">retrieving</span> API keys also includes function <span style=\"background-color: yellow;\">testing</span> <span style=\"background-color: yellow;\">validity</span> API key "
      ],
      "text/plain": [
       "<IPython.core.display.HTML object>"
      ]
     },
     "metadata": {},
     "output_type": "display_data"
    },
    {
     "name": "stdout",
     "output_type": "stream",
     "text": [
      "\n",
      "-----\n",
      "\n",
      "Index: 44\n"
     ]
    },
    {
     "data": {
      "text/plain": [
       "'utilities/create_clone.py'"
      ]
     },
     "metadata": {},
     "output_type": "display_data"
    },
    {
     "data": {
      "text/html": [
       "utilitiescreateclonepy file contains <span style=\"background-color: yellow;\">three</span> functions related creating clone repository createclone function takes repository name email checks <span style=\"background-color: yellow;\">destination</span> folder <span style=\"background-color: yellow;\">exists</span> <span style=\"background-color: yellow;\">deletes</span> <span style=\"background-color: yellow;\">does</span> <span style=\"background-color: yellow;\">copies</span> repository folder <span style=\"background-color: yellow;\">destination</span> getclonepath function returns path <span style=\"background-color: yellow;\">cloned</span> repository getclonefilepath function returns file path specific file within <span style=\"background-color: yellow;\">cloned</span> repository file uses <span style=\"background-color: yellow;\">shutil</span> os modules file <span style=\"background-color: yellow;\">operations</span> Contains functions related creating clone repository includes functions creating clone getting clone path getting clone file path "
      ],
      "text/plain": [
       "<IPython.core.display.HTML object>"
      ]
     },
     "metadata": {},
     "output_type": "display_data"
    },
    {
     "name": "stdout",
     "output_type": "stream",
     "text": [
      "\n",
      "-----\n",
      "\n",
      "Index: 45\n"
     ]
    },
    {
     "data": {
      "text/plain": [
       "'utilities/repoutils.py'"
      ]
     },
     "metadata": {},
     "output_type": "display_data"
    },
    {
     "data": {
      "text/html": [
       "utilitiesrepoutilspy file contains <span style=\"background-color: yellow;\">three</span> functions related repository <span style=\"background-color: yellow;\">management</span> user first function selectrepo takes <span style=\"background-color: yellow;\">full</span> path repository email address updates <span style=\"background-color: yellow;\">users</span> infojson file set current repository <span style=\"background-color: yellow;\">provided</span> path <span style=\"background-color: yellow;\">second</span> function listrepos takes email address returns list <span style=\"background-color: yellow;\">dictionaries</span> <span style=\"background-color: yellow;\">containing</span> information repository <span style=\"background-color: yellow;\">associated</span> user includes repository name whether <span style=\"background-color: yellow;\">trained</span> current branch whether <span style=\"background-color: yellow;\">currently</span> <span style=\"background-color: yellow;\">selected</span> <span style=\"background-color: yellow;\">users</span> current repository <span style=\"background-color: yellow;\">third</span> function deleterepo takes <span style=\"background-color: yellow;\">full</span> path repository email address <span style=\"background-color: yellow;\">deletes</span> repository <span style=\"background-color: yellow;\">users</span> file system also updates <span style=\"background-color: yellow;\">users</span> infojson file <span style=\"background-color: yellow;\">remove</span> <span style=\"background-color: yellow;\">deleted</span> repository list repositories sets current repository <span style=\"background-color: yellow;\">empty</span> string <span style=\"background-color: yellow;\">deleted</span> repository current repository Contains functions related repository <span style=\"background-color: yellow;\">management</span> user includes functions <span style=\"background-color: yellow;\">selecting</span> repository <span style=\"background-color: yellow;\">listing</span> repositories <span style=\"background-color: yellow;\">deleting</span> repository "
      ],
      "text/plain": [
       "<IPython.core.display.HTML object>"
      ]
     },
     "metadata": {},
     "output_type": "display_data"
    },
    {
     "name": "stdout",
     "output_type": "stream",
     "text": [
      "\n",
      "-----\n",
      "\n",
      "Index: 46\n"
     ]
    },
    {
     "data": {
      "text/plain": [
       "'utilities/tokenCount.py'"
      ]
     },
     "metadata": {},
     "output_type": "display_data"
    },
    {
     "data": {
      "text/html": [
       "utilitiestokenCountpy file utilitiestokenCountpy contains function tokenCount takes string input returns number tokens string function first imports <span style=\"background-color: yellow;\">tiktoken</span> uses get encoding <span style=\"background-color: yellow;\">named</span> cl100kbase <span style=\"background-color: yellow;\">removes</span> <span style=\"background-color: yellow;\">extra</span> <span style=\"background-color: yellow;\">white</span> <span style=\"background-color: yellow;\">spaces</span> input string <span style=\"background-color: yellow;\">encodes</span> using encoding <span style=\"background-color: yellow;\">obtained</span> <span style=\"background-color: yellow;\">tiktoken</span> returns number tokens <span style=\"background-color: yellow;\">encoded</span> string Contains function called tokenCount takes string input returns number tokens string function uses library called <span style=\"background-color: yellow;\">tiktoken</span> get encoding <span style=\"background-color: yellow;\">counts</span> tokens string using encoding "
      ],
      "text/plain": [
       "<IPython.core.display.HTML object>"
      ]
     },
     "metadata": {},
     "output_type": "display_data"
    },
    {
     "name": "stdout",
     "output_type": "stream",
     "text": [
      "\n",
      "-----\n",
      "\n",
      "Index: 47\n"
     ]
    },
    {
     "data": {
      "text/plain": [
       "'utilities/AskGPT.py'"
      ]
     },
     "metadata": {},
     "output_type": "display_data"
    },
    {
     "data": {
      "text/html": [
       "utilitiesAskGPTpy file contains function called AskGPT uses OpenAI API generate <span style=\"background-color: yellow;\">responses</span> given prompt function takes parameters email systemmessage prompt <span style=\"background-color: yellow;\">temperature</span> maxtokens <span style=\"background-color: yellow;\">retrys</span> <span style=\"background-color: yellow;\">delay</span> model first checks token count prompt system message within <span style=\"background-color: yellow;\">limits</span> <span style=\"background-color: yellow;\">not</span> returns error message sets OpenAI API key using email <span style=\"background-color: yellow;\">parameter</span> <span style=\"background-color: yellow;\">generates</span> response using given prompt system message response <span style=\"background-color: yellow;\">exceeds</span> token <span style=\"background-color: yellow;\">limit</span> given model <span style=\"background-color: yellow;\">retries</span> <span style=\"background-color: yellow;\">larger</span> model error <span style=\"background-color: yellow;\">retries</span> certain number <span style=\"background-color: yellow;\">times</span> <span style=\"background-color: yellow;\">returning</span> error message Contains function called AskGPT uses OpenAI API generate <span style=\"background-color: yellow;\">responses</span> given prompt function takes parameters email systemmessage prompt <span style=\"background-color: yellow;\">temperature</span> maxtokens <span style=\"background-color: yellow;\">retrys</span> <span style=\"background-color: yellow;\">delay</span> model checks token count prompt system message sets OpenAI API key <span style=\"background-color: yellow;\">generates</span> response using given prompt system message <span style=\"background-color: yellow;\">retries</span> API call error returns <span style=\"background-color: yellow;\">generated</span> response "
      ],
      "text/plain": [
       "<IPython.core.display.HTML object>"
      ]
     },
     "metadata": {},
     "output_type": "display_data"
    },
    {
     "name": "stdout",
     "output_type": "stream",
     "text": [
      "\n",
      "-----\n",
      "\n",
      "Index: 48\n"
     ]
    },
    {
     "data": {
      "text/plain": [
       "'utilities/clone_repo.py'"
      ]
     },
     "metadata": {},
     "output_type": "display_data"
    },
    {
     "data": {
      "text/html": [
       "utilitiesclonerepopy file contains functions related <span style=\"background-color: yellow;\">cloning</span> git repository <span style=\"background-color: yellow;\">selecting</span> branch getting list branches given repository getclones function <span style=\"background-color: yellow;\">clones</span> git repository <span style=\"background-color: yellow;\">users</span> folder <span style=\"background-color: yellow;\">gets</span> list branches updates <span style=\"background-color: yellow;\">users</span> infojson file <span style=\"background-color: yellow;\">cloned</span> repositorys information selectbranch function sets branch given repository getbranches function <span style=\"background-color: yellow;\">gets</span> list branches given repository updates <span style=\"background-color: yellow;\">latest</span> <span style=\"background-color: yellow;\">pull</span> file imports os json <span style=\"background-color: yellow;\">shutil</span> modules uses <span style=\"background-color: yellow;\">subprocess</span> module <span style=\"background-color: yellow;\">run</span> git <span style=\"background-color: yellow;\">commands</span> Utility module responsible <span style=\"background-color: yellow;\">cloning</span> repository "
      ],
      "text/plain": [
       "<IPython.core.display.HTML object>"
      ]
     },
     "metadata": {},
     "output_type": "display_data"
    },
    {
     "name": "stdout",
     "output_type": "stream",
     "text": [
      "\n",
      "-----\n",
      "\n",
      "Index: 49\n"
     ]
    },
    {
     "data": {
      "text/plain": [
       "'utilities/rates.py'"
      ]
     },
     "metadata": {},
     "output_type": "display_data"
    },
    {
     "data": {
      "text/html": [
       "utilitiesratespy file contains two functions setrates getrates used set retrieve rates user setrates function takes list rates email address updates <span style=\"background-color: yellow;\">users</span> infojson file new rates getrates function takes user ID retrieves rates <span style=\"background-color: yellow;\">users</span> infojson file rates <span style=\"background-color: yellow;\">found</span> returns <span style=\"background-color: yellow;\">default</span> rates 3 <span style=\"background-color: yellow;\">60</span> file also imports json os modules file contains functions set retrieve rates user updates <span style=\"background-color: yellow;\">users</span> infojson file new rates retrieves rates infojson file also imports json os modules "
      ],
      "text/plain": [
       "<IPython.core.display.HTML object>"
      ]
     },
     "metadata": {},
     "output_type": "display_data"
    },
    {
     "name": "stdout",
     "output_type": "stream",
     "text": [
      "\n",
      "-----\n",
      "\n",
      "Index: 50\n"
     ]
    },
    {
     "data": {
      "text/plain": [
       "'10xdev/src/UiComponents/alert.js'"
      ]
     },
     "metadata": {},
     "output_type": "display_data"
    },
    {
     "data": {
      "text/html": [
       "10xdevsrcUiComponentsalertjs file exports React component called Alert displays error message based error code <span style=\"background-color: yellow;\">passed</span> prop component uses useState useEffect hooks React manage state whether <span style=\"background-color: yellow;\">show</span> error message set <span style=\"background-color: yellow;\">timeout</span> <span style=\"background-color: yellow;\">hide</span> message 5 <span style=\"background-color: yellow;\">seconds</span> error message <span style=\"background-color: yellow;\">displayed</span> <span style=\"background-color: yellow;\">red</span> <span style=\"background-color: yellow;\">modal</span> error <span style=\"background-color: yellow;\">icon</span> <span style=\"background-color: yellow;\">appropriate</span> error message based error code error code <span style=\"background-color: yellow;\">recognized</span> <span style=\"background-color: yellow;\">generic</span> error message <span style=\"background-color: yellow;\">displayed</span> Component <span style=\"background-color: yellow;\">displaying</span> <span style=\"background-color: yellow;\">alerts</span> frontend "
      ],
      "text/plain": [
       "<IPython.core.display.HTML object>"
      ]
     },
     "metadata": {},
     "output_type": "display_data"
    },
    {
     "name": "stdout",
     "output_type": "stream",
     "text": [
      "\n",
      "-----\n",
      "\n",
      "Index: 51\n"
     ]
    },
    {
     "data": {
      "text/plain": [
       "'10xdev/src/NewWelcome.js'"
      ]
     },
     "metadata": {},
     "output_type": "display_data"
    },
    {
     "data": {
      "text/html": [
       "10xdevsrcNewWelcomejs file defines functional component called NewWelcome renders welcome screen 10XDEVAI application imports React useNavigate reactrouterdom DropDownButton local file component renders title <span style=\"background-color: yellow;\">image</span> message <span style=\"background-color: yellow;\">prompting</span> user <span style=\"background-color: yellow;\">add</span> repository button set repository button clicked calls handleSetupClick function uses useNavigate navigate clone route component <span style=\"background-color: yellow;\">exported</span> <span style=\"background-color: yellow;\">default</span> <span style=\"background-color: yellow;\">export</span> file Component new welcome section frontend "
      ],
      "text/plain": [
       "<IPython.core.display.HTML object>"
      ]
     },
     "metadata": {},
     "output_type": "display_data"
    },
    {
     "name": "stdout",
     "output_type": "stream",
     "text": [
      "\n",
      "-----\n",
      "\n",
      "Index: 52\n"
     ]
    },
    {
     "data": {
      "text/plain": [
       "'10xdev/src/LeftWelcome.js'"
      ]
     },
     "metadata": {},
     "output_type": "display_data"
    },
    {
     "data": {
      "text/html": [
       "10xdevsrcLeftWelcomejs file LeftWelcomejs React component <span style=\"background-color: yellow;\">represents</span> left side welcome screen imports various dependencies React useContext useState useEffect several components files component uses useContext hook access state functions SearchContext context also uses useState hook manage local state variables component contains several <span style=\"background-color: yellow;\">event</span> <span style=\"background-color: yellow;\">handlers</span> useEffect hooks fetch data API <span style=\"background-color: yellow;\">update</span> state <span style=\"background-color: yellow;\">accordingly</span> also includes <span style=\"background-color: yellow;\">conditional</span> rendering based state variables component renders UI includes project info section file tree sync button also includes loading spinner data <span style=\"background-color: yellow;\">fetched</span> Component left welcome section frontend "
      ],
      "text/plain": [
       "<IPython.core.display.HTML object>"
      ]
     },
     "metadata": {},
     "output_type": "display_data"
    },
    {
     "name": "stdout",
     "output_type": "stream",
     "text": [
      "\n",
      "-----\n",
      "\n",
      "Index: 53\n"
     ]
    },
    {
     "data": {
      "text/plain": [
       "'utilities/notebook_utils.py'"
      ]
     },
     "metadata": {},
     "output_type": "display_data"
    },
    {
     "data": {
      "text/html": [
       "utilitiesnotebookutilspy file contains function called convertipynbtopython <span style=\"background-color: yellow;\">converts</span> Jupyter notebook file <span style=\"background-color: yellow;\">ipynb</span> Python script function takes file path input reads notebook file using <span style=\"background-color: yellow;\">nbformat</span> library uses PythonExporter class <span style=\"background-color: yellow;\">nbconvert</span> library <span style=\"background-color: yellow;\">convert</span> notebook Python code <span style=\"background-color: yellow;\">resulting</span> Python code <span style=\"background-color: yellow;\">returned</span> function file contains function called convertipynbtopython <span style=\"background-color: yellow;\">converts</span> Jupyter notebook file <span style=\"background-color: yellow;\">ipynb</span> Python script reads notebook file using <span style=\"background-color: yellow;\">nbformat</span> library uses PythonExporter class <span style=\"background-color: yellow;\">nbconvert</span> library <span style=\"background-color: yellow;\">convert</span> notebook Python code "
      ],
      "text/plain": [
       "<IPython.core.display.HTML object>"
      ]
     },
     "metadata": {},
     "output_type": "display_data"
    },
    {
     "name": "stdout",
     "output_type": "stream",
     "text": [
      "\n",
      "-----\n",
      "\n",
      "Index: 54\n"
     ]
    },
    {
     "data": {
      "text/plain": [
       "'utilities/create_project_summary.py'"
      ]
     },
     "metadata": {},
     "output_type": "display_data"
    },
    {
     "data": {
      "text/html": [
       "utilitiescreateprojectsummarypy file createprojectsummarypy utility script creates summary project imports <span style=\"background-color: yellow;\">pandas</span> library <span style=\"background-color: yellow;\">pd</span> defines function called createprojectsummary function takes two parameters reponame email <span style=\"background-color: yellow;\">constructs</span> filename <span style=\"background-color: yellow;\">concatenating</span> email repository name csv <span style=\"background-color: yellow;\">extension</span> uses pdreadcsv function <span style=\"background-color: yellow;\">read</span> contents CSV file <span style=\"background-color: yellow;\">specified</span> filename Contains utility script creates summary project reads CSV file <span style=\"background-color: yellow;\">performs</span> analysis summaries <span style=\"background-color: yellow;\">prints</span> file summaries <span style=\"background-color: yellow;\">performs</span> <span style=\"background-color: yellow;\">example</span> analysis <span style=\"background-color: yellow;\">prints</span> results "
      ],
      "text/plain": [
       "<IPython.core.display.HTML object>"
      ]
     },
     "metadata": {},
     "output_type": "display_data"
    },
    {
     "name": "stdout",
     "output_type": "stream",
     "text": [
      "\n",
      "-----\n",
      "\n",
      "Index: 55\n"
     ]
    },
    {
     "data": {
      "text/plain": [
       "'utilities/folder_tree_structure.py'"
      ]
     },
     "metadata": {},
     "output_type": "display_data"
    },
    {
     "data": {
      "text/html": [
       "utilitiesfoldertreestructurepy file foldertreestructurepy contains function called generatefolderstructure <span style=\"background-color: yellow;\">generates</span> treelike structure <span style=\"background-color: yellow;\">folders</span> files within given <span style=\"background-color: yellow;\">root</span> folder function takes two parameters email <span style=\"background-color: yellow;\">the</span> <span style=\"background-color: yellow;\">users</span> email rootfolder <span style=\"background-color: yellow;\">the</span> <span style=\"background-color: yellow;\">root</span> folder generate structure <span style=\"background-color: yellow;\">from</span> Inside function <span style=\"background-color: yellow;\">nested</span> function called traversefolder <span style=\"background-color: yellow;\">recursively</span> <span style=\"background-color: yellow;\">traverses</span> <span style=\"background-color: yellow;\">folders</span> files within <span style=\"background-color: yellow;\">root</span> folder function uses os module <span style=\"background-color: yellow;\">interact</span> file system checks folder <span style=\"background-color: yellow;\">starts</span> <span style=\"background-color: yellow;\">dot</span> <span style=\"background-color: yellow;\">indicating</span> <span style=\"background-color: yellow;\">ignored</span> <span style=\"background-color: yellow;\">skips</span> <span style=\"background-color: yellow;\">does</span> <span style=\"background-color: yellow;\">appends</span> folder name log list <span style=\"background-color: yellow;\">item</span> folder file within folder checks directory <span style=\"background-color: yellow;\">is</span> <span style=\"background-color: yellow;\">calculates</span> <span style=\"background-color: yellow;\">relative</span> path <span style=\"background-color: yellow;\">root</span> folder checks <span style=\"background-color: yellow;\">ignored</span> using AIignore function <span style=\"background-color: yellow;\">ignored</span> <span style=\"background-color: yellow;\">recursively</span> calls traversefolder function <span style=\"background-color: yellow;\">item</span> new folder <span style=\"background-color: yellow;\">item</span> file <span style=\"background-color: yellow;\">appends</span> file name log list <span style=\"background-color: yellow;\">calling</span> traversefolder function code checks ignore file <span style=\"background-color: yellow;\">exists</span> given <span style=\"background-color: yellow;\">root</span> folder <span style=\"background-color: yellow;\">does</span> <span style=\"background-color: yellow;\">parses</span> ignore file using parseignorefile function IgnoreAI module ignore file <span style=\"background-color: yellow;\">exist</span> <span style=\"background-color: yellow;\">assigns</span> <span style=\"background-color: yellow;\">lambda</span> function <span style=\"background-color: yellow;\">always</span> returns False AIignore Finally function returns log list <span style=\"background-color: yellow;\">joined</span> <span style=\"background-color: yellow;\">newline</span> <span style=\"background-color: yellow;\">characters</span> create string <span style=\"background-color: yellow;\">representation</span> folder structure Contains function called generatefolderstructure <span style=\"background-color: yellow;\">generates</span> treelike structure <span style=\"background-color: yellow;\">folders</span> files within given <span style=\"background-color: yellow;\">root</span> folder uses os module <span style=\"background-color: yellow;\">interact</span> file system <span style=\"background-color: yellow;\">recursively</span> <span style=\"background-color: yellow;\">traverses</span> <span style=\"background-color: yellow;\">folders</span> files create structure returns string <span style=\"background-color: yellow;\">representation</span> folder structure "
      ],
      "text/plain": [
       "<IPython.core.display.HTML object>"
      ]
     },
     "metadata": {},
     "output_type": "display_data"
    },
    {
     "name": "stdout",
     "output_type": "stream",
     "text": [
      "\n",
      "-----\n",
      "\n",
      "Index: 56\n"
     ]
    },
    {
     "data": {
      "text/plain": [
       "'utilities/fs_analyzer.py'"
      ]
     },
     "metadata": {},
     "output_type": "display_data"
    },
    {
     "data": {
      "text/html": [
       "utilitiesfsanalyzerpy file utilitiesfsanalyzerpy contains function called analyzesummaries takes repository name email parameters function <span style=\"background-color: yellow;\">loads</span> CSV file <span style=\"background-color: yellow;\">named</span> repository specific file path <span style=\"background-color: yellow;\">filters</span> files summary Ignore <span style=\"background-color: yellow;\">filtering</span> function <span style=\"background-color: yellow;\">performs</span> analysis summaries specific analysis <span style=\"background-color: yellow;\">logic</span> <span style=\"background-color: yellow;\">provided</span> <span style=\"background-color: yellow;\">needs</span> <span style=\"background-color: yellow;\">added</span> user function <span style=\"background-color: yellow;\">prints</span> file summaries <span style=\"background-color: yellow;\">iterating</span> <span style=\"background-color: yellow;\">filtered</span> dataframe <span style=\"background-color: yellow;\">printing</span> file path summary <span style=\"background-color: yellow;\">row</span> Next provides <span style=\"background-color: yellow;\">example</span> analysis <span style=\"background-color: yellow;\">counts</span> number files summaries <span style=\"background-color: yellow;\">calculates</span> <span style=\"background-color: yellow;\">average</span> <span style=\"background-color: yellow;\">length</span> summaries <span style=\"background-color: yellow;\">gets</span> <span style=\"background-color: yellow;\">common</span> <span style=\"background-color: yellow;\">words</span> summaries Finally function <span style=\"background-color: yellow;\">prints</span> results <span style=\"background-color: yellow;\">example</span> analysis file also includes <span style=\"background-color: yellow;\">example</span> <span style=\"background-color: yellow;\">usage</span> analyzesummaries function repository name email <span style=\"background-color: yellow;\">provided</span> <span style=\"background-color: yellow;\">arguments</span> Contains function called analyzesummaries takes repository name email parameters <span style=\"background-color: yellow;\">loads</span> CSV file <span style=\"background-color: yellow;\">filters</span> files Ignore summaries <span style=\"background-color: yellow;\">performs</span> analysis summaries <span style=\"background-color: yellow;\">prints</span> results "
      ],
      "text/plain": [
       "<IPython.core.display.HTML object>"
      ]
     },
     "metadata": {},
     "output_type": "display_data"
    },
    {
     "name": "stdout",
     "output_type": "stream",
     "text": [
      "\n",
      "-----\n",
      "\n",
      "Index: 57\n"
     ]
    },
    {
     "data": {
      "text/plain": [
       "'utilities/summarize.py'"
      ]
     },
     "metadata": {},
     "output_type": "display_data"
    },
    {
     "data": {
      "text/html": [
       "utilitiessummarizepy file contains two functions <span style=\"background-color: yellow;\">summarizing</span> text first function summarizebig takes input string filename email parameters <span style=\"background-color: yellow;\">initializes</span> <span style=\"background-color: yellow;\">language</span> model ChatOpenAI text <span style=\"background-color: yellow;\">splitter</span> RecursiveCharacterTextSplitter <span style=\"background-color: yellow;\">splits</span> input string <span style=\"background-color: yellow;\">chunks</span> creates <span style=\"background-color: yellow;\">documents</span> <span style=\"background-color: yellow;\">chunks</span> <span style=\"background-color: yellow;\">runs</span> <span style=\"background-color: yellow;\">summarize</span> <span style=\"background-color: yellow;\">chain</span> <span style=\"background-color: yellow;\">documents</span> using <span style=\"background-color: yellow;\">language</span> model <span style=\"background-color: yellow;\">output</span> <span style=\"background-color: yellow;\">returned</span> <span style=\"background-color: yellow;\">second</span> function summarizestr takes filename string email <span style=\"background-color: yellow;\">userlogger</span> parameters checks token count input string <span style=\"background-color: yellow;\">determines</span> <span style=\"background-color: yellow;\">appropriate</span> <span style=\"background-color: yellow;\">language</span> model <span style=\"background-color: yellow;\">use</span> based token count token count <span style=\"background-color: yellow;\">greater</span> <span style=\"background-color: yellow;\">12000</span> calls summarizebig function Otherwise uses OpenAI ChatCompletion API generate summary <span style=\"background-color: yellow;\">sends</span> system message user message API <span style=\"background-color: yellow;\">specifying</span> file name string <span style=\"background-color: yellow;\">summarize</span> <span style=\"background-color: yellow;\">retries</span> API call <span style=\"background-color: yellow;\">three</span> <span style=\"background-color: yellow;\">times</span> error <span style=\"background-color: yellow;\">generated</span> summary <span style=\"background-color: yellow;\">returned</span> Contains functions <span style=\"background-color: yellow;\">summarizing</span> text includes functions <span style=\"background-color: yellow;\">generating</span> summaries using OpenAIs API <span style=\"background-color: yellow;\">filtering</span> <span style=\"background-color: yellow;\">searching</span> files based user <span style=\"background-color: yellow;\">prompts</span> "
      ],
      "text/plain": [
       "<IPython.core.display.HTML object>"
      ]
     },
     "metadata": {},
     "output_type": "display_data"
    },
    {
     "name": "stdout",
     "output_type": "stream",
     "text": [
      "\n",
      "-----\n",
      "\n",
      "Index: 58\n"
     ]
    },
    {
     "data": {
      "text/plain": [
       "'10xdev/src/CreateProject.js'"
      ]
     },
     "metadata": {},
     "output_type": "display_data"
    },
    {
     "data": {
      "text/html": [
       "10xdevsrcCreateProjectjs file React component called CreateProject responsible rendering form create new project imports various dependencies React useState useEffect useContext useRef React library well components functions files codebase component uses useContext hook access state functions SearchContext context <span style=\"background-color: yellow;\">manages</span> search functionality also uses useRef hook create <span style=\"background-color: yellow;\">reference</span> loading <span style=\"background-color: yellow;\">ring</span> element component defines several state variables using useState hook including prompt clarifyingQuestions <span style=\"background-color: yellow;\">spec</span> userClarifyingAnswers also defines several <span style=\"background-color: yellow;\">event</span> <span style=\"background-color: yellow;\">handler</span> functions handle changes form <span style=\"background-color: yellow;\">inputs</span> <span style=\"background-color: yellow;\">submit</span> form handleSubmit function called form <span style=\"background-color: yellow;\">submitted</span> makes API call create new project handleClarifyingQuestionsSubmit function called user <span style=\"background-color: yellow;\">submits</span> <span style=\"background-color: yellow;\">clarifying</span> <span style=\"background-color: yellow;\">answers</span> makes another API call handleProceedClick function called user <span style=\"background-color: yellow;\">clicks</span> Proceed button makes another API call component renders form <span style=\"background-color: yellow;\">inputs</span> including <span style=\"background-color: yellow;\">textarea</span> project <span style=\"background-color: yellow;\">description</span> <span style=\"background-color: yellow;\">textarea</span> <span style=\"background-color: yellow;\">clarifying</span> <span style=\"background-color: yellow;\">answers</span> also renders <span style=\"background-color: yellow;\">clarifying</span> <span style=\"background-color: yellow;\">questions</span> <span style=\"background-color: yellow;\">spec</span> <span style=\"background-color: yellow;\">available</span> Additionally renders loading spinner isLoading state variable <span style=\"background-color: yellow;\">true</span> Overall file responsible rendering form create new project handling <span style=\"background-color: yellow;\">submission</span> API calls <span style=\"background-color: yellow;\">associated</span> <span style=\"background-color: yellow;\">it</span> React component responsible rendering form create new project handling <span style=\"background-color: yellow;\">submission</span> API calls <span style=\"background-color: yellow;\">associated</span> <span style=\"background-color: yellow;\">it</span> "
      ],
      "text/plain": [
       "<IPython.core.display.HTML object>"
      ]
     },
     "metadata": {},
     "output_type": "display_data"
    },
    {
     "name": "stdout",
     "output_type": "stream",
     "text": [
      "\n",
      "-----\n",
      "\n",
      "Index: 59\n"
     ]
    },
    {
     "data": {
      "text/plain": [
       "'10xdev/src/Wait.js'"
      ]
     },
     "metadata": {},
     "output_type": "display_data"
    },
    {
     "data": {
      "text/html": [
       "10xdevsrcWaitjs file Waitjs React component displays message <span style=\"background-color: yellow;\">asking</span> user wait <span style=\"background-color: yellow;\">minute</span> uses useEffect hook set <span style=\"background-color: yellow;\">timeout</span> <span style=\"background-color: yellow;\">navigates</span> user welcome route 1 <span style=\"background-color: yellow;\">minute</span> <span style=\"background-color: yellow;\">60000</span> <span style=\"background-color: yellow;\">milliseconds</span> useNavigate hook reactrouterdom library used handle navigation <span style=\"background-color: yellow;\">timeout</span> <span style=\"background-color: yellow;\">cleared</span> component <span style=\"background-color: yellow;\">unmounted</span> <span style=\"background-color: yellow;\">prevent</span> <span style=\"background-color: yellow;\">memory</span> <span style=\"background-color: yellow;\">leaks</span> component returns div element <span style=\"background-color: yellow;\">containing</span> <span style=\"background-color: yellow;\">h1</span> element wait message React component displays message <span style=\"background-color: yellow;\">asking</span> user wait <span style=\"background-color: yellow;\">minute</span> "
      ],
      "text/plain": [
       "<IPython.core.display.HTML object>"
      ]
     },
     "metadata": {},
     "output_type": "display_data"
    },
    {
     "name": "stdout",
     "output_type": "stream",
     "text": [
      "\n",
      "-----\n",
      "\n",
      "Index: 60\n"
     ]
    },
    {
     "data": {
      "text/plain": [
       "'10xdev/src/Clone.js'"
      ]
     },
     "metadata": {},
     "output_type": "display_data"
    },
    {
     "data": {
      "text/html": [
       "10xdevsrcClonejs file React component called Clone responsible rendering form clone Git repository imports various dependencies React useState useContext useEffect <span style=\"background-color: yellow;\">others</span> also imports components styles files codebase component <span style=\"background-color: yellow;\">initializes</span> AOS library sets state variables using useState hook retrieves <span style=\"background-color: yellow;\">hostname</span> navigation function using useNavigate hook also sets state variables <span style=\"background-color: yellow;\">authentication</span> repositories component defines functions handling <span style=\"background-color: yellow;\">cloning</span> process including handling <span style=\"background-color: yellow;\">public</span> <span style=\"background-color: yellow;\">private</span> repositories handling input changes <span style=\"background-color: yellow;\">selecting</span> branch also defines function <span style=\"background-color: yellow;\">searching</span> repositories component uses useEffect hook handle <span style=\"background-color: yellow;\">authentication</span> retrieve repositories component <span style=\"background-color: yellow;\">mounts</span> also uses useEffect hook <span style=\"background-color: yellow;\">initialize</span> AOS library component renders form <span style=\"background-color: yellow;\">cloning</span> repository including input <span style=\"background-color: yellow;\">fields</span> repository URL branch <span style=\"background-color: yellow;\">selection</span> also renders buttons <span style=\"background-color: yellow;\">connecting</span> GitHub <span style=\"background-color: yellow;\">displaying</span> repositories component <span style=\"background-color: yellow;\">conditionally</span> renders loading <span style=\"background-color: yellow;\">indicators</span> displays <span style=\"background-color: yellow;\">cloned</span> branches repositories based <span style=\"background-color: yellow;\">users</span> <span style=\"background-color: yellow;\">actions</span> React component responsible rendering form clone Git repository handling <span style=\"background-color: yellow;\">cloning</span> process "
      ],
      "text/plain": [
       "<IPython.core.display.HTML object>"
      ]
     },
     "metadata": {},
     "output_type": "display_data"
    },
    {
     "name": "stdout",
     "output_type": "stream",
     "text": [
      "\n",
      "-----\n",
      "\n",
      "Index: 61\n"
     ]
    },
    {
     "data": {
      "text/plain": [
       "'10xdev/src/Branch/rough'"
      ]
     },
     "metadata": {},
     "output_type": "display_data"
    },
    {
     "data": {
      "text/html": [
       "10xdevsrcBranchrough file React component called BranchesList displays <span style=\"background-color: yellow;\">table</span> branches uses useState hook React manage current page <span style=\"background-color: yellow;\">pagination</span> component <span style=\"background-color: yellow;\">receives</span> <span style=\"background-color: yellow;\">array</span> branches props renders <span style=\"background-color: yellow;\">table</span> <span style=\"background-color: yellow;\">row</span> branch also includes <span style=\"background-color: yellow;\">pagination</span> functionality <span style=\"background-color: yellow;\">previous</span> <span style=\"background-color: yellow;\">next</span> buttons well <span style=\"background-color: yellow;\">numbered</span> buttons page number <span style=\"background-color: yellow;\">items</span> <span style=\"background-color: yellow;\">per</span> page set <span style=\"background-color: yellow;\">10</span> React component displays <span style=\"background-color: yellow;\">table</span> branches handles <span style=\"background-color: yellow;\">pagination</span> functionality "
      ],
      "text/plain": [
       "<IPython.core.display.HTML object>"
      ]
     },
     "metadata": {},
     "output_type": "display_data"
    },
    {
     "name": "stdout",
     "output_type": "stream",
     "text": [
      "\n",
      "-----\n",
      "\n",
      "Index: 62\n"
     ]
    },
    {
     "data": {
      "text/plain": [
       "'Test.py'"
      ]
     },
     "metadata": {},
     "output_type": "display_data"
    },
    {
     "data": {
      "text/html": [
       "Testpy file Testpy <span style=\"background-color: yellow;\">test</span> script imports two functions summarizestr summarizebig utilitiessummarize module also imports os module script defines <span style=\"background-color: yellow;\">sample</span> input string <span style=\"background-color: yellow;\">sample</span> filename <span style=\"background-color: yellow;\">sample</span> email address creates <span style=\"background-color: yellow;\">full</span> file path <span style=\"background-color: yellow;\">joining</span> various directory file <span style=\"background-color: yellow;\">names</span> using ospathjoin function script also defines function called testsummarizebig function <span style=\"background-color: yellow;\">attempts</span> open file <span style=\"background-color: yellow;\">specified</span> <span style=\"background-color: yellow;\">full</span> file path reads contents <span style=\"background-color: yellow;\">passes</span> file contents <span style=\"background-color: yellow;\">sample</span> filename <span style=\"background-color: yellow;\">sample</span> email summarizebig function <span style=\"background-color: yellow;\">output</span> summarizebig function <span style=\"background-color: yellow;\">printed</span> <span style=\"background-color: yellow;\">exists</span> otherwise message <span style=\"background-color: yellow;\">indicating</span> <span style=\"background-color: yellow;\">summarization</span> <span style=\"background-color: yellow;\">failed</span> <span style=\"background-color: yellow;\">printed</span> Finally script checks <span style=\"background-color: yellow;\">run</span> <span style=\"background-color: yellow;\">main</span> module <span style=\"background-color: yellow;\">so</span> calls testsummarizebig function Test script imports functions utilitiessummarize module os module <span style=\"background-color: yellow;\">tests</span> summarizebig function <span style=\"background-color: yellow;\">reading</span> contents file <span style=\"background-color: yellow;\">passing</span> function "
      ],
      "text/plain": [
       "<IPython.core.display.HTML object>"
      ]
     },
     "metadata": {},
     "output_type": "display_data"
    },
    {
     "name": "stdout",
     "output_type": "stream",
     "text": [
      "\n",
      "-----\n",
      "\n",
      "Index: 63\n"
     ]
    },
    {
     "data": {
      "text/plain": [
       "'10xdev/src/landing page/landing.js'"
      ]
     },
     "metadata": {},
     "output_type": "display_data"
    },
    {
     "data": {
      "text/html": [
       "10xdevsrclanding pagelandingjs file JavaScript code landing page 10XDEVAI <span style=\"background-color: yellow;\">website</span> imports React useEffect react library also imports CSS file <span style=\"background-color: yellow;\">image</span> file code defines functional component called LandingPage Inside component checks <span style=\"background-color: yellow;\">hostname</span> current <span style=\"background-color: yellow;\">window</span> sets redirectUri variable based <span style=\"background-color: yellow;\">hostname</span> component also uses useEffect hook <span style=\"background-color: yellow;\">remove</span> <span style=\"background-color: yellow;\">item</span> local <span style=\"background-color: yellow;\">storage</span> <span style=\"background-color: yellow;\">return</span> <span style=\"background-color: yellow;\">statement</span> component contains JSX code landing page <span style=\"background-color: yellow;\">layout</span> includes <span style=\"background-color: yellow;\">header</span> <span style=\"background-color: yellow;\">sections</span> content <span style=\"background-color: yellow;\">footer</span> JSX code includes HTML elements CSS <span style=\"background-color: yellow;\">classes</span> styling <span style=\"background-color: yellow;\">dynamic</span> <span style=\"background-color: yellow;\">values</span> URLs <span style=\"background-color: yellow;\">image</span> <span style=\"background-color: yellow;\">sources</span> <span style=\"background-color: yellow;\">end</span> file script <span style=\"background-color: yellow;\">tag</span> imports <span style=\"background-color: yellow;\">external</span> JavaScript library called Flowbite Role JavaScript code landing page 10XDEVAI <span style=\"background-color: yellow;\">website</span> "
      ],
      "text/plain": [
       "<IPython.core.display.HTML object>"
      ]
     },
     "metadata": {},
     "output_type": "display_data"
    },
    {
     "name": "stdout",
     "output_type": "stream",
     "text": [
      "\n",
      "-----\n",
      "\n",
      "Index: 64\n"
     ]
    },
    {
     "data": {
      "text/plain": [
       "'trainAI.py'"
      ]
     },
     "metadata": {},
     "output_type": "display_data"
    },
    {
     "data": {
      "text/html": [
       "trainAIpy file trainAIpy contains functions training AI model given repository function summarizefile takes repository name file path <span style=\"background-color: yellow;\">index</span> <span style=\"background-color: yellow;\">value</span> user logger email first checks file text file <span style=\"background-color: yellow;\">not</span> logs message returns Ignore file <span style=\"background-color: yellow;\">ipynb</span> file <span style=\"background-color: yellow;\">converts</span> humanreadable <span style=\"background-color: yellow;\">format</span> Then reads contents file checks <span style=\"background-color: yellow;\">long</span> <span style=\"background-color: yellow;\">is</span> logs message returns File content <span style=\"background-color: yellow;\">long</span> Otherwise calls summarizestr function generate summary file contents returns <span style=\"background-color: yellow;\">updated</span> <span style=\"background-color: yellow;\">index</span> <span style=\"background-color: yellow;\">value</span> <span style=\"background-color: yellow;\">generated</span> summary function trainAI takes repository name user logger email first <span style=\"background-color: yellow;\">tracks</span> <span style=\"background-color: yellow;\">event</span> using trackevent function Then creates file path <span style=\"background-color: yellow;\">saving</span> <span style=\"background-color: yellow;\">trained</span> AI model calls <span style=\"background-color: yellow;\">files2analyse</span> function get list file paths <span style=\"background-color: yellow;\">analyze</span> repository list <span style=\"background-color: yellow;\">empty</span> creates <span style=\"background-color: yellow;\">empty</span> dataframe <span style=\"background-color: yellow;\">saves</span> CSV file Otherwise creates dataframe file paths <span style=\"background-color: yellow;\">initializes</span> summary embedding <span style=\"background-color: yellow;\">columns</span> <span style=\"background-color: yellow;\">empty</span> <span style=\"background-color: yellow;\">iterates</span> file path dataframe calls summarizefile function generate summary embedding file summary Ignore <span style=\"background-color: yellow;\">adds</span> summary embedding dataframe <span style=\"background-color: yellow;\">analyzing</span> files <span style=\"background-color: yellow;\">removes</span> rows Ignore summary <span style=\"background-color: yellow;\">column</span> <span style=\"background-color: yellow;\">saves</span> dataframe CSV file <span style=\"background-color: yellow;\">selects</span> repository creates project summary creates clone repository Finally logs message <span style=\"background-color: yellow;\">indicating</span> <span style=\"background-color: yellow;\">completion</span> training process Contains functions training AI model given repository summarizefile function <span style=\"background-color: yellow;\">generates</span> summary files contents trainAI function <span style=\"background-color: yellow;\">analyzes</span> files repository creates project summary creates clone repository "
      ],
      "text/plain": [
       "<IPython.core.display.HTML object>"
      ]
     },
     "metadata": {},
     "output_type": "display_data"
    },
    {
     "name": "stdout",
     "output_type": "stream",
     "text": [
      "\n",
      "-----\n",
      "\n",
      "Index: 65\n"
     ]
    },
    {
     "data": {
      "text/plain": [
       "'10xdev/src/Repos.js'"
      ]
     },
     "metadata": {},
     "output_type": "display_data"
    },
    {
     "data": {
      "text/html": [
       "10xdevsrcReposjs file React component called Repos displays list repositories imports various dependencies React useEffect useState useContext react library well components <span style=\"background-color: yellow;\">icons</span> component fetches data API endpoint using callAPI function sets <span style=\"background-color: yellow;\">fetched</span> data <span style=\"background-color: yellow;\">repos</span> state variable using useState hook also uses useEffect hook fetch data component <span style=\"background-color: yellow;\">mounts</span> component defines several <span style=\"background-color: yellow;\">callback</span> functions handling different <span style=\"background-color: yellow;\">actions</span> <span style=\"background-color: yellow;\">deleting</span> repository <span style=\"background-color: yellow;\">selecting</span> repository training repository <span style=\"background-color: yellow;\">changing</span> branch repository <span style=\"background-color: yellow;\">navigating</span> files repository render function displays list repositories cards <span style=\"background-color: yellow;\">card</span> <span style=\"background-color: yellow;\">showing</span> repositorys directory branch whether <span style=\"background-color: yellow;\">trained</span> <span style=\"background-color: yellow;\">not</span> also provides buttons <span style=\"background-color: yellow;\">performing</span> <span style=\"background-color: yellow;\">actions</span> training <span style=\"background-color: yellow;\">selecting</span> <span style=\"background-color: yellow;\">deleting</span> <span style=\"background-color: yellow;\">viewing</span> files repository isLoading state variable <span style=\"background-color: yellow;\">true</span> loading spinner <span style=\"background-color: yellow;\">displayed</span> Otherwise list repositories button <span style=\"background-color: yellow;\">setting</span> new repository <span style=\"background-color: yellow;\">shown</span> React component displays list repositories handles various <span style=\"background-color: yellow;\">actions</span> <span style=\"background-color: yellow;\">deleting</span> <span style=\"background-color: yellow;\">selecting</span> training repository fetches data API endpoint renders list repositories cards "
      ],
      "text/plain": [
       "<IPython.core.display.HTML object>"
      ]
     },
     "metadata": {},
     "output_type": "display_data"
    },
    {
     "name": "stdout",
     "output_type": "stream",
     "text": [
      "\n",
      "-----\n",
      "\n",
      "Index: 66\n"
     ]
    },
    {
     "data": {
      "text/plain": [
       "'utilities/summary_analyzer.py'"
      ]
     },
     "metadata": {},
     "output_type": "display_data"
    },
    {
     "data": {
      "text/html": [
       "utilitiessummaryanalyzerpy file summaryanalyzerpy contains function analyzesystemmessages takes filename string email <span style=\"background-color: yellow;\">userlogger</span> parameters function sets OpenAI API key using getkey function <span style=\"background-color: yellow;\">keyutils</span> module defines list systemmessages <span style=\"background-color: yellow;\">containing</span> <span style=\"background-color: yellow;\">predefined</span> system messages Based <span style=\"background-color: yellow;\">length</span> string function <span style=\"background-color: yellow;\">determines</span> <span style=\"background-color: yellow;\">appropriate</span> GPT3 model <span style=\"background-color: yellow;\">use</span> token count string <span style=\"background-color: yellow;\">greater</span> <span style=\"background-color: yellow;\">3500</span> uses gpt35turbo16k model otherwise uses gpt35turbo model function <span style=\"background-color: yellow;\">enters</span> <span style=\"background-color: yellow;\">loop</span> <span style=\"background-color: yellow;\">maximum</span> number <span style=\"background-color: yellow;\">attempts</span> set 3 <span style=\"background-color: yellow;\">attempts</span> <span style=\"background-color: yellow;\">make</span> chat <span style=\"background-color: yellow;\">completion</span> request OpenAI API using <span style=\"background-color: yellow;\">specified</span> model <span style=\"background-color: yellow;\">combination</span> systemmessages user message <span style=\"background-color: yellow;\">containing</span> filename string request <span style=\"background-color: yellow;\">successful</span> function returns <span style=\"background-color: yellow;\">generated</span> response API <span style=\"background-color: yellow;\">exception</span> <span style=\"background-color: yellow;\">occurs</span> function logs error <span style=\"background-color: yellow;\">retries</span> 20second <span style=\"background-color: yellow;\">delay</span> number <span style=\"background-color: yellow;\">attempts</span> <span style=\"background-color: yellow;\">incremented</span> <span style=\"background-color: yellow;\">retry</span> <span style=\"background-color: yellow;\">maximum</span> number <span style=\"background-color: yellow;\">retry</span> <span style=\"background-color: yellow;\">attempts</span> <span style=\"background-color: yellow;\">reached</span> function logs message <span style=\"background-color: yellow;\">indicating</span> <span style=\"background-color: yellow;\">maximum</span> <span style=\"background-color: yellow;\">attempts</span> <span style=\"background-color: yellow;\">exceeded</span> returns None Note function analyzesystemmessages <span style=\"background-color: yellow;\">requires</span> filename string email <span style=\"background-color: yellow;\">userlogger</span> parameters <span style=\"background-color: yellow;\">provided</span> <span style=\"background-color: yellow;\">calling</span> function Contains function <span style=\"background-color: yellow;\">analyzing</span> system messages using OpenAI API analyzesystemmessages function sets OpenAI API key <span style=\"background-color: yellow;\">determines</span> <span style=\"background-color: yellow;\">appropriate</span> GPT3 model based <span style=\"background-color: yellow;\">length</span> input string makes chat <span style=\"background-color: yellow;\">completion</span> request API "
      ],
      "text/plain": [
       "<IPython.core.display.HTML object>"
      ]
     },
     "metadata": {},
     "output_type": "display_data"
    },
    {
     "name": "stdout",
     "output_type": "stream",
     "text": [
      "\n",
      "-----\n",
      "\n",
      "Index: 67\n"
     ]
    },
    {
     "data": {
      "text/plain": [
       "'10xdev/src/Create.js'"
      ]
     },
     "metadata": {},
     "output_type": "display_data"
    },
    {
     "data": {
      "text/html": [
       "10xdevsrcCreatejs file Createjs React component responsible rendering chat interface creating project imports various components <span style=\"background-color: yellow;\">stylesheets</span> including React useContext useEffect useState useRef React library well <span style=\"background-color: yellow;\">custom</span> components styles component uses useContext hook access search context contains information search <span style=\"background-color: yellow;\">term</span> loading state search results also uses useState hook manage chat messages file search <span style=\"background-color: yellow;\">term</span> component defines function called handleReprompt called user <span style=\"background-color: yellow;\">wants</span> <span style=\"background-color: yellow;\">reprompt</span> chat new input function updates chat messages makes API call create project <span style=\"background-color: yellow;\">specified</span> search <span style=\"background-color: yellow;\">term</span> response API call used <span style=\"background-color: yellow;\">update</span> chat messages <span style=\"background-color: yellow;\">again</span> component also defines two useEffect hooks first useEffect hook used <span style=\"background-color: yellow;\">initialize</span> chat messages search <span style=\"background-color: yellow;\">term</span> search results search context <span style=\"background-color: yellow;\">second</span> useEffect hook used <span style=\"background-color: yellow;\">scroll</span> loading <span style=\"background-color: yellow;\">ring</span> view loading state changes component defines function called handleDownload called user <span style=\"background-color: yellow;\">wants</span> <span style=\"background-color: yellow;\">download</span> project files function makes API call create project search results <span style=\"background-color: yellow;\">downloads</span> <span style=\"background-color: yellow;\">resulting</span> files <span style=\"background-color: yellow;\">zip</span> file component renders chat interface user <span style=\"background-color: yellow;\">prompts</span> response <span style=\"background-color: yellow;\">containers</span> loading <span style=\"background-color: yellow;\">ring</span> also renders message <span style=\"background-color: yellow;\">indicating</span> project <span style=\"background-color: yellow;\">ready</span> provides button <span style=\"background-color: yellow;\">download</span> project files React component responsible rendering chat interface creating project handles user <span style=\"background-color: yellow;\">prompts</span> makes API calls create project provides button <span style=\"background-color: yellow;\">download</span> project files "
      ],
      "text/plain": [
       "<IPython.core.display.HTML object>"
      ]
     },
     "metadata": {},
     "output_type": "display_data"
    },
    {
     "name": "stdout",
     "output_type": "stream",
     "text": [
      "\n",
      "-----\n",
      "\n",
      "Index: 68\n"
     ]
    },
    {
     "data": {
      "text/plain": [
       "'10xdev/src/Branch/Branch.js'"
      ]
     },
     "metadata": {},
     "output_type": "display_data"
    },
    {
     "data": {
      "text/html": [
       "10xdevsrcBranchBranchjs file React component called Branch displays list branches allows user <span style=\"background-color: yellow;\">select</span> <span style=\"background-color: yellow;\">one</span> imports various dependencies React useState useContext useEffect useNavigate reactrouterdom library also imports components <span style=\"background-color: yellow;\">like</span> Navbar SearchContext LoadingRing FaSync component uses useContext hook access path isLoading state variables SearchContext also uses useState hook manage branches isRefreshing state variables useEffect hook used fetch branches data API endpoint path isLoading state variables <span style=\"background-color: yellow;\">change</span> sets branches state variable <span style=\"background-color: yellow;\">fetched</span> data handles <span style=\"background-color: yellow;\">errors</span> <span style=\"background-color: yellow;\">occur</span> fetch handleSelect function called branch <span style=\"background-color: yellow;\">selected</span> makes API call set <span style=\"background-color: yellow;\">selected</span> branch <span style=\"background-color: yellow;\">navigates</span> welcome route <span style=\"background-color: yellow;\">reloads</span> page handleRefresh function called <span style=\"background-color: yellow;\">refresh</span> button clicked fetches branches data API endpoint updates branches state variable also handles <span style=\"background-color: yellow;\">errors</span> <span style=\"background-color: yellow;\">occur</span> fetch <span style=\"background-color: yellow;\">return</span> <span style=\"background-color: yellow;\">statement</span> renders components JSX isLoading isRefreshing <span style=\"background-color: yellow;\">true</span> displays loading spinner Otherwise displays list branches buttons clicked <span style=\"background-color: yellow;\">select</span> branch React component displays list branches allows user <span style=\"background-color: yellow;\">select</span> <span style=\"background-color: yellow;\">one</span> fetches branches data API endpoint handles branch <span style=\"background-color: yellow;\">selection</span> <span style=\"background-color: yellow;\">refresh</span> functionality "
      ],
      "text/plain": [
       "<IPython.core.display.HTML object>"
      ]
     },
     "metadata": {},
     "output_type": "display_data"
    },
    {
     "name": "stdout",
     "output_type": "stream",
     "text": [
      "\n",
      "-----\n",
      "\n",
      "Index: 69\n"
     ]
    },
    {
     "data": {
      "text/plain": [
       "'utilities/mixpanel.py'"
      ]
     },
     "metadata": {},
     "output_type": "display_data"
    },
    {
     "data": {
      "text/html": [
       "utilitiesmixpanelpy file utilitiesmixpanelpy responsible handling Mixpanel <span style=\"background-color: yellow;\">tracking</span> <span style=\"background-color: yellow;\">events</span> imports Mixpanel library creates Mixpanel <span style=\"background-color: yellow;\">client</span> <span style=\"background-color: yellow;\">object</span> specific API key trackevent function <span style=\"background-color: yellow;\">defined</span> <span style=\"background-color: yellow;\">track</span> <span style=\"background-color: yellow;\">event</span> Mixpanel takes <span style=\"background-color: yellow;\">event</span> name <span style=\"background-color: yellow;\">dictionary</span> properties <span style=\"background-color: yellow;\">arguments</span> function uses Mixpanel <span style=\"background-color: yellow;\">client</span> <span style=\"background-color: yellow;\">track</span> <span style=\"background-color: yellow;\">event</span> <span style=\"background-color: yellow;\">calling</span> <span style=\"background-color: yellow;\">track</span> method <span style=\"background-color: yellow;\">passing</span> email distinctid <span style=\"background-color: yellow;\">event</span> name properties <span style=\"background-color: yellow;\">dictionary</span> Handles Mixpanel <span style=\"background-color: yellow;\">tracking</span> <span style=\"background-color: yellow;\">events</span> creates Mixpanel <span style=\"background-color: yellow;\">client</span> <span style=\"background-color: yellow;\">object</span> defines function <span style=\"background-color: yellow;\">tracking</span> <span style=\"background-color: yellow;\">events</span> using <span style=\"background-color: yellow;\">client</span> "
      ],
      "text/plain": [
       "<IPython.core.display.HTML object>"
      ]
     },
     "metadata": {},
     "output_type": "display_data"
    },
    {
     "name": "stdout",
     "output_type": "stream",
     "text": [
      "\n",
      "-----\n",
      "\n",
      "Index: 70\n"
     ]
    },
    {
     "data": {
      "text/plain": [
       "'AskAI.py'"
      ]
     },
     "metadata": {},
     "output_type": "display_data"
    },
    {
     "data": {
      "text/html": [
       "AskAIpy file AskAIpy contains several functions related <span style=\"background-color: yellow;\">searching</span> <span style=\"background-color: yellow;\">filtering</span> files based user <span style=\"background-color: yellow;\">prompts</span> function processfilecontentswithlangchain takes contents file user prompt <span style=\"background-color: yellow;\">maximum</span> number tokens <span style=\"background-color: yellow;\">applies</span> <span style=\"background-color: yellow;\">stemming</span> file contents creates TFIDF <span style=\"background-color: yellow;\">matrix</span> <span style=\"background-color: yellow;\">calculates</span> <span style=\"background-color: yellow;\">cosine</span> <span style=\"background-color: yellow;\">similarity</span> user prompt <span style=\"background-color: yellow;\">chunk</span> file <span style=\"background-color: yellow;\">selects</span> <span style=\"background-color: yellow;\">chunks</span> <span style=\"background-color: yellow;\">highest</span> <span style=\"background-color: yellow;\">similarity</span> returns <span style=\"background-color: yellow;\">joined</span> string function maxcosinesim <span style=\"background-color: yellow;\">calculates</span> <span style=\"background-color: yellow;\">maximum</span> <span style=\"background-color: yellow;\">cosine</span> <span style=\"background-color: yellow;\">similarity</span> list embeddings prompt embedding function filterfunctions <span style=\"background-color: yellow;\">filters</span> list file paths based response string checks file path <span style=\"background-color: yellow;\">mentioned</span> response string using <span style=\"background-color: yellow;\">regular</span> <span style=\"background-color: yellow;\">expressions</span> returns <span style=\"background-color: yellow;\">filtered</span> list function searchfunctions takes code <span style=\"background-color: yellow;\">query</span> email user logger <span style=\"background-color: yellow;\">scope</span> <span style=\"background-color: yellow;\">history</span> <span style=\"background-color: yellow;\">flag</span> <span style=\"background-color: yellow;\">filters</span> file paths based <span style=\"background-color: yellow;\">scope</span> <span style=\"background-color: yellow;\">calculates</span> <span style=\"background-color: yellow;\">cosine</span> <span style=\"background-color: yellow;\">similarity</span> code <span style=\"background-color: yellow;\">query</span> file embedding returns top <span style=\"background-color: yellow;\">10</span> file paths <span style=\"background-color: yellow;\">highest</span> <span style=\"background-color: yellow;\">similarity</span> function <span style=\"background-color: yellow;\">files2str</span> takes list file paths returns string <span style=\"background-color: yellow;\">representation</span> file paths function getreferencedcode takes path list files returns code blocks files function consolidatepromptcreation takes list chat messages current prompt creates <span style=\"background-color: yellow;\">consolidated</span> prompt <span style=\"background-color: yellow;\">concatenating</span> <span style=\"background-color: yellow;\">previous</span> user <span style=\"background-color: yellow;\">prompts</span> AI <span style=\"background-color: yellow;\">responses</span> file <span style=\"background-color: yellow;\">references</span> function AskAIsearchfiles takes prompt user logger email chat messages <span style=\"background-color: yellow;\">scope</span> reads file paths embeddings CSV file <span style=\"background-color: yellow;\">searches</span> <span style=\"background-color: yellow;\">relevant</span> files based prompt returns <span style=\"background-color: yellow;\">filtered</span> file paths function AskAIwithreferencedfiles takes <span style=\"background-color: yellow;\">original</span> prompt user logger email chat messages list files creates <span style=\"background-color: yellow;\">consolidated</span> prompt reads file paths embeddings CSV file <span style=\"background-color: yellow;\">generates</span> <span style=\"background-color: yellow;\">final</span> prompt <span style=\"background-color: yellow;\">concatenating</span> file contents <span style=\"background-color: yellow;\">original</span> prompt returns <span style=\"background-color: yellow;\">final</span> prompt <span style=\"background-color: yellow;\">referenced</span> code blocks Contains functions related <span style=\"background-color: yellow;\">searching</span> <span style=\"background-color: yellow;\">filtering</span> files based user <span style=\"background-color: yellow;\">prompts</span> includes functions <span style=\"background-color: yellow;\">processing</span> file contents <span style=\"background-color: yellow;\">filtering</span> file paths <span style=\"background-color: yellow;\">searching</span> <span style=\"background-color: yellow;\">relevant</span> files "
      ],
      "text/plain": [
       "<IPython.core.display.HTML object>"
      ]
     },
     "metadata": {},
     "output_type": "display_data"
    },
    {
     "name": "stdout",
     "output_type": "stream",
     "text": [
      "\n",
      "-----\n",
      "\n",
      "Index: 71\n"
     ]
    },
    {
     "data": {
      "text/plain": [
       "'10xdev/src/landing page/landing.css'"
      ]
     },
     "metadata": {},
     "output_type": "display_data"
    },
    {
     "data": {
      "text/html": [
       "10xdevsrclanding pagelandingcss file landingcss 10xdevsrclanding page directory includes Tailwind CSS <span style=\"background-color: yellow;\">framework</span> imports base components utilities styles Tailwind CSS <span style=\"background-color: yellow;\">provide</span> set <span style=\"background-color: yellow;\">predefined</span> styles utility <span style=\"background-color: yellow;\">classes</span> used <span style=\"background-color: yellow;\">style</span> landing page Role CSS file includes Tailwind CSS <span style=\"background-color: yellow;\">framework</span> styling landing page "
      ],
      "text/plain": [
       "<IPython.core.display.HTML object>"
      ]
     },
     "metadata": {},
     "output_type": "display_data"
    },
    {
     "name": "stdout",
     "output_type": "stream",
     "text": [
      "\n",
      "-----\n",
      "\n",
      "Index: 72\n"
     ]
    },
    {
     "data": {
      "text/plain": [
       "'10xdev/src/Clone.css'"
      ]
     },
     "metadata": {},
     "output_type": "display_data"
    },
    {
     "data": {
      "text/html": [
       "10xdevsrcClonecss file Clonecss contains CSS styles various elements used application defines styles <span style=\"background-color: yellow;\">classes</span> GetIgnorecontainer <span style=\"background-color: yellow;\">label</span> inputfield <span style=\"background-color: yellow;\">ignorecontainer</span> <span style=\"background-color: yellow;\">pathsearchbar</span> btnfont <span style=\"background-color: yellow;\">pathsearchrow</span> <span style=\"background-color: yellow;\">pathsearchlabel</span> gitIgnorebutton <span style=\"background-color: yellow;\">ignoretips</span> <span style=\"background-color: yellow;\">ignoretips1</span> branchbuttons branchlist styles <span style=\"background-color: yellow;\">define</span> properties width <span style=\"background-color: yellow;\">height</span> <span style=\"background-color: yellow;\">padding</span> <span style=\"background-color: yellow;\">margin</span> border fontsize backgroundcolor color borderradius textalign different elements styles used <span style=\"background-color: yellow;\">control</span> <span style=\"background-color: yellow;\">appearance</span> <span style=\"background-color: yellow;\">layout</span> elements application Contains CSS styles various elements used application defines styles <span style=\"background-color: yellow;\">classes</span> GetIgnorecontainer <span style=\"background-color: yellow;\">label</span> inputfield <span style=\"background-color: yellow;\">ignorecontainer</span> <span style=\"background-color: yellow;\">pathsearchbar</span> btnfont <span style=\"background-color: yellow;\">pathsearchrow</span> <span style=\"background-color: yellow;\">pathsearchlabel</span> gitIgnorebutton <span style=\"background-color: yellow;\">ignoretips</span> <span style=\"background-color: yellow;\">ignoretips1</span> branchbuttons branchlist "
      ],
      "text/plain": [
       "<IPython.core.display.HTML object>"
      ]
     },
     "metadata": {},
     "output_type": "display_data"
    },
    {
     "name": "stdout",
     "output_type": "stream",
     "text": [
      "\n",
      "-----\n",
      "\n",
      "Index: 73\n"
     ]
    },
    {
     "data": {
      "text/plain": [
       "'utilities/create_project.py'"
      ]
     },
     "metadata": {},
     "output_type": "display_data"
    },
    {
     "data": {
      "text/html": [
       "utilitiescreateprojectpy file createprojectpy contains several functions related creating project based user input <span style=\"background-color: yellow;\">generating</span> code files function createprojectwithclarity takes email project prompt <span style=\"background-color: yellow;\">clarifying</span> <span style=\"background-color: yellow;\">questions</span> user <span style=\"background-color: yellow;\">answers</span> uses AskGPT class utilitiesAskGPT module generate <span style=\"background-color: yellow;\">specification</span> <span style=\"background-color: yellow;\">program</span> based <span style=\"background-color: yellow;\">conversation</span> AI user function createprojectwithspec takes email <span style=\"background-color: yellow;\">specification</span> provides <span style=\"background-color: yellow;\">instructions</span> <span style=\"background-color: yellow;\">writing</span> code <span style=\"background-color: yellow;\">expects</span> <span style=\"background-color: yellow;\">long</span> <span style=\"background-color: yellow;\">answer</span> includes content file <span style=\"background-color: yellow;\">markdown</span> code <span style=\"background-color: yellow;\">block</span> <span style=\"background-color: yellow;\">format</span> also uses AskGPT class generate code files function newproject takes email user prompt <span style=\"background-color: yellow;\">asks</span> <span style=\"background-color: yellow;\">clarifying</span> <span style=\"background-color: yellow;\">questions</span> user based given project <span style=\"background-color: yellow;\">description</span> <span style=\"background-color: yellow;\">generates</span> code base project using AskGPT class function parsechat takes chat text <span style=\"background-color: yellow;\">extracts</span> <span style=\"background-color: yellow;\">filenames</span> code blocks <span style=\"background-color: yellow;\">it</span> returns list <span style=\"background-color: yellow;\">tuples</span> <span style=\"background-color: yellow;\">tuple</span> contains filename <span style=\"background-color: yellow;\">corresponding</span> code function tofiles takes chat <span style=\"background-color: yellow;\">workspace</span> <span style=\"background-color: yellow;\">dictionary</span> calls parsechat <span style=\"background-color: yellow;\">extract</span> <span style=\"background-color: yellow;\">filenames</span> code blocks <span style=\"background-color: yellow;\">adds</span> <span style=\"background-color: yellow;\">workspace</span> <span style=\"background-color: yellow;\">dictionary</span> also <span style=\"background-color: yellow;\">adds</span> <span style=\"background-color: yellow;\">entire</span> chat file <span style=\"background-color: yellow;\">named</span> alloutputtxt <span style=\"background-color: yellow;\">workspace</span> function tozip takes chat <span style=\"background-color: yellow;\">converts</span> <span style=\"background-color: yellow;\">zip</span> file calls tofiles <span style=\"background-color: yellow;\">convert</span> chat <span style=\"background-color: yellow;\">workspace</span> <span style=\"background-color: yellow;\">dictionary</span> creates new <span style=\"background-color: yellow;\">zip</span> folder <span style=\"background-color: yellow;\">iterates</span> files <span style=\"background-color: yellow;\">workspace</span> <span style=\"background-color: yellow;\">adds</span> file <span style=\"background-color: yellow;\">zip</span> folder Overall file provides functions <span style=\"background-color: yellow;\">generating</span> project <span style=\"background-color: yellow;\">specifications</span> code files <span style=\"background-color: yellow;\">zip</span> files based user input <span style=\"background-color: yellow;\">conversations</span> AI Contains functions related creating project based user input <span style=\"background-color: yellow;\">generating</span> code files includes functions creating project <span style=\"background-color: yellow;\">clarity</span> creating project <span style=\"background-color: yellow;\">specification</span> <span style=\"background-color: yellow;\">generating</span> code base new project <span style=\"background-color: yellow;\">parsing</span> chat messages <span style=\"background-color: yellow;\">converting</span> chat <span style=\"background-color: yellow;\">zip</span> file "
      ],
      "text/plain": [
       "<IPython.core.display.HTML object>"
      ]
     },
     "metadata": {},
     "output_type": "display_data"
    },
    {
     "name": "stdout",
     "output_type": "stream",
     "text": [
      "\n",
      "-----\n",
      "\n",
      "Index: 74\n"
     ]
    },
    {
     "data": {
      "text/plain": [
       "'10xdev/src/Repos.css'"
      ]
     },
     "metadata": {},
     "output_type": "display_data"
    },
    {
     "data": {
      "text/html": [
       "10xdevsrcReposcss file contains CSS styles repository page defines styling container title cards buttons elements page styles <span style=\"background-color: yellow;\">include</span> properties font size color <span style=\"background-color: yellow;\">margin</span> <span style=\"background-color: yellow;\">padding</span> background color border <span style=\"background-color: yellow;\">alignment</span> also includes hover <span style=\"background-color: yellow;\">effects</span> buttons Contains CSS styles repository page defines styling container title cards buttons elements page "
      ],
      "text/plain": [
       "<IPython.core.display.HTML object>"
      ]
     },
     "metadata": {},
     "output_type": "display_data"
    },
    {
     "name": "stdout",
     "output_type": "stream",
     "text": [
      "\n",
      "-----\n",
      "\n",
      "Index: 75\n"
     ]
    },
    {
     "data": {
      "text/plain": [
       "'utilities/role_analyzer.py'"
      ]
     },
     "metadata": {},
     "output_type": "display_data"
    },
    {
     "data": {
      "text/html": [
       "utilitiesroleanalyzerpy file utilitiesroleanalyzerpy contains function called extractrole takes file path role input <span style=\"background-color: yellow;\">processes</span> <span style=\"background-color: yellow;\">remove</span> nonallowed <span style=\"background-color: yellow;\">characters</span> <span style=\"background-color: yellow;\">formatting</span> file also contains function called evaluaterole takes dataframe user ID <span style=\"background-color: yellow;\">threshold</span> input function <span style=\"background-color: yellow;\">filters</span> dataframe <span style=\"background-color: yellow;\">include</span> rows role <span style=\"background-color: yellow;\">column</span> <span style=\"background-color: yellow;\">null</span> <span style=\"background-color: yellow;\">generates</span> system message prompt string based user ID project summary function <span style=\"background-color: yellow;\">iterates</span> <span style=\"background-color: yellow;\">filtered</span> dataframe creates <span style=\"background-color: yellow;\">batch</span> prompt string <span style=\"background-color: yellow;\">appending</span> file path summary <span style=\"background-color: yellow;\">row</span> checks token count <span style=\"background-color: yellow;\">batch</span> prompt <span style=\"background-color: yellow;\">exceeds</span> <span style=\"background-color: yellow;\">batch</span> size <span style=\"background-color: yellow;\">limit</span> <span style=\"background-color: yellow;\">sends</span> <span style=\"background-color: yellow;\">batch</span> prompt AskGPT API <span style=\"background-color: yellow;\">appends</span> response <span style=\"background-color: yellow;\">parsable</span> string <span style=\"background-color: yellow;\">processing</span> rows function uses <span style=\"background-color: yellow;\">regular</span> <span style=\"background-color: yellow;\">expressions</span> <span style=\"background-color: yellow;\">extract</span> file path role <span style=\"background-color: yellow;\">parsable</span> string updates role embedding <span style=\"background-color: yellow;\">columns</span> dataframe <span style=\"background-color: yellow;\">accordingly</span> function <span style=\"background-color: yellow;\">repeats</span> process <span style=\"background-color: yellow;\">remaining</span> rows <span style=\"background-color: yellow;\">filtered</span> dataframe Finally function returns <span style=\"background-color: yellow;\">updated</span> dataframe Role file contains functions <span style=\"background-color: yellow;\">extracting</span> <span style=\"background-color: yellow;\">evaluating</span> role file based file path summary <span style=\"background-color: yellow;\">processes</span> input <span style=\"background-color: yellow;\">remove</span> nonallowed <span style=\"background-color: yellow;\">characters</span> <span style=\"background-color: yellow;\">formatting</span> <span style=\"background-color: yellow;\">filters</span> dataframe <span style=\"background-color: yellow;\">include</span> rows <span style=\"background-color: yellow;\">null</span> role <span style=\"background-color: yellow;\">values</span> <span style=\"background-color: yellow;\">generates</span> system messages prompt <span style=\"background-color: yellow;\">strings</span> <span style=\"background-color: yellow;\">sends</span> <span style=\"background-color: yellow;\">batch</span> <span style=\"background-color: yellow;\">prompts</span> AskGPT API <span style=\"background-color: yellow;\">extracts</span> file path role response updates dataframe <span style=\"background-color: yellow;\">extracted</span> role "
      ],
      "text/plain": [
       "<IPython.core.display.HTML object>"
      ]
     },
     "metadata": {},
     "output_type": "display_data"
    },
    {
     "name": "stdout",
     "output_type": "stream",
     "text": [
      "\n",
      "-----\n",
      "\n",
      "Index: 76\n"
     ]
    },
    {
     "data": {
      "text/plain": [
       "'10xdev/src/OpenSource/PublicWelcome.js'"
      ]
     },
     "metadata": {},
     "output_type": "display_data"
    },
    {
     "data": {
      "text/html": [
       "10xdevsrcOpenSourcePublicWelcomejs file JavaScript module exports component called PublicWelcome component functional component uses React hooks useState useEffect imports various dependencies React useContext useState useEffect <span style=\"background-color: yellow;\">others</span> component also imports CSS styles <span style=\"background-color: yellow;\">separate</span> file uses <span style=\"background-color: yellow;\">external</span> <span style=\"background-color: yellow;\">libraries</span> typewritereffect reacteasyemoji component defines several state variables functions including setSearchTerm isLoading setIsLoading <span style=\"background-color: yellow;\">currentuser</span> showSync setShowSync currentRepo showRepos setShowRepos isLoadingProjectInfo setIsLoadingProjectInfo commitHash setCommitHash commitTime repository setRepository setCommitTime branch setBranch treeData setTreeData component also includes <span style=\"background-color: yellow;\">asynchronous</span> function called fetchData called within useEffect hook component also includes functions getting project information tree data well search function input <span style=\"background-color: yellow;\">change</span> <span style=\"background-color: yellow;\">handler</span> component renders loading spinner isLoading <span style=\"background-color: yellow;\">true</span> otherwise renders UI various elements left <span style=\"background-color: yellow;\">panel</span> logo text input buttons Role file exports functional component called PublicWelcome renders left side welcome page web application handles user interactions fetches project information tree data renders various UI elements based components state "
      ],
      "text/plain": [
       "<IPython.core.display.HTML object>"
      ]
     },
     "metadata": {},
     "output_type": "display_data"
    },
    {
     "name": "stdout",
     "output_type": "stream",
     "text": [
      "\n",
      "-----\n",
      "\n",
      "Index: 77\n"
     ]
    },
    {
     "data": {
      "text/plain": [
       "'10xdev/src/OpenSource/Navbar.js'"
      ]
     },
     "metadata": {},
     "output_type": "display_data"
    },
    {
     "data": {
      "text/html": [
       "10xdevsrcOpenSourceNavbarjs file JavaScript file contains code Navbar component web application imports various dependencies React useContext useNavigate Link reactrouterdom library also imports components Sync ProjectInfo DropdownButton different files Navbar component takes props file onHamburgerClick renders different content based <span style=\"background-color: yellow;\">value</span> file prop file prop <span style=\"background-color: yellow;\">equal</span> chat renders navigation bar specific styling content Otherwise renders different navigation bar different styling content Role file contains code Navbar component web application renders navigation bar specific styling content based <span style=\"background-color: yellow;\">value</span> file prop "
      ],
      "text/plain": [
       "<IPython.core.display.HTML object>"
      ]
     },
     "metadata": {},
     "output_type": "display_data"
    },
    {
     "name": "stdout",
     "output_type": "stream",
     "text": [
      "\n",
      "-----\n",
      "\n",
      "Index: 78\n"
     ]
    },
    {
     "data": {
      "text/plain": [
       "'10xdev/src/OpenSource/Sync.js'"
      ]
     },
     "metadata": {},
     "output_type": "display_data"
    },
    {
     "data": {
      "text/html": [
       "10xdevsrcOpenSourceSyncjs file JavaScript module exports component called Sync component functional component uses React hooks useState useEffect useContext useCallback imports components modules LogViewer openAPI SearchContext FaFile useNavigate Sync component handles syncing data API displays sync <span style=\"background-color: yellow;\">status</span> new files <span style=\"background-color: yellow;\">found</span> also provides button sync new files displays list new files <span style=\"background-color: yellow;\">any</span> Role file exports component called Sync handles syncing data API displays sync <span style=\"background-color: yellow;\">status</span> new files <span style=\"background-color: yellow;\">found</span> provides button sync new files displays list new files <span style=\"background-color: yellow;\">any</span> "
      ],
      "text/plain": [
       "<IPython.core.display.HTML object>"
      ]
     },
     "metadata": {},
     "output_type": "display_data"
    },
    {
     "name": "stdout",
     "output_type": "stream",
     "text": [
      "\n",
      "-----\n",
      "\n",
      "Index: 79\n"
     ]
    },
    {
     "data": {
      "text/plain": [
       "'10xdev/src/OpenSource/PublicChat.js'"
      ]
     },
     "metadata": {},
     "output_type": "display_data"
    },
    {
     "data": {
      "text/html": [
       "10xdevsrcOpenSourcePublicChatjs file JavaScript module exports component called Chat component chat interface allows <span style=\"background-color: yellow;\">users</span> search files view results uses various components Loader ResponseContainer UserPrompt SearchBar LeftWelcome Navbar component uses React hooks useState useEffect useRef manage state <span style=\"background-color: yellow;\">perform</span> side <span style=\"background-color: yellow;\">effects</span> also imports context called SearchContext API module called openAPI <span style=\"background-color: yellow;\">making</span> API calls component handles user interactions <span style=\"background-color: yellow;\">searching</span> <span style=\"background-color: yellow;\">removing</span> files <span style=\"background-color: yellow;\">reprompting</span> Role file exports component called Chat <span style=\"background-color: yellow;\">serves</span> chat interface <span style=\"background-color: yellow;\">searching</span> files <span style=\"background-color: yellow;\">viewing</span> results handles user interactions uses various components render UI "
      ],
      "text/plain": [
       "<IPython.core.display.HTML object>"
      ]
     },
     "metadata": {},
     "output_type": "display_data"
    },
    {
     "name": "stdout",
     "output_type": "stream",
     "text": [
      "\n",
      "-----\n",
      "\n",
      "Index: 80\n"
     ]
    },
    {
     "data": {
      "text/plain": [
       "'10xdev/src/OpenSource/LeftWelcome.js'"
      ]
     },
     "metadata": {},
     "output_type": "display_data"
    },
    {
     "data": {
      "text/html": [
       "10xdevsrcOpenSourceLeftWelcomejs file JavaScript module exports component called LeftWelcome component <span style=\"background-color: yellow;\">part</span> <span style=\"background-color: yellow;\">larger</span> project responsible rendering left side welcome page imports various dependencies React useContext useState useEffect Link useNavigate <span style=\"background-color: yellow;\">others</span> also imports components <span style=\"background-color: yellow;\">stylesheets</span> component includes several state variables functions handling user interactions renders different elements based state component including loading <span style=\"background-color: yellow;\">indicators</span> project information file tree code <span style=\"background-color: yellow;\">snippets</span> Role file exports component called LeftWelcome renders left side welcome page web application handles user interactions fetches project information tree data renders various UI elements based components state "
      ],
      "text/plain": [
       "<IPython.core.display.HTML object>"
      ]
     },
     "metadata": {},
     "output_type": "display_data"
    },
    {
     "name": "stdout",
     "output_type": "stream",
     "text": [
      "\n",
      "-----\n",
      "\n",
      "Index: 81\n"
     ]
    },
    {
     "data": {
      "text/plain": [
       "'10xdev/src/OpenSource/PublicRouter.js'"
      ]
     },
     "metadata": {},
     "output_type": "display_data"
    },
    {
     "data": {
      "text/html": [
       "10xdevsrcOpenSourcePublicRouterjs file JavaScript module exports component called PublicRouter imports two functions useNavigate useParams reactrouterdom library component renders PublicWelcome component <span style=\"background-color: yellow;\">passes</span> projectName <span style=\"background-color: yellow;\">parameter</span> <span style=\"background-color: yellow;\">obtained</span> URL prop Role file exports component called PublicRouter renders PublicWelcome component <span style=\"background-color: yellow;\">passes</span> projectName <span style=\"background-color: yellow;\">parameter</span> <span style=\"background-color: yellow;\">obtained</span> URL prop "
      ],
      "text/plain": [
       "<IPython.core.display.HTML object>"
      ]
     },
     "metadata": {},
     "output_type": "display_data"
    },
    {
     "name": "stdout",
     "output_type": "stream",
     "text": [
      "\n",
      "-----\n",
      "\n"
     ]
    }
   ],
   "source": [
    "import pandas as pd\n",
    "import nltk\n",
    "from sklearn.feature_extraction.text import TfidfVectorizer\n",
    "from nltk.corpus import stopwords\n",
    "from IPython.display import display, HTML\n",
    "import string\n",
    "\n",
    "# Define a translation table to remove punctuation\n",
    "translator = str.maketrans('', '', string.punctuation)\n",
    "\n",
    "# Download NLTK stopwords (if not already downloaded)\n",
    "if not nltk.corpus.stopwords.words('english'):\n",
    "    print(\"Stopwords not found. Downloading...\")\n",
    "    nltk.download('stopwords')\n",
    "else:\n",
    "    print(\"Stopwords are already downloaded.\")\n",
    "\n",
    "stop_words = set(stopwords.words('english'))\n",
    "\n",
    "def remove_stopwords(text):\n",
    "    words = text.split()\n",
    "    filtered_words = [word for word in words if word.lower() not in stop_words]\n",
    "    return ' '.join(filtered_words)\n",
    "\n",
    "tfidf_vectorizer = TfidfVectorizer(stop_words=stop_words)\n",
    "\n",
    "filename = \"../user/\" + \"prathamthepro@gmail.com\" + \"/AIFiles/\" + \"10xdev.ai\" + \".csv\"\n",
    "fs = pd.read_csv(filename)\n",
    "\n",
    "# Ensure that 'file_path', 'summary', and 'role' columns are converted to strings\n",
    "fs['file_path'] = fs['file_path'].astype(str)\n",
    "fs['summary'] = fs['summary'].astype(str)\n",
    "fs['role'] = fs['role'].astype(str)\n",
    "\n",
    "# Initialize TF-IDF vectorizer\n",
    "tfidf_vectorizer = TfidfVectorizer()\n",
    "\n",
    "# Join 'file_path', 'summary', and 'role' columns\n",
    "fs['combined_text'] = fs['file_path'] + ' ' + fs['summary'] + ' ' + fs['role']\n",
    "fs['combined_text'] = fs['combined_text'].apply(remove_stopwords)\n",
    "\n",
    "# Apply TF-IDF to the combined text\n",
    "tfidf_matrix = tfidf_vectorizer.fit_transform(fs['combined_text'])\n",
    "\n",
    "# Get feature names (words) from the TF-IDF vectorizer as a list\n",
    "feature_names = tfidf_vectorizer.get_feature_names_out().tolist()\n",
    "\n",
    "\n",
    "\n",
    "# Calculate IDF for each word\n",
    "idf_scores = tfidf_matrix.sum(axis=0)\n",
    "idf_scores = idf_scores.tolist()[0]\n",
    "\n",
    "# Create a dictionary of words and their IDF scores\n",
    "word_idf_dict = dict(zip(feature_names, idf_scores))\n",
    "\n",
    "# Sort the dictionary by IDF scores in ascending order\n",
    "sorted_word_idf_dict = dict(sorted(word_idf_dict.items(), key=lambda item: item[1]))\n",
    "\n",
    "# Get the sorted words in a list from rarest to most frequent\n",
    "sorted_words = list(sorted_word_idf_dict.keys())\n",
    "\n",
    "# Reverse the list to get the most frequent words first\n",
    "sorted_words.reverse()\n",
    "\n",
    "# Print the sorted words\n",
    "print(sorted_words)\n",
    "\n",
    "\n",
    "# Determine a threshold for rare words (e.g., words with low IDF scores)\n",
    "threshold = 0.5  # You can adjust this threshold as needed\n",
    "\n",
    "# Display only rare words with colors\n",
    "for index in range(len(fs)):\n",
    "    print(\"Index:\", index)\n",
    "    text = fs['combined_text'][index]\n",
    "    display(fs['file_path'][index])\n",
    "\n",
    "    word_scores = list(zip(feature_names, tfidf_matrix[index].toarray()[0]))\n",
    "\n",
    "    rare_words = []\n",
    "    for word, score in word_scores:\n",
    "        if idf_scores[feature_names.index(word)] < threshold:\n",
    "            rare_words.append(word)\n",
    "\n",
    "    highlighted_text = \"\"\n",
    "    \n",
    "    for t_word in text.split():\n",
    "        t_word = t_word.translate(translator)\n",
    "        if t_word in rare_words:\n",
    "            highlighted_text += f'<span style=\"background-color: yellow;\">{t_word}</span> '\n",
    "        else:\n",
    "            highlighted_text += f'{t_word} '\n",
    "    \n",
    "    display(HTML(highlighted_text))\n",
    "    print(\"\\n-----\\n\")\n"
   ]
  },
  {
   "cell_type": "code",
   "execution_count": 3,
   "id": "f6cadf7f",
   "metadata": {},
   "outputs": [
    {
     "data": {
      "text/html": [
       "<p><strong>Document 1:</strong> <mark style=\"background-color: rgba(255, 0, 0, 1.0);\">This is the first document.</mark> <mark style=\"background-color: rgba(255, 0, 0, 0.7137254901960784);\">This document is the second document.</mark> <mark style=\"background-color: rgba(255, 0, 0, 0.44313725490196076);\">And this is the third one.</mark> <mark style=\"background-color: rgba(255, 0, 0, 1.0);\">Is this the first document?</mark> </p>"
      ],
      "text/plain": [
       "<IPython.core.display.HTML object>"
      ]
     },
     "metadata": {},
     "output_type": "display_data"
    },
    {
     "data": {
      "text/html": [
       "<p><strong>Document 2:</strong> <mark style=\"background-color: rgba(255, 0, 0, 0.7137254901960784);\">This is the first document.</mark> <mark style=\"background-color: rgba(255, 0, 0, 1.0);\">This document is the second document.</mark> <mark style=\"background-color: rgba(255, 0, 0, 0.3764705882352941);\">And this is the third one.</mark> <mark style=\"background-color: rgba(255, 0, 0, 0.7137254901960784);\">Is this the first document?</mark> </p>"
      ],
      "text/plain": [
       "<IPython.core.display.HTML object>"
      ]
     },
     "metadata": {},
     "output_type": "display_data"
    },
    {
     "data": {
      "text/html": [
       "<p><strong>Document 3:</strong> <mark style=\"background-color: rgba(255, 0, 0, 0.44313725490196076);\">This is the first document.</mark> <mark style=\"background-color: rgba(255, 0, 0, 0.3764705882352941);\">This document is the second document.</mark> <mark style=\"background-color: rgba(255, 0, 0, 1.0);\">And this is the third one.</mark> <mark style=\"background-color: rgba(255, 0, 0, 0.44313725490196076);\">Is this the first document?</mark> </p>"
      ],
      "text/plain": [
       "<IPython.core.display.HTML object>"
      ]
     },
     "metadata": {},
     "output_type": "display_data"
    },
    {
     "data": {
      "text/html": [
       "<p><strong>Document 4:</strong> <mark style=\"background-color: rgba(255, 0, 0, 1.0);\">This is the first document.</mark> <mark style=\"background-color: rgba(255, 0, 0, 0.7137254901960784);\">This document is the second document.</mark> <mark style=\"background-color: rgba(255, 0, 0, 0.44313725490196076);\">And this is the third one.</mark> <mark style=\"background-color: rgba(255, 0, 0, 1.0);\">Is this the first document?</mark> </p>"
      ],
      "text/plain": [
       "<IPython.core.display.HTML object>"
      ]
     },
     "metadata": {},
     "output_type": "display_data"
    }
   ],
   "source": []
  }
 ],
 "metadata": {
  "kernelspec": {
   "display_name": "Python 3 (ipykernel)",
   "language": "python",
   "name": "python3"
  },
  "language_info": {
   "codemirror_mode": {
    "name": "ipython",
    "version": 3
   },
   "file_extension": ".py",
   "mimetype": "text/x-python",
   "name": "python",
   "nbconvert_exporter": "python",
   "pygments_lexer": "ipython3",
   "version": "3.10.10"
  }
 },
 "nbformat": 4,
 "nbformat_minor": 5
}
