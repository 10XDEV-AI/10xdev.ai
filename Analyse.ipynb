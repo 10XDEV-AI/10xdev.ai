{
 "cells": [
  {
   "cell_type": "code",
   "execution_count": 3,
   "id": "80a5a14f",
   "metadata": {},
   "outputs": [],
   "source": [
    "import pandas as pd\n",
    "filename = \"../user/\" + \"prathamthepro@gmail.com\" + \"/AIFiles/\" + \"10xdev.ai\" + \".csv\"\n",
    "fs = pd.read_csv(filename)\n",
    "display(fs)\n",
    "for index in range(0,len(fs)):\n",
    "    display(fs['file_path'][index])\n",
    "    display(fs['summary'][index])\n",
    "    display(fs['role'][index])\n",
    "    print(\"\\n-----\\n\")"
   ]
  },
  {
   "cell_type": "code",
   "execution_count": 4,
   "id": "6e6ec7b5",
   "metadata": {},
   "outputs": [],
   "source": [
    "display(fs[pd.isnull(fs[\"role\"])]['file_path'])"
   ]
  },
  {
   "cell_type": "code",
   "execution_count": null,
   "id": "f6cadf7f",
   "metadata": {},
   "outputs": [],
   "source": []
  }
 ],
 "metadata": {
  "kernelspec": {
   "display_name": "Python 3 (ipykernel)",
   "language": "python",
   "name": "python3"
  },
  "language_info": {
   "codemirror_mode": {
    "name": "ipython",
    "version": 3
   },
   "file_extension": ".py",
   "mimetype": "text/x-python",
   "name": "python",
   "nbconvert_exporter": "python",
   "pygments_lexer": "ipython3",
   "version": "3.10.10"
  }
 },
 "nbformat": 4,
 "nbformat_minor": 5
}
