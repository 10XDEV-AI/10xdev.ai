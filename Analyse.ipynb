{
 "cells": [
  {
   "cell_type": "code",
   "execution_count": 37,
   "id": "80a5a14f",
   "metadata": {},
   "outputs": [
    {
     "data": {
      "text/plain": [
       "'This file contains the Flask application that serves as the backend for the web application. It imports various modules and functions from other files in the codebase, including Ask_AI, train_AI, IgnoreAI, UserLogger, and others. The file defines various routes for handling API requests, such as getting project information, training the AI, syncing files, getting data from the AI, and managing user authentication and authorization. The file also sets up a session for each user and creates a UserLogger instance for each user to log their interactions with the AI. Finally, the file runs the Flask application on port 8000.'"
      ]
     },
     "metadata": {},
     "output_type": "display_data"
    },
    {
     "data": {
      "text/plain": [
       "' Flask backend that serves as the API for the web application. It handles API requests, user authentication, and authorization. It also sets up user sessions and logs user interactions with the AI.\\n'"
      ]
     },
     "metadata": {},
     "output_type": "display_data"
    },
    {
     "name": "stdout",
     "output_type": "stream",
     "text": [
      "\n",
      "-----\n",
      "\n"
     ]
    },
    {
     "data": {
      "text/plain": [
       "\"This file contains a function called `syncAI` that is responsible for syncing the user's local files with the AI's knowledge base. It imports various utility functions and modules such as `pandas`, `subprocess`, `os`, `difflib`, and `time`. The function first pulls the latest changes from the user's Git repository and then checks for any changes in the user's local files. If a file has changed, it summarizes the changes using the `summarize` function and updates the AI's knowledge base with the new summary and embedding. If there are any new files, it adds them to the knowledge base and summarizes them as well. Finally, it saves the updated knowledge base to a CSV file and creates a clone of the user's local files for future comparisons.\""
      ]
     },
     "metadata": {},
     "output_type": "display_data"
    },
    {
     "data": {
      "text/plain": [
       "\" Contains a function called `syncAI` that syncs the user's local files with the AI's knowledge base. It pulls the latest changes from the user's Git repository, summarizes the changes, and updates the AI's knowledge base. It also saves the updated knowledge base to a CSV file and creates a clone of the user's local files.\\n\""
      ]
     },
     "metadata": {},
     "output_type": "display_data"
    },
    {
     "name": "stdout",
     "output_type": "stream",
     "text": [
      "\n",
      "-----\n",
      "\n"
     ]
    },
    {
     "data": {
      "text/plain": [
       "'This file contains CSS styles for a file tree component. It defines the styles for the directory, the tree structure, the nodes, and the icons used in the file tree. It sets the background color, font family, font size, and color for the directory. It also sets the cursor style for the tree nodes and defines the hover, focused, and selected styles for the nodes.'"
      ]
     },
     "metadata": {},
     "output_type": "display_data"
    },
    {
     "data": {
      "text/plain": [
       "' CSS file for the file tree component in the frontend\\n'"
      ]
     },
     "metadata": {},
     "output_type": "display_data"
    },
    {
     "name": "stdout",
     "output_type": "stream",
     "text": [
      "\n",
      "-----\n",
      "\n"
     ]
    },
    {
     "data": {
      "text/plain": [
       "'This file exports a functional component called `Navbar` that renders a navigation bar with a logo, project information, a dropdown button, and a sync component. It also imports other components such as `Sync`, `ProjectInfo`, `DropdownButton`, and `Link` from various files. The `LoadProjectInfo` and `LoadSync` props are used to conditionally render the `ProjectInfo` and `Sync` components respectively. The navigation bar is styled using CSS from the `Navbar.css` file.'"
      ]
     },
     "metadata": {},
     "output_type": "display_data"
    },
    {
     "data": {
      "text/plain": [
       "' Component for the navigation bar in the frontend\\n'"
      ]
     },
     "metadata": {},
     "output_type": "display_data"
    },
    {
     "name": "stdout",
     "output_type": "stream",
     "text": [
      "\n",
      "-----\n",
      "\n"
     ]
    },
    {
     "data": {
      "text/plain": [
       "'This file defines a functional component called User that imports React, useState, useContext, and useEffect from the React library, as well as Cookies from the js-cookie library. The useEffect hook is used to make an asynchronous call to an API endpoint to retrieve user information, using a JWT token stored in a cookie. If the token is present, the API call is made and the response data is stored in a variable called \"data\". The component returns a simple div element with the text \"Hi\".'"
      ]
     },
     "metadata": {},
     "output_type": "display_data"
    },
    {
     "data": {
      "text/plain": [
       "' Component for the user in the frontend\\n'"
      ]
     },
     "metadata": {},
     "output_type": "display_data"
    },
    {
     "name": "stdout",
     "output_type": "stream",
     "text": [
      "\n",
      "-----\n",
      "\n"
     ]
    },
    {
     "data": {
      "text/plain": [
       "'This file contains CSS styles for the Train component of the codebase. It defines styles for various elements such as containers, input fields, buttons, tables, and text areas. It also includes styles for displaying recent searches and tips for ignoring files.'"
      ]
     },
     "metadata": {},
     "output_type": "display_data"
    },
    {
     "data": {
      "text/plain": [
       "' CSS file for the train component in the frontend\\n'"
      ]
     },
     "metadata": {},
     "output_type": "display_data"
    },
    {
     "name": "stdout",
     "output_type": "stream",
     "text": [
      "\n",
      "-----\n",
      "\n"
     ]
    },
    {
     "data": {
      "text/plain": [
       "'This file contains the CSS styling for the navbar component of the website. It defines the background color, margin, display, width, position, and z-index of the navbar. It also styles the logo, links container, and navigation links. The media query adjusts the font size of the logo for smaller screens. The hover effect changes the color and background color of the navigation links and adds a shadow. The sync class floats an element to the right. The navbar-projectInfo styles the project information displayed in the navbar. The logo anchor tag styles the color and text decoration of the logo.'"
      ]
     },
     "metadata": {},
     "output_type": "display_data"
    },
    {
     "data": {
      "text/plain": [
       "' CSS file for the navigation bar in the frontend\\n'"
      ]
     },
     "metadata": {},
     "output_type": "display_data"
    },
    {
     "name": "stdout",
     "output_type": "stream",
     "text": [
      "\n",
      "-----\n",
      "\n"
     ]
    },
    {
     "data": {
      "text/plain": [
       "'This file is the entry point of the application and it imports the React and ReactDOM libraries. It also imports the App component from the App.js file. The ReactDOM.render method is used to render the App component to the root element of the HTML document.'"
      ]
     },
     "metadata": {},
     "output_type": "display_data"
    },
    {
     "data": {
      "text/plain": [
       "' Entry point file for the frontend\\n'"
      ]
     },
     "metadata": {},
     "output_type": "display_data"
    },
    {
     "name": "stdout",
     "output_type": "stream",
     "text": [
      "\n",
      "-----\n",
      "\n"
     ]
    },
    {
     "data": {
      "text/plain": [
       "'This file exports a React component called `DirectoryTreeView` that renders a tree view of a directory structure. It uses the `react-accessible-treeview` library to render the tree view and accepts a `data` prop that represents the directory structure. The component also defines two helper components, `FolderIcon` and `FileIcon`, that render icons for folders and files respectively based on their file extensions.'"
      ]
     },
     "metadata": {},
     "output_type": "display_data"
    },
    {
     "data": {
      "text/plain": [
       "' React component responsible for rendering the file tree structure.\\n'"
      ]
     },
     "metadata": {},
     "output_type": "display_data"
    },
    {
     "name": "stdout",
     "output_type": "stream",
     "text": [
      "\n",
      "-----\n",
      "\n"
     ]
    },
    {
     "data": {
      "text/plain": [
       "'This file defines the Welcome component, which is the landing page of the application. It imports various dependencies such as React, useState, useEffect, and useContext from React, useNavigate from react-router-dom, SearchContext from \"./context/SearchContext\", and several other components. The component fetches data from an API and displays it in a file tree format. It also has a text area where users can describe a task, query, or bug, and a \"Go\" button to initiate a search. The component also uses a typewriter effect to display a list of possible queries for the user to select from.'"
      ]
     },
     "metadata": {},
     "output_type": "display_data"
    },
    {
     "data": {
      "text/plain": [
       "' Component for the welcome section in the frontend\\n'"
      ]
     },
     "metadata": {},
     "output_type": "display_data"
    },
    {
     "name": "stdout",
     "output_type": "stream",
     "text": [
      "\n",
      "-----\n",
      "\n"
     ]
    },
    {
     "data": {
      "text/plain": [
       "'This file contains CSS styles for the chat interface. It defines the widths and heights of various elements such as rows, spacers, and the footer. It also sets the position and styling of the footer, including a box shadow. Additionally, it defines the position and transition of the search bar row, which can be expanded or collapsed by adding or removing the \"open\" class.'"
      ]
     },
     "metadata": {},
     "output_type": "display_data"
    },
    {
     "data": {
      "text/plain": [
       "' CSS file for the chat component in the frontend\\n'"
      ]
     },
     "metadata": {},
     "output_type": "display_data"
    },
    {
     "name": "stdout",
     "output_type": "stream",
     "text": [
      "\n",
      "-----\n",
      "\n"
     ]
    },
    {
     "data": {
      "text/plain": [
       "'This file contains CSS styles for the welcome page of the application. It defines the layout and positioning of various elements such as the logo, search bar, subtext, and project information. It also includes styles for the search bar input and button, as well as the user profile container.'"
      ]
     },
     "metadata": {},
     "output_type": "display_data"
    },
    {
     "data": {
      "text/plain": [
       "' CSS file for the welcome section in the frontend\\n'"
      ]
     },
     "metadata": {},
     "output_type": "display_data"
    },
    {
     "name": "stdout",
     "output_type": "stream",
     "text": [
      "\n",
      "-----\n",
      "\n"
     ]
    },
    {
     "data": {
      "text/plain": [
       "'This file exports a React component called `Chat` that renders a chat interface. It imports several other components and functions, including `React`, `useContext`, `useEffect`, `useState`, `SearchContext`, `LoadingRing`, `ResponseContainer`, `UserPrompt`, `SearchBar`, `Navbar`, and `callAPI`. \\n\\nThe `Chat` component uses the `useContext` hook to access the `searchTerm`, `isLoading`, `results`, `setIsLoading`, `files`, and `referenced_code` variables from the `SearchContext`. It also uses the `useState` hook to manage the `sideContainerOpen` and `chatMessages` state variables.\\n\\nThe `Chat` component defines several functions, including `toggleSideContainer`, `handleSearch`, and `handleReprompt`, which are used to update the state variables based on user input. \\n\\nThe `Chat` component also uses the `useEffect` hook to update the `chatMessages` state variable when the `results`, `searchTerm`, `files`, or `referenced_code` variables change.\\n\\nFinally, the `Chat` component renders several child components, including `Navbar`, `LoadingRing`, `ResponseContainer`, `UserPrompt`, and `SearchBar`.'"
      ]
     },
     "metadata": {},
     "output_type": "display_data"
    },
    {
     "data": {
      "text/plain": [
       "' React component responsible for rendering the chat interface.\\n'"
      ]
     },
     "metadata": {},
     "output_type": "display_data"
    },
    {
     "name": "stdout",
     "output_type": "stream",
     "text": [
      "\n",
      "-----\n",
      "\n"
     ]
    },
    {
     "data": {
      "text/plain": [
       "'This file exports a function called `callAPI` that makes an API call to a specified URL with optional options. It first retrieves a token from a cookie called `cognitoCode` and adds it to the request headers. It then merges any additional headers passed in the options parameter with the default headers. Finally, it makes the API call using the `fetch` function and returns the response data in JSON format.'"
      ]
     },
     "metadata": {},
     "output_type": "display_data"
    },
    {
     "data": {
      "text/plain": [
       "' Utility file for API functions in the frontend\\n'"
      ]
     },
     "metadata": {},
     "output_type": "display_data"
    },
    {
     "name": "stdout",
     "output_type": "stream",
     "text": [
      "\n",
      "-----\n",
      "\n"
     ]
    },
    {
     "data": {
      "text/plain": [
       "'This file contains the Train component which is responsible for rendering the UI for training the AI model. It imports React, useState, useContext, useEffect, and other components from the codebase. The component uses the SearchContext to get the path and isLoading state. It also has state variables for input, filesToAnalyze, filesToIgnore, showFilesToIgnore, showFilesToAnalyze, and Treedata. The component has functions to handle input change, get git ignore, convert files to a tree, train the AI model, and save files to ignore. The component renders a UI with a search bar, buttons to analyze files and start training, and tables to display files to analyze and files to ignore. It also renders a file tree to display all files and a text area to enter files to ignore.'"
      ]
     },
     "metadata": {},
     "output_type": "display_data"
    },
    {
     "data": {
      "text/plain": [
       "' Component for training the AI model in the frontend\\n'"
      ]
     },
     "metadata": {},
     "output_type": "display_data"
    },
    {
     "name": "stdout",
     "output_type": "stream",
     "text": [
      "\n",
      "-----\n",
      "\n"
     ]
    },
    {
     "data": {
      "text/plain": [
       "'This file is the main component of the React application. It imports various components such as Train, Repos, Welcome, Chat, SearchState, Apis, Branch, Clone, LoadingRing, LandingPage, User, and Wait. It also imports React Router components to handle routing. The App component returns a div with the className \"App\" and wraps the Router component with the SearchState component. It defines various routes for different components and renders them based on the URL path.'"
      ]
     },
     "metadata": {},
     "output_type": "display_data"
    },
    {
     "data": {
      "text/plain": [
       "' Main component for the frontend application\\n'"
      ]
     },
     "metadata": {},
     "output_type": "display_data"
    },
    {
     "name": "stdout",
     "output_type": "stream",
     "text": [
      "\n",
      "-----\n",
      "\n"
     ]
    },
    {
     "data": {
      "text/plain": [
       "'This file exports a functional component called `SearchBar` that renders a search bar and a button to start a new topic. It uses React hooks to manage the state of the search input and calls a function passed as a prop when the search button is clicked or the enter key is pressed. It also has a function to open a new tab when the \"Start New Topic\" button is clicked.'"
      ]
     },
     "metadata": {},
     "output_type": "display_data"
    },
    {
     "data": {
      "text/plain": [
       "' React component responsible for rendering the search bar and handling search functionality.\\n'"
      ]
     },
     "metadata": {},
     "output_type": "display_data"
    },
    {
     "name": "stdout",
     "output_type": "stream",
     "text": [
      "\n",
      "-----\n",
      "\n"
     ]
    },
    {
     "data": {
      "text/plain": [
       "'This file contains CSS styles for the APIs page of the application. It defines the styles for the container of API keys, the title of the API keys section, the cards displaying the API keys, and the buttons used to interact with the API keys. It also defines the styles for the repository buttons and the input fields for the API key and rate limit.'"
      ]
     },
     "metadata": {},
     "output_type": "display_data"
    },
    {
     "data": {
      "text/plain": [
       "' CSS file for the APIs component in the frontend\\n'"
      ]
     },
     "metadata": {},
     "output_type": "display_data"
    },
    {
     "name": "stdout",
     "output_type": "stream",
     "text": [
      "\n",
      "-----\n",
      "\n"
     ]
    },
    {
     "data": {
      "text/plain": [
       "\"This file defines the Apis component, which displays the user's OpenAI API key details and allows them to set or delete their key. It also allows the user to view and set their API rate limits for two different APIs. The component uses React hooks such as useState and useEffect to manage state and make API calls to the backend using the callAPI function. The component also uses the useNavigate hook from react-router-dom to navigate to other pages in the application. The component renders a Navbar component and buttons to navigate to other pages in the application.\""
      ]
     },
     "metadata": {},
     "output_type": "display_data"
    },
    {
     "data": {
      "text/plain": [
       "' React component responsible for rendering APIs and managing API calls.\\n'"
      ]
     },
     "metadata": {},
     "output_type": "display_data"
    },
    {
     "name": "stdout",
     "output_type": "stream",
     "text": [
      "\n",
      "-----\n",
      "\n"
     ]
    },
    {
     "data": {
      "text/plain": [
       "'This file defines a React component called `SearchState` that provides a context for the search functionality of the application. It imports `React`, `useState`, `useEffect`, `Cookies`, and `callAPI` from other modules. The component sets up several state variables using the `useState` hook, including `searchTerm`, `isLoading`, `isLoadingProjectInfo`, `results`, `referenced_code`, `files`, and `path`. It also defines a function `getRandomEmoji` that returns a random emoji from a list of emojis. \\n\\nThe `useEffect` hook is used to make an API call to retrieve search results when the `searchTerm` state variable changes. The retrieved data is then used to update the state variables `files`, `results`, and `referenced_code`. The `SearchState` component provides these state variables and several functions as a context to its child components through the `SearchContext.Provider`.'"
      ]
     },
     "metadata": {},
     "output_type": "display_data"
    },
    {
     "data": {
      "text/plain": [
       "' Context file for search state in the frontend\\n'"
      ]
     },
     "metadata": {},
     "output_type": "display_data"
    },
    {
     "name": "stdout",
     "output_type": "stream",
     "text": [
      "\n",
      "-----\n",
      "\n"
     ]
    },
    {
     "data": {
      "text/plain": [
       "'This file defines a React context called `SearchContext` which can be used to share data between components in a React application. It exports the `SearchContext` object for use in other parts of the codebase.'"
      ]
     },
     "metadata": {},
     "output_type": "display_data"
    },
    {
     "data": {
      "text/plain": [
       "' Context file for search context in the frontend\\n'"
      ]
     },
     "metadata": {},
     "output_type": "display_data"
    },
    {
     "name": "stdout",
     "output_type": "stream",
     "text": [
      "\n",
      "-----\n",
      "\n"
     ]
    },
    {
     "data": {
      "text/plain": [
       "'This file exports a React component called `Sidecontainer` that renders a side container with a list of file references and their code snippets. It uses the `useState` and `useEffect` hooks from React to manage the state of whether the container is open or closed. The component receives props such as `referenced_code` and `files` to render the code snippets and file names respectively. It also uses the `CopyBlock` component from the `react-code-blocks` library to display the code snippets with syntax highlighting and line numbers. The component has a button to toggle the container open and closed, and clicking on the file names in the main content area also toggles the container open and closed.'"
      ]
     },
     "metadata": {},
     "output_type": "display_data"
    },
    {
     "data": {
      "text/plain": [
       "' Component for the side container in the frontend\\n'"
      ]
     },
     "metadata": {},
     "output_type": "display_data"
    },
    {
     "name": "stdout",
     "output_type": "stream",
     "text": [
      "\n",
      "-----\n",
      "\n"
     ]
    },
    {
     "data": {
      "text/plain": [
       "'This file contains CSS styles for a side navigation menu (sidenav) that is fixed in position and slides in and out of view with a transition effect. The sidenav has a background color of #fffefe, a box shadow, and a close button in the top right corner. The navigation links have a font size of 10px and change color on hover. There is also a style for a filename element with a black background and white text. The scrollbar is hidden and there is a media query for smaller screens with less padding and a smaller font size. Additionally, there is a style for a referance element with a margin-top of -55px and centered display.'"
      ]
     },
     "metadata": {},
     "output_type": "display_data"
    },
    {
     "data": {
      "text/plain": [
       "' CSS file for the side container in the frontend\\n'"
      ]
     },
     "metadata": {},
     "output_type": "display_data"
    },
    {
     "name": "stdout",
     "output_type": "stream",
     "text": [
      "\n",
      "-----\n",
      "\n"
     ]
    },
    {
     "data": {
      "text/plain": [
       "'This file exports a React component called `ProjectInfo` that displays the name of the repository and branch of a project. It uses the `useState` and `useEffect` hooks from React to manage state and fetch data from an API endpoint using the `callAPI` function from another file. It also uses the `useContext` hook to access the `isLoadingProjectInfo` and `setIsLoadingProjectInfo` values from the `SearchContext` context. If `isLoadingProjectInfo` is true, it returns null or a loading spinner, otherwise it displays the project information.'"
      ]
     },
     "metadata": {},
     "output_type": "display_data"
    },
    {
     "data": {
      "text/plain": [
       "' React component responsible for rendering project information.\\n'"
      ]
     },
     "metadata": {},
     "output_type": "display_data"
    },
    {
     "name": "stdout",
     "output_type": "stream",
     "text": [
      "\n",
      "-----\n",
      "\n"
     ]
    },
    {
     "data": {
      "text/plain": [
       "'This file contains CSS styles for the UserPrompt component, which is used to display a prompt to the user. It includes styles for the container, text, and picture elements, as well as styles for editing and saving user input. It also includes styles for icons and buttons used in the component.'"
      ]
     },
     "metadata": {},
     "output_type": "display_data"
    },
    {
     "data": {
      "text/plain": [
       "' CSS file for the user prompt component in the frontend\\n'"
      ]
     },
     "metadata": {},
     "output_type": "display_data"
    },
    {
     "name": "stdout",
     "output_type": "stream",
     "text": [
      "\n",
      "-----\n",
      "\n"
     ]
    },
    {
     "data": {
      "text/plain": [
       "\"This file exports a React component called `UserPrompt` that displays a user's profile picture and a prompt text. The prompt text can be edited by clicking on an edit icon, and the changes can be saved or cancelled. The component also has a retry icon that allows the user to retry the search with the current prompt text. The component uses the `useState` and `useEffect` hooks from React, and it also imports a `SearchContext` from another file.\""
      ]
     },
     "metadata": {},
     "output_type": "display_data"
    },
    {
     "data": {
      "text/plain": [
       "' React component responsible for rendering user prompts and managing user responses.\\n'"
      ]
     },
     "metadata": {},
     "output_type": "display_data"
    },
    {
     "name": "stdout",
     "output_type": "stream",
     "text": [
      "\n",
      "-----\n",
      "\n"
     ]
    },
    {
     "data": {
      "text/plain": [
       "'This file contains CSS code for a loading spinner and a cancel button. The loading spinner is a circular ring made up of three divs that rotate continuously using keyframe animation. The cancel button is positioned at the top left corner of the screen and has a border, background, and text color that change on hover. There is also a logbox element that is positioned at the top right corner of the screen and has a width of 70%.'"
      ]
     },
     "metadata": {},
     "output_type": "display_data"
    },
    {
     "data": {
      "text/plain": [
       "' CSS file for the loader component in the frontend\\n'"
      ]
     },
     "metadata": {},
     "output_type": "display_data"
    },
    {
     "name": "stdout",
     "output_type": "stream",
     "text": [
      "\n",
      "-----\n",
      "\n"
     ]
    },
    {
     "data": {
      "text/plain": [
       "'This file exports a React component called `LoadingRing` which displays a loading animation and a log viewer. It also imports `useNavigate` and `useContext` hooks from `react-router-dom` and `react` respectively. The `useContext` hook is used to access the `setIsLoading` function from the `SearchContext` context. The `useNavigate` hook is used to navigate to the `/welcome` route when the user clicks the \"Go Back / Run in Background\" button.'"
      ]
     },
     "metadata": {},
     "output_type": "display_data"
    },
    {
     "data": {
      "text/plain": [
       "' React component responsible for rendering a loading spinner.\\n'"
      ]
     },
     "metadata": {},
     "output_type": "display_data"
    },
    {
     "name": "stdout",
     "output_type": "stream",
     "text": [
      "\n",
      "-----\n",
      "\n"
     ]
    },
    {
     "data": {
      "text/plain": [
       "'This file exports a React component called `LogViewer` that fetches logs from an API endpoint every 3 seconds and displays them in a preformatted text area. The logs are fetched using the `callAPI` function from the `api` module. The fetched logs are then processed to remove commas and double quotes, and to split rows longer than 100 characters into multiple lines. The processed logs are then displayed in the preformatted text area using the `pre` tag. The CSS for the component is defined in a separate file called `LogViewer.css`.'"
      ]
     },
     "metadata": {},
     "output_type": "display_data"
    },
    {
     "data": {
      "text/plain": [
       "' Component for the log viewer in the loader component of the frontend\\n'"
      ]
     },
     "metadata": {},
     "output_type": "display_data"
    },
    {
     "name": "stdout",
     "output_type": "stream",
     "text": [
      "\n",
      "-----\n",
      "\n"
     ]
    },
    {
     "data": {
      "text/plain": [
       "'This file exports a React component called `ResponseContainer` that displays search results and referenced code in a side container. It imports a CSS file, `react-code-blocks` and another component called `Sidecontainer`. The `SplitBlocks` function splits the text into blocks and renders them as either paragraphs or code blocks depending on the flag value. The `ResponseContainer` component renders a container with a header, a `codediffcontainer` div that contains the `SplitBlocks` function and a `files` div that contains the `Sidecontainer` component. The component takes in several props including `searchResults`, `files`, `referenced_code`, `toggleSideContainer`, and `sideContainerOpen`.'"
      ]
     },
     "metadata": {},
     "output_type": "display_data"
    },
    {
     "data": {
      "text/plain": [
       "' Component for the response container in the frontend\\n'"
      ]
     },
     "metadata": {},
     "output_type": "display_data"
    },
    {
     "name": "stdout",
     "output_type": "stream",
     "text": [
      "\n",
      "-----\n",
      "\n"
     ]
    },
    {
     "data": {
      "text/plain": [
       "'This file contains CSS styles for the ResponseContainer component, which includes styles for the avatar, code diff container, response container, code diff, response picture container, and files. The styles define the width, height, padding, font, color, and other visual properties of these components. The ResponseContainer component is likely used to display responses or comments in the application.'"
      ]
     },
     "metadata": {},
     "output_type": "display_data"
    },
    {
     "data": {
      "text/plain": [
       "' CSS file for the response container in the frontend\\n'"
      ]
     },
     "metadata": {},
     "output_type": "display_data"
    },
    {
     "name": "stdout",
     "output_type": "stream",
     "text": [
      "\n",
      "-----\n",
      "\n"
     ]
    },
    {
     "data": {
      "text/plain": [
       "'This file contains a React component called Sync that handles syncing data with an API. It uses useState and useEffect hooks to manage state and make API calls. The component displays a button that shows the status of the sync process (syncing, done, or warning) and a popup that shows additional information about the sync process. The component also handles user interactions with the button and popup.'"
      ]
     },
     "metadata": {},
     "output_type": "display_data"
    },
    {
     "data": {
      "text/plain": [
       "' Component for syncing files in the frontend\\n'"
      ]
     },
     "metadata": {},
     "output_type": "display_data"
    },
    {
     "name": "stdout",
     "output_type": "stream",
     "text": [
      "\n",
      "-----\n",
      "\n"
     ]
    },
    {
     "data": {
      "text/plain": [
       "'This file contains CSS styles for the Sync feature of the application. It defines the styles for the Sync container, the popup container, the Sync button, the PopUp button, the bullet list in the popup container, and the new files container. The styles include background color, font family, font size, padding, margin, border, border radius, and box shadow. The Sync container and popup container have specific positioning and z-index values. The Sync button has a hover effect defined.'"
      ]
     },
     "metadata": {},
     "output_type": "display_data"
    },
    {
     "data": {
      "text/plain": [
       "' CSS file for the sync component in the frontend\\n'"
      ]
     },
     "metadata": {},
     "output_type": "display_data"
    },
    {
     "name": "stdout",
     "output_type": "stream",
     "text": [
      "\n",
      "-----\n",
      "\n"
     ]
    },
    {
     "data": {
      "text/plain": [
       "'This file contains a React component called `DropdownButton` that renders a dropdown button with several options. The component uses the `useState` hook to keep track of whether the dropdown is open or closed. It also uses the `useNavigate` hook from `react-router-dom` to handle navigation to different routes when an option is clicked. The `handleOptionClick` function is called when an option is clicked and it determines which option was clicked and performs the appropriate action, such as navigating to a different route or opening a new tab. The component also includes CSS styles from the `DropDownButton.css` file.'"
      ]
     },
     "metadata": {},
     "output_type": "display_data"
    },
    {
     "data": {
      "text/plain": [
       "' Component for the dropdown button in the frontend\\n'"
      ]
     },
     "metadata": {},
     "output_type": "display_data"
    },
    {
     "name": "stdout",
     "output_type": "stream",
     "text": [
      "\n",
      "-----\n",
      "\n"
     ]
    },
    {
     "data": {
      "text/plain": [
       "'This file contains CSS styles for a dropdown button component. It sets the position, display, and float properties for the dropdown container, as well as styles for the user profile button and the dropdown list. The dropdown list has a specific width, font size, and box shadow, and the bullets within it have hover effects for background color, text color, and box shadow.'"
      ]
     },
     "metadata": {},
     "output_type": "display_data"
    },
    {
     "data": {
      "text/plain": [
       "' CSS file for the dropdown button in the frontend\\n'"
      ]
     },
     "metadata": {},
     "output_type": "display_data"
    },
    {
     "name": "stdout",
     "output_type": "stream",
     "text": [
      "\n",
      "-----\n",
      "\n"
     ]
    },
    {
     "data": {
      "text/plain": [
       "'This file contains functions related to ignoring certain files and directories during analysis. The `process_file` function takes a file path and returns information about the file, including its path, number of tokens, and a sign indicating whether the file is within the token limit. The `IgnoreAI` function takes an email, user logger, and path, and returns a list of files to ignore and a list of files to analyze. The `parse_ignore_file` function reads an ignore file and returns a lambda function that checks if a file path matches any of the patterns in the ignore file. The `is_file_ignored` function checks if a file has an ignored extension.'"
      ]
     },
     "metadata": {},
     "output_type": "display_data"
    },
    {
     "data": {
      "text/plain": [
       "' Contains functions related to ignoring certain files and directories during analysis. It includes functions for processing files, ignoring files, and parsing ignore files.\\n'"
      ]
     },
     "metadata": {},
     "output_type": "display_data"
    },
    {
     "name": "stdout",
     "output_type": "stream",
     "text": [
      "\n",
      "-----\n",
      "\n"
     ]
    },
    {
     "data": {
      "text/plain": [
       "'This file contains a function called `get_user_attributes` that retrieves the email address of a user from Amazon Cognito using an access token. It imports the `boto3` library to create a Cognito client and uses the `get_user` method to retrieve the user information. It then extracts the email address from the response and returns it. If an error occurs, it returns `None`.'"
      ]
     },
     "metadata": {},
     "output_type": "display_data"
    },
    {
     "data": {
      "text/plain": [
       "' Contains a function called `get_user_attributes` that retrieves the email address of a user from Amazon Cognito using an access token. It uses the `boto3` library to create a Cognito client and retrieves the user information using the `get_user` method.\\n'"
      ]
     },
     "metadata": {},
     "output_type": "display_data"
    },
    {
     "name": "stdout",
     "output_type": "stream",
     "text": [
      "\n",
      "-----\n",
      "\n"
     ]
    },
    {
     "data": {
      "text/plain": [
       "'This file contains a function called `generate_completion` that uses the OpenAI API to generate text completions based on a given prompt. The function takes in a prompt and an email address, which is used to retrieve an API key. The function then sends a request to the OpenAI API with the given prompt and some parameters for the text generation, such as the maximum number of tokens and the temperature. The function returns the generated text as a string.'"
      ]
     },
     "metadata": {},
     "output_type": "display_data"
    },
    {
     "data": {
      "text/plain": [
       "' Contains a function called `generate_completion` that uses the OpenAI API to generate text completions based on a given prompt. It sends a request to the OpenAI API with the prompt and some parameters for the text generation, and returns the generated text as a string.\\n'"
      ]
     },
     "metadata": {},
     "output_type": "display_data"
    },
    {
     "name": "stdout",
     "output_type": "stream",
     "text": [
      "\n",
      "-----\n",
      "\n"
     ]
    },
    {
     "data": {
      "text/plain": [
       "\"This file contains functions for splitting a given text into sentences, getting embeddings for each sentence using OpenAI's text-embedding-ada-002 model, and processing the embeddings in batches to avoid rate limiting. The `split_sent` function splits a given text into sentences, while `get_embedding` function gets the embedding for a given sentence using OpenAI's API. The `process_batch` function processes a batch of sentences and stores the embeddings in a queue. The `split_embed` function splits a given text into sentences, creates a queue to store requests for embeddings, and processes the requests in batches using `process_batch` function. The function returns a list of embeddings for all the sentences in the text.\""
      ]
     },
     "metadata": {},
     "output_type": "display_data"
    },
    {
     "data": {
      "text/plain": [
       "\" Contains functions for splitting text into sentences, getting embeddings for each sentence using OpenAI's text-embedding-ada-002 model, and processing the embeddings in batches. It includes functions for splitting text, getting embeddings, and processing batches of embeddings.\\n\""
      ]
     },
     "metadata": {},
     "output_type": "display_data"
    },
    {
     "name": "stdout",
     "output_type": "stream",
     "text": [
      "\n",
      "-----\n",
      "\n"
     ]
    },
    {
     "data": {
      "text/plain": [
       "\"This file contains two functions: `getprojectInfo` and `read_info`. \\n\\n`getprojectInfo` takes an email as input and returns the name of the current repository and the current branch of that repository. It reads the `info.json` file located in the user's AIFiles directory to get the current repository. It then uses the `git` command to get the current branch of the repository. \\n\\n`read_info` takes an email as input and returns the path to the current repository. It reads the `info.json` file located in the user's AIFiles directory to get the current repository and returns the path to that repository.\""
      ]
     },
     "metadata": {},
     "output_type": "display_data"
    },
    {
     "data": {
      "text/plain": [
       "' Contains functions for getting project information from a JSON file. It includes functions for getting the current repository and branch, and reading the project information from a JSON file.\\n'"
      ]
     },
     "metadata": {},
     "output_type": "display_data"
    },
    {
     "name": "stdout",
     "output_type": "stream",
     "text": [
      "\n",
      "-----\n",
      "\n"
     ]
    },
    {
     "data": {
      "text/plain": [
       "'This file contains a function called \"FilesToAnalyzedata\" that takes in an email, a user logger, and a path as input parameters. The function uses the ThreadPoolExecutor to process files in the specified path and returns a list of dictionaries containing information about each file. The function skips certain file types and files in the .git folder. For supported file types, it reads the file contents and counts the number of tokens (words, symbols, etc.) in the file. If the token count is greater than 15000, it returns a warning sign, otherwise, it returns a checkmark sign. If the file encoding is not ASCII, ISO-8859-1, UTF-8, or UTF-16, it returns an information sign.'"
      ]
     },
     "metadata": {},
     "output_type": "display_data"
    },
    {
     "data": {
      "text/plain": [
       "' Contains a function called \"FilesToAnalyzedata\" that analyzes files in a specified path and returns a list of dictionaries containing information about each file. It skips certain file types and files in the .git folder. For supported file types, it reads the file contents and counts the number of tokens in the file. If the token count is greater than a certain limit, it returns a warning sign, otherwise, it returns a checkmark sign. If the file encoding is not supported, it returns an information sign.\\n'"
      ]
     },
     "metadata": {},
     "output_type": "display_data"
    },
    {
     "name": "stdout",
     "output_type": "stream",
     "text": [
      "\n",
      "-----\n",
      "\n"
     ]
    },
    {
     "data": {
      "text/plain": [
       "\"This file defines a class called UserLogger that is used to log messages for a specific user. It initializes a logger object with a file handler that writes log messages to a file in the user's directory. The log method is used to log a message and store it in a log history list. The get_last_logs method returns the last n log statements from the log history list, and the clear_logs method clears the log history list.\""
      ]
     },
     "metadata": {},
     "output_type": "display_data"
    },
    {
     "data": {
      "text/plain": [
       "' Utility module responsible for logging user interactions.\\n'"
      ]
     },
     "metadata": {},
     "output_type": "display_data"
    },
    {
     "name": "stdout",
     "output_type": "stream",
     "text": [
      "\n",
      "-----\n",
      "\n"
     ]
    },
    {
     "data": {
      "text/plain": [
       "'This file defines a function called `files2analyse` that takes in a repository name and an email as arguments. The function returns a list of file paths that are not ignored and are of certain file types. The function first checks if there is an ignore file for the repository and if so, it parses it to determine which files to ignore. It then walks through the repository directory and its subdirectories, ignoring any directories or files that match the ignore patterns. For each non-ignored file, it checks if it is of a certain file type or if it is a text file with a supported encoding. If it passes these checks, its path is added to the list of file paths to be returned.'"
      ]
     },
     "metadata": {},
     "output_type": "display_data"
    },
    {
     "data": {
      "text/plain": [
       "' Defines a function called `files2analyse` that takes in a repository name and an email as arguments. The function returns a list of file paths that are not ignored and are of certain file types. The function checks if there is an ignore file for the repository and if so, it parses it to determine which files to ignore. It then walks through the repository directory and its subdirectories, ignoring any directories or files that match the ignore patterns. For each non-ignored file, it checks if it is of a certain file type or if it is a text file with a supported encoding. If it passes these checks, its path is added to the list of file paths to be returned.\\n'"
      ]
     },
     "metadata": {},
     "output_type": "display_data"
    },
    {
     "name": "stdout",
     "output_type": "stream",
     "text": [
      "\n",
      "-----\n",
      "\n"
     ]
    },
    {
     "data": {
      "text/plain": [
       "\"This file contains functions related to managing API keys for OpenAI. The `set_key` function sets the API key for a given user, `delete_key` deletes the API key for a given user, and `get_key` retrieves the API key for a given user. The `test_key` function tests whether the API key for a given user is valid by using it to generate a response from OpenAI's GPT-3 model. If the response is generated successfully, the function returns a success message, otherwise it returns an error message. The file imports the `json`, `os`, `time`, `openai`, and `tokenCount` modules from other files in the codebase.\""
      ]
     },
     "metadata": {},
     "output_type": "display_data"
    },
    {
     "data": {
      "text/plain": [
       "' Contains functions related to managing API keys for OpenAI. It includes functions for setting, deleting, and retrieving API keys. It also includes a function for testing the validity of an API key.\\n'"
      ]
     },
     "metadata": {},
     "output_type": "display_data"
    },
    {
     "name": "stdout",
     "output_type": "stream",
     "text": [
      "\n",
      "-----\n",
      "\n"
     ]
    },
    {
     "data": {
      "text/plain": [
       "'This file contains three functions related to creating a clone of a repository. The `create_clone` function takes in a repository name and email, checks if a destination folder exists, deletes it if it does, and then copies the repository folder to the destination. The `get_clone_path` function returns the path of the cloned repository. The `get_clone_filepath` function returns the file path of a specific file within the cloned repository. The file uses the `shutil` and `os` modules for file operations.'"
      ]
     },
     "metadata": {},
     "output_type": "display_data"
    },
    {
     "data": {
      "text/plain": [
       "' Contains functions related to creating a clone of a repository. It includes functions for creating a clone, getting the clone path, and getting the clone file path.\\n'"
      ]
     },
     "metadata": {},
     "output_type": "display_data"
    },
    {
     "name": "stdout",
     "output_type": "stream",
     "text": [
      "\n",
      "-----\n",
      "\n"
     ]
    },
    {
     "data": {
      "text/plain": [
       "\"This file contains three functions related to repository management for a user. \\n\\nThe first function, `select_repo`, takes in a full path to a repository and an email address, and updates the user's `info.json` file to set the current repository to the provided path. \\n\\nThe second function, `list_repos`, takes in an email address and returns a list of dictionaries containing information about each repository associated with the user. This includes the repository name, whether it has been trained, the current branch, and whether it is currently selected as the user's current repository. \\n\\nThe third function, `delete_repo`, takes in a full path to a repository and an email address, and deletes the repository from the user's file system. It also updates the user's `info.json` file to remove the deleted repository from the list of repositories and sets the current repository to an empty string if the deleted repository was the current repository.\""
      ]
     },
     "metadata": {},
     "output_type": "display_data"
    },
    {
     "data": {
      "text/plain": [
       "' Contains functions related to repository management for a user. It includes functions for selecting a repository, listing repositories, and deleting a repository.\\n'"
      ]
     },
     "metadata": {},
     "output_type": "display_data"
    },
    {
     "name": "stdout",
     "output_type": "stream",
     "text": [
      "\n",
      "-----\n",
      "\n"
     ]
    },
    {
     "data": {
      "text/plain": [
       "'The file `utilities/tokenCount.py` contains a function `tokenCount` that takes a string as input and returns the number of tokens in the string. The function first imports `tiktoken` and then uses it to get an encoding named `cl100k_base`. It then removes any extra white spaces from the input string, encodes it using the encoding obtained from `tiktoken`, and returns the number of tokens in the encoded string.'"
      ]
     },
     "metadata": {},
     "output_type": "display_data"
    },
    {
     "data": {
      "text/plain": [
       "' Contains a function called `tokenCount` that takes a string as input and returns the number of tokens in the string. The function uses a library called `tiktoken` to get an encoding and then counts the tokens in the string using the encoding.\\n'"
      ]
     },
     "metadata": {},
     "output_type": "display_data"
    },
    {
     "name": "stdout",
     "output_type": "stream",
     "text": [
      "\n",
      "-----\n",
      "\n"
     ]
    },
    {
     "data": {
      "text/plain": [
       "'This file contains a function called AskGPT that uses the OpenAI API to generate responses to a given prompt. The function takes in parameters such as email, system_message, prompt, temperature, max_tokens, retrys, delay, and model. It first checks if the token count of the prompt and system message is within limits, and if not, it returns an error message. It then sets the OpenAI API key using the email parameter and generates a response using the given prompt and system message. If the response exceeds the token limit for the given model, it retries with a larger model. If there is an error, it retries a certain number of times before returning an error message.'"
      ]
     },
     "metadata": {},
     "output_type": "display_data"
    },
    {
     "data": {
      "text/plain": [
       "' Contains a function called AskGPT that uses the OpenAI API to generate responses to a given prompt. The function takes in parameters such as email, system_message, prompt, temperature, max_tokens, retrys, delay, and model. It checks the token count of the prompt and system message, sets the OpenAI API key, and generates a response using the given prompt and system message. It retries the API call if there is an error and returns the generated response.\\n'"
      ]
     },
     "metadata": {},
     "output_type": "display_data"
    },
    {
     "name": "stdout",
     "output_type": "stream",
     "text": [
      "\n",
      "-----\n",
      "\n"
     ]
    },
    {
     "data": {
      "text/plain": [
       "\"This file contains functions related to cloning a git repository, selecting a branch, and getting the list of branches for a given repository. The `get_clones` function clones a git repository into a user's folder, gets the list of branches, and updates the user's `info.json` file with the cloned repository's information. The `select_branch` function sets the branch for a given repository, and the `get_branches` function gets the list of branches for a given repository and updates it with the latest pull. The file imports the `os`, `json`, and `shutil` modules and uses the `subprocess` module to run git commands.\""
      ]
     },
     "metadata": {},
     "output_type": "display_data"
    },
    {
     "data": {
      "text/plain": [
       "' Utility module responsible for cloning a repository.\\n'"
      ]
     },
     "metadata": {},
     "output_type": "display_data"
    },
    {
     "name": "stdout",
     "output_type": "stream",
     "text": [
      "\n",
      "-----\n",
      "\n"
     ]
    },
    {
     "data": {
      "text/plain": [
       "\"This file contains two functions, `set_rates` and `get_rates`, that are used to set and retrieve rates for a user. The `set_rates` function takes in a list of rates and an email address, and updates the user's `info.json` file with the new rates. The `get_rates` function takes in a user ID and retrieves the rates from the user's `info.json` file. If the rates are not found, it returns the default rates of [3, 60]. The file also imports the `json` and `os` modules.\""
      ]
     },
     "metadata": {},
     "output_type": "display_data"
    },
    {
     "data": {
      "text/plain": [
       "\" This file contains functions to set and retrieve rates for a user. It updates the user's info.json file with new rates and retrieves rates from the info.json file. It also imports the json and os modules.\\n\""
      ]
     },
     "metadata": {},
     "output_type": "display_data"
    },
    {
     "name": "stdout",
     "output_type": "stream",
     "text": [
      "\n",
      "-----\n",
      "\n"
     ]
    },
    {
     "data": {
      "text/plain": [
       "'This file exports a React component called \"Alert\" that displays an error message based on the error code passed as a prop. The component uses the useState and useEffect hooks from React to manage the state of whether or not to show the error message and to set a timeout to hide the message after 5 seconds. The error message is displayed in a red modal with an error icon and the appropriate error message based on the error code. If the error code is not recognized, a generic error message is displayed.'"
      ]
     },
     "metadata": {},
     "output_type": "display_data"
    },
    {
     "data": {
      "text/plain": [
       "' Component for displaying alerts in the frontend\\n'"
      ]
     },
     "metadata": {},
     "output_type": "display_data"
    },
    {
     "name": "stdout",
     "output_type": "stream",
     "text": [
      "\n",
      "-----\n",
      "\n"
     ]
    },
    {
     "data": {
      "text/plain": [
       "'This file defines a functional component called `NewWelcome` that renders a welcome screen for the 10XDEV.AI application. It imports `React` and `useNavigate` from `react-router-dom` and `DropDownButton` from a local file. The component renders a title, an image, a message prompting the user to add their repository, and a button to set up the repository. When the button is clicked, it calls the `handleSetupClick` function which uses `useNavigate` to navigate to the `/clone` route. The component is exported as the default export of the file.'"
      ]
     },
     "metadata": {},
     "output_type": "display_data"
    },
    {
     "data": {
      "text/plain": [
       "' Component for the new welcome section in the frontend\\n'"
      ]
     },
     "metadata": {},
     "output_type": "display_data"
    },
    {
     "name": "stdout",
     "output_type": "stream",
     "text": [
      "\n",
      "-----\n",
      "\n"
     ]
    },
    {
     "data": {
      "text/plain": [
       "'The file `LeftWelcome.js` is a React component that represents the left side of the welcome screen. It imports various dependencies such as React, useContext, useState, useEffect, and several components from other files. \\n\\nThe component uses the `useContext` hook to access the state and functions from the `SearchContext` context. It also uses the `useState` hook to manage local state variables. \\n\\nThe component contains several event handlers and useEffect hooks to fetch data from an API and update the state accordingly. It also includes conditional rendering based on the state variables. \\n\\nThe component renders a UI that includes a project info section, a file tree, and a sync button. It also includes a loading spinner when the data is being fetched.'"
      ]
     },
     "metadata": {},
     "output_type": "display_data"
    },
    {
     "data": {
      "text/plain": [
       "' Component for the left welcome section in the frontend\\n'"
      ]
     },
     "metadata": {},
     "output_type": "display_data"
    },
    {
     "name": "stdout",
     "output_type": "stream",
     "text": [
      "\n",
      "-----\n",
      "\n"
     ]
    },
    {
     "data": {
      "text/plain": [
       "'This file contains a function called `convert_ipynb_to_python` that converts a Jupyter notebook file (`.ipynb`) to a Python script. \\n\\nThe function takes a file path as input and reads the notebook file using the `nbformat` library. It then uses the `PythonExporter` class from the `nbconvert` library to convert the notebook into Python code. The resulting Python code is returned by the function.'"
      ]
     },
     "metadata": {},
     "output_type": "display_data"
    },
    {
     "data": {
      "text/plain": [
       "' This file contains a function called convert_ipynb_to_python that converts a Jupyter notebook file (.ipynb) to a Python script. It reads the notebook file using the nbformat library and uses the PythonExporter class from the nbconvert library to convert the notebook into Python code.\\n'"
      ]
     },
     "metadata": {},
     "output_type": "display_data"
    },
    {
     "name": "stdout",
     "output_type": "stream",
     "text": [
      "\n",
      "-----\n",
      "\n"
     ]
    },
    {
     "data": {
      "text/plain": [
       "'This file, `create_project_summary.py`, is a utility script that creates a summary of a project. It imports the `pandas` library as `pd` and defines a function called `create_project_summary`. \\n\\nThe function takes two parameters: `repo_name` and `email`. It constructs a filename by concatenating the email, repository name, and \".csv\" extension. It then uses the `pd.read_csv()` function to read the contents of the CSV file specified by the filename.'"
      ]
     },
     "metadata": {},
     "output_type": "display_data"
    },
    {
     "data": {
      "text/plain": [
       "' Contains a utility script that creates a summary of a project. It reads a CSV file and performs analysis on the summaries. It then prints the file summaries, performs example analysis, and prints the results.\\n'"
      ]
     },
     "metadata": {},
     "output_type": "display_data"
    },
    {
     "name": "stdout",
     "output_type": "stream",
     "text": [
      "\n",
      "-----\n",
      "\n"
     ]
    },
    {
     "data": {
      "text/plain": [
       "\"This file, `folder_tree_structure.py`, contains a function called `generate_folder_structure` that generates a tree-like structure of folders and files within a given root folder. \\n\\nThe function takes two parameters: `email` (the user's email) and `root_folder` (the root folder to generate the structure from). \\n\\nInside the function, there is a nested function called `traverse_folder` that recursively traverses through the folders and files within the root folder. \\n\\nThe function uses the `os` module to interact with the file system. It checks if a folder starts with a dot (indicating it should be ignored) and skips it if it does. It then appends the folder name to a log list. \\n\\nFor each item (folder or file) within the folder, it checks if it is a directory. If it is, it calculates the relative path from the root folder and checks if it should be ignored using the `AIignore` function. If it should not be ignored, it recursively calls the `traverse_folder` function with the item as the new folder. \\n\\nIf the item is a file, it appends the file name to the log list. \\n\\nBefore calling the `traverse_folder` function, the code checks if an ignore file exists for the given root folder. If it does, it parses the ignore file using the `parse_ignore_file` function from the `IgnoreAI` module. If the ignore file does not exist, it assigns a lambda function that always returns False to `AIignore`. \\n\\nFinally, the function returns the log list joined by newline characters to create a string representation of the folder structure.\""
      ]
     },
     "metadata": {},
     "output_type": "display_data"
    },
    {
     "data": {
      "text/plain": [
       "' Contains a function called `generate_folder_structure` that generates a tree-like structure of folders and files within a given root folder. It uses the `os` module to interact with the file system and recursively traverses through the folders and files to create the structure. It returns a string representation of the folder structure.\\n'"
      ]
     },
     "metadata": {},
     "output_type": "display_data"
    },
    {
     "name": "stdout",
     "output_type": "stream",
     "text": [
      "\n",
      "-----\n",
      "\n"
     ]
    },
    {
     "data": {
      "text/plain": [
       "'The file utilities/fs_analyzer.py contains a function called analyze_summaries that takes in a repository name and an email as parameters. \\n\\nThe function loads a CSV file named after the repository from a specific file path. It then filters out any files with the summary \"Ignore\". \\n\\nAfter filtering, the function performs analysis on the summaries. The specific analysis logic is not provided and needs to be added by the user. \\n\\nThe function then prints the file summaries by iterating over the filtered dataframe and printing the file path and summary for each row. \\n\\nNext, it provides some example analysis. It counts the number of files with summaries, calculates the average length of the summaries, and gets the most common words in the summaries. \\n\\nFinally, the function prints the results of the example analysis. \\n\\nThe file also includes an example usage of the analyze_summaries function, where a repository name and email are provided as arguments.'"
      ]
     },
     "metadata": {},
     "output_type": "display_data"
    },
    {
     "data": {
      "text/plain": [
       "' Contains a function called analyze_summaries that takes in a repository name and an email as parameters. It loads a CSV file, filters out files with \"Ignore\" summaries, performs analysis on the summaries, and prints the results.\\n'"
      ]
     },
     "metadata": {},
     "output_type": "display_data"
    },
    {
     "name": "stdout",
     "output_type": "stream",
     "text": [
      "\n",
      "-----\n",
      "\n"
     ]
    },
    {
     "data": {
      "text/plain": [
       "'This file contains two functions for summarizing text. \\n\\nThe first function, `summarize_big`, takes an input string, a filename, and an email as parameters. It initializes a language model (`ChatOpenAI`) and a text splitter (`RecursiveCharacterTextSplitter`). It splits the input string into chunks, creates documents from the chunks, and then runs the summarize chain on the documents using the language model. The output is returned.\\n\\nThe second function, `summarize_str`, takes a filename, a string, an email, and a userlogger as parameters. It checks the token count of the input string and determines the appropriate language model to use based on the token count. If the token count is greater than 12000, it calls the `summarize_big` function. Otherwise, it uses the OpenAI ChatCompletion API to generate a summary. It sends a system message and a user message to the API, specifying the file name and the string to summarize. It retries the API call up to three times if there is an error. The generated summary is returned.'"
      ]
     },
     "metadata": {},
     "output_type": "display_data"
    },
    {
     "data": {
      "text/plain": [
       "\" Contains functions for summarizing text. It includes functions for generating summaries using OpenAI's API and filtering and searching files based on user prompts.\\n\""
      ]
     },
     "metadata": {},
     "output_type": "display_data"
    },
    {
     "name": "stdout",
     "output_type": "stream",
     "text": [
      "\n",
      "-----\n",
      "\n"
     ]
    },
    {
     "data": {
      "text/plain": [
       "'This file is a React component called \"CreateProject\" that is responsible for rendering a form to create a new project. It imports various dependencies such as React, useState, useEffect, useContext, and useRef from the React library, as well as other components and functions from other files in the codebase.\\n\\nThe component uses the useContext hook to access the state and functions from the SearchContext, which is a context that manages the search functionality. It also uses the useRef hook to create a reference to a loading ring element.\\n\\nThe component defines several state variables using the useState hook, including prompt, clarifyingQuestions, spec, and userClarifyingAnswers. It also defines several event handler functions to handle changes in the form inputs and to submit the form.\\n\\nThe handleSubmit function is called when the form is submitted and makes an API call to create a new project. The handleClarifyingQuestionsSubmit function is called when the user submits their clarifying answers and makes another API call. The handleProceedClick function is called when the user clicks the \"Proceed\" button and makes another API call.\\n\\nThe component renders the form inputs, including a textarea for the project description and a textarea for the clarifying answers. It also renders the clarifying questions and spec if they are available. Additionally, it renders a loading spinner if the isLoading state variable is true.\\n\\nOverall, this file is responsible for rendering a form to create a new project and handling the submission and API calls associated with it.'"
      ]
     },
     "metadata": {},
     "output_type": "display_data"
    },
    {
     "data": {
      "text/plain": [
       "' React component responsible for rendering a form to create a new project and handling the submission and API calls associated with it.\\n'"
      ]
     },
     "metadata": {},
     "output_type": "display_data"
    },
    {
     "name": "stdout",
     "output_type": "stream",
     "text": [
      "\n",
      "-----\n",
      "\n"
     ]
    },
    {
     "data": {
      "text/plain": [
       "\"The file `Wait.js` is a React component that displays a message asking the user to wait for a minute. It uses the `useEffect` hook to set up a timeout that navigates the user to the '/welcome' route after 1 minute (60000 milliseconds). The `useNavigate` hook from the 'react-router-dom' library is used to handle the navigation. The timeout is cleared when the component is unmounted to prevent any memory leaks. The component returns a `<div>` element containing an `<h1>` element with the wait message.\""
      ]
     },
     "metadata": {},
     "output_type": "display_data"
    },
    {
     "data": {
      "text/plain": [
       "' React component that displays a message asking the user to wait for a minute.\\n'"
      ]
     },
     "metadata": {},
     "output_type": "display_data"
    },
    {
     "name": "stdout",
     "output_type": "stream",
     "text": [
      "\n",
      "-----\n",
      "\n"
     ]
    },
    {
     "data": {
      "text/plain": [
       "'This file is a React component called \"Clone\" that is responsible for rendering a form to clone a Git repository. It imports various dependencies such as React, useState, useContext, useEffect, and others. It also imports components and styles from other files in the codebase.\\n\\nThe component initializes the AOS library, sets up state variables using the useState hook, and retrieves the hostname and navigation function using the useNavigate hook. It also sets up state variables for authentication and repositories.\\n\\nThe component defines functions for handling the cloning process, including handling public and private repositories, handling input changes, and selecting a branch. It also defines a function for searching repositories.\\n\\nThe component uses the useEffect hook to handle authentication and retrieve repositories when the component mounts. It also uses the useEffect hook to initialize the AOS library.\\n\\nThe component renders a form for cloning a repository, including input fields for the repository URL and branch selection. It also renders buttons for connecting with GitHub and displaying repositories. The component conditionally renders loading indicators and displays the cloned branches or repositories based on the user\\'s actions.'"
      ]
     },
     "metadata": {},
     "output_type": "display_data"
    },
    {
     "data": {
      "text/plain": [
       "' React component responsible for rendering a form to clone a Git repository and handling the cloning process.\\n'"
      ]
     },
     "metadata": {},
     "output_type": "display_data"
    },
    {
     "name": "stdout",
     "output_type": "stream",
     "text": [
      "\n",
      "-----\n",
      "\n"
     ]
    },
    {
     "data": {
      "text/plain": [
       "'This file is a React component called `BranchesList` that displays a table of branches. It uses the `useState` hook from React to manage the current page of the pagination. The component receives an array of branches as props and renders a table row for each branch. It also includes pagination functionality with previous and next buttons, as well as numbered buttons for each page. The number of items per page is set to 10.'"
      ]
     },
     "metadata": {},
     "output_type": "display_data"
    },
    {
     "data": {
      "text/plain": [
       "' React component that displays a table of branches and handles pagination functionality.\\n'"
      ]
     },
     "metadata": {},
     "output_type": "display_data"
    },
    {
     "name": "stdout",
     "output_type": "stream",
     "text": [
      "\n",
      "-----\n",
      "\n"
     ]
    },
    {
     "data": {
      "text/plain": [
       "'This file, Test.py, is a test script that imports two functions, `summarize_str` and `summarize_big`, from the `utilities.summarize` module. It also imports the `os` module.\\n\\nThe script defines a sample input string, a sample filename, and a sample email address. It then creates a full file path by joining various directory and file names using the `os.path.join` function.\\n\\nThe script also defines a function called `test_summarize_big`. This function attempts to open the file specified by the full file path, reads its contents, and passes the file contents, sample filename, and sample email to the `summarize_big` function. The output of the `summarize_big` function is then printed if it exists, otherwise a message indicating that the summarization failed is printed.\\n\\nFinally, the script checks if it is being run as the main module and if so, it calls the `test_summarize_big` function.'"
      ]
     },
     "metadata": {},
     "output_type": "display_data"
    },
    {
     "data": {
      "text/plain": [
       "' Test script that imports functions from the utilities.summarize module and the os module. It tests the summarize_big function by reading the contents of a file and passing it to the function.\\n'"
      ]
     },
     "metadata": {},
     "output_type": "display_data"
    },
    {
     "name": "stdout",
     "output_type": "stream",
     "text": [
      "\n",
      "-----\n",
      "\n"
     ]
    },
    {
     "data": {
      "text/plain": [
       "\"This file is the JavaScript code for the landing page of the 10XDEV.AI website. It imports React and useEffect from the 'react' library and also imports the CSS file and an image file. \\n\\nThe code defines a functional component called LandingPage. Inside the component, it checks the hostname of the current window and sets the redirectUri variable based on the hostname.\\n\\nThe component also uses the useEffect hook to remove an item from the local storage.\\n\\nThe return statement of the component contains the JSX code for the landing page layout. It includes a header, sections with content, and a footer. The JSX code includes HTML elements with CSS classes for styling and dynamic values for URLs and image sources.\\n\\nAt the end of the file, there is a script tag that imports an external JavaScript library called Flowbite.\""
      ]
     },
     "metadata": {},
     "output_type": "display_data"
    },
    {
     "data": {
      "text/plain": [
       "nan"
      ]
     },
     "metadata": {},
     "output_type": "display_data"
    },
    {
     "name": "stdout",
     "output_type": "stream",
     "text": [
      "\n",
      "-----\n",
      "\n"
     ]
    },
    {
     "data": {
      "text/plain": [
       "'The file trainAI.py contains functions for training an AI model on a given repository. \\n\\nThe function `summarize_file` takes in the repository name, file path, an index value, a user logger, and an email. It first checks if the file is a text file, and if not, it logs a message and returns \"Ignore\". If the file is an .ipynb file, it converts it to a human-readable format. Then, it reads the contents of the file and checks if it is too long. If it is, it logs a message and returns \"File content too long\". Otherwise, it calls the `summarize_str` function to generate a summary of the file contents. It returns the updated index value and the generated summary.\\n\\nThe function `train_AI` takes in the repository name, a user logger, and an email. It first tracks an event using the `track_event` function. Then, it creates a file path for saving the trained AI model. It calls the `files2analyse` function to get a list of file paths to analyze in the repository. If the list is empty, it creates an empty dataframe and saves it as a CSV file. Otherwise, it creates a dataframe with the file paths and initializes the \\'summary\\' and \\'embedding\\' columns as empty. It then iterates over each file path in the dataframe and calls the `summarize_file` function to generate a summary and embedding for each file. If the summary is not \"Ignore\", it adds the summary and embedding to the dataframe. After analyzing all files, it removes any rows with \"Ignore\" in the \\'summary\\' column. It saves the dataframe as a CSV file. It then selects the repository, creates a project summary, and creates a clone of the repository. Finally, it logs a message indicating the completion of the training process.'"
      ]
     },
     "metadata": {},
     "output_type": "display_data"
    },
    {
     "data": {
      "text/plain": [
       "\" Contains functions for training an AI model on a given repository. The summarize_file function generates a summary of a file's contents, and the train_AI function analyzes all files in a repository, creates a project summary, and creates a clone of the repository.\\n\""
      ]
     },
     "metadata": {},
     "output_type": "display_data"
    },
    {
     "name": "stdout",
     "output_type": "stream",
     "text": [
      "\n",
      "-----\n",
      "\n"
     ]
    },
    {
     "data": {
      "text/plain": [
       "'This file is a React component called \"Repos\" that displays a list of repositories. It imports various dependencies such as React, useEffect, useState, and useContext from the \\'react\\' library, as well as other components and icons. \\n\\nThe component fetches data from an API endpoint using the callAPI function and sets the fetched data in the \\'repos\\' state variable using the useState hook. It also uses the useEffect hook to fetch the data when the component mounts.\\n\\nThe component defines several callback functions for handling different actions such as deleting a repository, selecting a repository, training a repository, changing the branch of a repository, and navigating to the files of a repository.\\n\\nThe render function displays the list of repositories as cards, with each card showing the repository\\'s directory, branch, and whether it has been trained or not. It also provides buttons for performing actions such as training, selecting, deleting, and viewing the files of a repository.\\n\\nIf the isLoading state variable is true, a loading spinner is displayed. Otherwise, the list of repositories and a button for setting up a new repository are shown.'"
      ]
     },
     "metadata": {},
     "output_type": "display_data"
    },
    {
     "data": {
      "text/plain": [
       "' React component that displays a list of repositories and handles various actions such as deleting, selecting, and training a repository. It fetches data from an API endpoint and renders the list of repositories as cards.\\n'"
      ]
     },
     "metadata": {},
     "output_type": "display_data"
    },
    {
     "name": "stdout",
     "output_type": "stream",
     "text": [
      "\n",
      "-----\n",
      "\n"
     ]
    },
    {
     "data": {
      "text/plain": [
       "'The file `summary_analyzer.py` contains a function `analyze_system_messages` that takes in a `filename`, `string`, `email`, and `userlogger` as parameters. \\n\\nThe function sets the OpenAI API key using the `get_key` function from the `keyutils` module. It then defines a list of `system_messages` containing predefined system messages.\\n\\nBased on the length of the `string`, the function determines the appropriate GPT-3 model to use. If the token count of the `string` is greater than 3500, it uses the \"gpt-3.5-turbo-16k\" model; otherwise, it uses the \"gpt-3.5-turbo\" model.\\n\\nThe function then enters a while loop with a maximum number of attempts set to 3. It attempts to make a chat completion request to the OpenAI API using the specified model and a combination of the `system_messages` and a user message containing the `filename` and `string`.\\n\\nIf the request is successful, the function returns the generated response from the API. If an exception occurs, the function logs the error and retries after a 20-second delay. The number of attempts is incremented after each retry.\\n\\nIf the maximum number of retry attempts is reached, the function logs a message indicating that the maximum attempts have been exceeded and returns `None`.\\n\\nNote: The function `analyze_system_messages` requires the `filename`, `string`, `email`, and `userlogger` parameters to be provided when calling the function.'"
      ]
     },
     "metadata": {},
     "output_type": "display_data"
    },
    {
     "data": {
      "text/plain": [
       "' Contains a function for analyzing system messages using the OpenAI API. The analyze_system_messages function sets the OpenAI API key, determines the appropriate GPT-3 model based on the length of the input string, and makes a chat completion request to the API.\\n'"
      ]
     },
     "metadata": {},
     "output_type": "display_data"
    },
    {
     "name": "stdout",
     "output_type": "stream",
     "text": [
      "\n",
      "-----\n",
      "\n"
     ]
    },
    {
     "data": {
      "text/plain": [
       "'The file \"Create.js\" is a React component that is responsible for rendering a chat interface for creating a project. It imports various components and stylesheets, including React, useContext, useEffect, useState, and useRef from the React library, as well as other custom components and styles.\\n\\nThe component uses the useContext hook to access the search context, which contains information about the search term, loading state, and search results. It also uses the useState hook to manage the chat messages and the file search term.\\n\\nThe component defines a function called handleReprompt, which is called when the user wants to reprompt the chat with a new input. This function updates the chat messages and makes an API call to create a project with the specified search term. The response from the API call is then used to update the chat messages again.\\n\\nThe component also defines two useEffect hooks. The first useEffect hook is used to initialize the chat messages with the search term and search results from the search context. The second useEffect hook is used to scroll the loading ring into view when the loading state changes.\\n\\nThe component defines a function called handleDownload, which is called when the user wants to download the project files. This function makes an API call to create a project with the search results and downloads the resulting files as a zip file.\\n\\nThe component renders a chat interface with user prompts, response containers, and a loading ring. It also renders a message indicating that the project is ready and provides a button to download the project files.'"
      ]
     },
     "metadata": {},
     "output_type": "display_data"
    },
    {
     "data": {
      "text/plain": [
       "' React component responsible for rendering a chat interface for creating a project. It handles user prompts, makes API calls to create a project, and provides a button to download the project files.\\n'"
      ]
     },
     "metadata": {},
     "output_type": "display_data"
    },
    {
     "name": "stdout",
     "output_type": "stream",
     "text": [
      "\n",
      "-----\n",
      "\n"
     ]
    },
    {
     "data": {
      "text/plain": [
       "'This file is a React component called \"Branch\" that displays a list of branches and allows the user to select one. \\n\\nIt imports various dependencies such as React, useState, useContext, useEffect, and useNavigate from the react-router-dom library. It also imports other components like Navbar, SearchContext, LoadingRing, and FaSync.\\n\\nThe component uses the useContext hook to access the path and isLoading state variables from the SearchContext. It also uses the useState hook to manage the branches and isRefreshing state variables.\\n\\nThe useEffect hook is used to fetch the branches data from an API endpoint when the path or isLoading state variables change. It sets the branches state variable with the fetched data and handles any errors that occur during the fetch.\\n\\nThe handleSelect function is called when a branch is selected. It makes an API call to set the selected branch and then navigates to the \"/welcome\" route and reloads the page.\\n\\nThe handleRefresh function is called when the refresh button is clicked. It fetches the branches data again from the API endpoint and updates the branches state variable. It also handles any errors that occur during the fetch.\\n\\nThe return statement renders the component\\'s JSX. If isLoading or isRefreshing is true, it displays a loading spinner. Otherwise, it displays a list of branches with buttons that can be clicked to select a branch.'"
      ]
     },
     "metadata": {},
     "output_type": "display_data"
    },
    {
     "data": {
      "text/plain": [
       "' React component that displays a list of branches and allows the user to select one. It fetches the branches data from an API endpoint and handles branch selection and refresh functionality.\\n'"
      ]
     },
     "metadata": {},
     "output_type": "display_data"
    },
    {
     "name": "stdout",
     "output_type": "stream",
     "text": [
      "\n",
      "-----\n",
      "\n"
     ]
    },
    {
     "data": {
      "text/plain": [
       "'The file utilities/mixpanel.py is responsible for handling Mixpanel tracking events. It imports the Mixpanel library and creates a Mixpanel client object with a specific API key. The track_event function is defined to track an event in Mixpanel. It takes an event name and a dictionary of properties as arguments. The function uses the Mixpanel client to track the event by calling the track method and passing the email as the distinct_id, the event name, and the properties dictionary.'"
      ]
     },
     "metadata": {},
     "output_type": "display_data"
    },
    {
     "data": {
      "text/plain": [
       "' Handles Mixpanel tracking events. It creates a Mixpanel client object and defines a function for tracking events using the client.\\n'"
      ]
     },
     "metadata": {},
     "output_type": "display_data"
    },
    {
     "name": "stdout",
     "output_type": "stream",
     "text": [
      "\n",
      "-----\n",
      "\n"
     ]
    },
    {
     "data": {
      "text/plain": [
       "'The file AskAI.py contains several functions related to searching and filtering files based on user prompts. \\n\\nThe function `process_file_contents_with_langchain` takes in the contents of a file, a user prompt, and a maximum number of tokens. It applies stemming to the file contents, creates a TF-IDF matrix, and calculates the cosine similarity between the user prompt and each chunk of the file. It then selects the chunks with the highest similarity and returns them as a joined string.\\n\\nThe function `max_cosine_sim` calculates the maximum cosine similarity between a list of embeddings and a prompt embedding.\\n\\nThe function `filter_functions` filters a list of file paths based on a response string. It checks if each file path is mentioned in the response string using regular expressions and returns the filtered list.\\n\\nThe function `search_functions` takes in a code query, an email, a user logger, a scope, and a history flag. It filters the file paths based on the scope, calculates the cosine similarity between the code query and each file embedding, and returns the top 10 file paths with the highest similarity.\\n\\nThe function `files2str` takes in a list of file paths and returns a string representation of the file paths.\\n\\nThe function `get_referenced_code` takes in a path and a list of files and returns the code blocks from the files.\\n\\nThe function `consolidate_prompt_creation` takes in a list of chat messages and a current prompt and creates a consolidated prompt by concatenating the previous user prompts, AI responses, and file references.\\n\\nThe function `Ask_AI_search_files` takes in a prompt, a user logger, an email, chat messages, and a scope. It reads the file paths and embeddings from a CSV file, searches for relevant files based on the prompt, and returns the filtered file paths.\\n\\nThe function `Ask_AI_with_referenced_files` takes in an original prompt, a user logger, an email, chat messages, and a list of files. It creates a consolidated prompt, reads the file paths and embeddings from a CSV file, generates a final prompt by concatenating the file contents and the original prompt, and returns the final prompt and the referenced code blocks.'"
      ]
     },
     "metadata": {},
     "output_type": "display_data"
    },
    {
     "data": {
      "text/plain": [
       "' Contains functions related to searching and filtering files based on user prompts. It includes functions for processing file contents, filtering file paths, and searching for relevant files.\\n'"
      ]
     },
     "metadata": {},
     "output_type": "display_data"
    },
    {
     "name": "stdout",
     "output_type": "stream",
     "text": [
      "\n",
      "-----\n",
      "\n"
     ]
    }
   ],
   "source": [
    "import pandas as pd\n",
    "filename = \"../user/\" + \"prathamthepro@gmail.com\" + \"/AIFiles/\" + \"10xdev.ai\" + \".csv\"\n",
    "fs = pd.read_csv(filename)\n",
    "\n",
    "for index in range(0,71):\n",
    "    display(fs['summary'][index])\n",
    "    display(fs['role'][index])\n",
    "    print(\"\\n-----\\n\")"
   ]
  },
  {
   "cell_type": "code",
   "execution_count": 34,
   "id": "6e6ec7b5",
   "metadata": {},
   "outputs": [
    {
     "data": {
      "text/plain": [
       "52                  utilities/rates.py\n",
       "53    10xdev/src/UiComponents/alert.js\n",
       "54            10xdev/src/NewWelcome.js\n",
       "55           10xdev/src/LeftWelcome.js\n",
       "56         utilities/notebook_utils.py\n",
       "66         10xdev/src/Branch/Branch.js\n",
       "Name: file_path, dtype: object"
      ]
     },
     "metadata": {},
     "output_type": "display_data"
    }
   ],
   "source": [
    "display(fs[pd.isnull(fs[\"role\"])]['file_path'])"
   ]
  },
  {
   "cell_type": "code",
   "execution_count": null,
   "id": "f6cadf7f",
   "metadata": {},
   "outputs": [],
   "source": []
  }
 ],
 "metadata": {
  "kernelspec": {
   "display_name": "Python 3 (ipykernel)",
   "language": "python",
   "name": "python3"
  },
  "language_info": {
   "codemirror_mode": {
    "name": "ipython",
    "version": 3
   },
   "file_extension": ".py",
   "mimetype": "text/x-python",
   "name": "python",
   "nbconvert_exporter": "python",
   "pygments_lexer": "ipython3",
   "version": "3.10.10"
  }
 },
 "nbformat": 4,
 "nbformat_minor": 5
}
